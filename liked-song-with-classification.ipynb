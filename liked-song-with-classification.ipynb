{
 "cells": [
  {
   "cell_type": "code",
   "execution_count": 43,
   "metadata": {},
   "outputs": [],
   "source": [
    "import pandas as pd\n",
    "import seaborn as sns\n",
    "import matplotlib.pyplot as plt\n",
    "import numpy as np\n",
    "import re\n",
    "import pickle\n",
    "\n",
    "%matplotlib inline"
   ]
  },
  {
   "cell_type": "code",
   "execution_count": 2,
   "metadata": {},
   "outputs": [],
   "source": [
    "data = pd.read_csv(\"./data/data.csv\")"
   ]
  },
  {
   "cell_type": "code",
   "execution_count": 3,
   "metadata": {},
   "outputs": [],
   "source": [
    "data.columns\n",
    "\n",
    "feat_cols = ['valence', 'acousticness', 'danceability', 'energy', \n",
    "             'instrumentalness', 'liveness', 'loudness', 'speechiness']\n",
    "\n",
    "X = data[feat_cols]"
   ]
  },
  {
   "cell_type": "code",
   "execution_count": 4,
   "metadata": {},
   "outputs": [
    {
     "data": {
      "text/html": [
       "<div>\n",
       "<style scoped>\n",
       "    .dataframe tbody tr th:only-of-type {\n",
       "        vertical-align: middle;\n",
       "    }\n",
       "\n",
       "    .dataframe tbody tr th {\n",
       "        vertical-align: top;\n",
       "    }\n",
       "\n",
       "    .dataframe thead th {\n",
       "        text-align: right;\n",
       "    }\n",
       "</style>\n",
       "<table border=\"1\" class=\"dataframe\">\n",
       "  <thead>\n",
       "    <tr style=\"text-align: right;\">\n",
       "      <th></th>\n",
       "      <th>valence</th>\n",
       "      <th>acousticness</th>\n",
       "      <th>danceability</th>\n",
       "      <th>energy</th>\n",
       "      <th>instrumentalness</th>\n",
       "      <th>liveness</th>\n",
       "      <th>loudness</th>\n",
       "      <th>speechiness</th>\n",
       "    </tr>\n",
       "  </thead>\n",
       "  <tbody>\n",
       "    <tr>\n",
       "      <th>0</th>\n",
       "      <td>0.0594</td>\n",
       "      <td>0.982</td>\n",
       "      <td>0.279</td>\n",
       "      <td>0.211</td>\n",
       "      <td>0.878000</td>\n",
       "      <td>0.665</td>\n",
       "      <td>-20.096</td>\n",
       "      <td>0.0366</td>\n",
       "    </tr>\n",
       "    <tr>\n",
       "      <th>1</th>\n",
       "      <td>0.9630</td>\n",
       "      <td>0.732</td>\n",
       "      <td>0.819</td>\n",
       "      <td>0.341</td>\n",
       "      <td>0.000000</td>\n",
       "      <td>0.160</td>\n",
       "      <td>-12.441</td>\n",
       "      <td>0.4150</td>\n",
       "    </tr>\n",
       "    <tr>\n",
       "      <th>2</th>\n",
       "      <td>0.0394</td>\n",
       "      <td>0.961</td>\n",
       "      <td>0.328</td>\n",
       "      <td>0.166</td>\n",
       "      <td>0.913000</td>\n",
       "      <td>0.101</td>\n",
       "      <td>-14.850</td>\n",
       "      <td>0.0339</td>\n",
       "    </tr>\n",
       "    <tr>\n",
       "      <th>3</th>\n",
       "      <td>0.1650</td>\n",
       "      <td>0.967</td>\n",
       "      <td>0.275</td>\n",
       "      <td>0.309</td>\n",
       "      <td>0.000028</td>\n",
       "      <td>0.381</td>\n",
       "      <td>-9.316</td>\n",
       "      <td>0.0354</td>\n",
       "    </tr>\n",
       "    <tr>\n",
       "      <th>4</th>\n",
       "      <td>0.2530</td>\n",
       "      <td>0.957</td>\n",
       "      <td>0.418</td>\n",
       "      <td>0.193</td>\n",
       "      <td>0.000002</td>\n",
       "      <td>0.229</td>\n",
       "      <td>-10.096</td>\n",
       "      <td>0.0380</td>\n",
       "    </tr>\n",
       "  </tbody>\n",
       "</table>\n",
       "</div>"
      ],
      "text/plain": [
       "   valence  acousticness  danceability  energy  instrumentalness  liveness  \\\n",
       "0   0.0594         0.982         0.279   0.211          0.878000     0.665   \n",
       "1   0.9630         0.732         0.819   0.341          0.000000     0.160   \n",
       "2   0.0394         0.961         0.328   0.166          0.913000     0.101   \n",
       "3   0.1650         0.967         0.275   0.309          0.000028     0.381   \n",
       "4   0.2530         0.957         0.418   0.193          0.000002     0.229   \n",
       "\n",
       "   loudness  speechiness  \n",
       "0   -20.096       0.0366  \n",
       "1   -12.441       0.4150  \n",
       "2   -14.850       0.0339  \n",
       "3    -9.316       0.0354  \n",
       "4   -10.096       0.0380  "
      ]
     },
     "execution_count": 4,
     "metadata": {},
     "output_type": "execute_result"
    }
   ],
   "source": [
    "X.head()"
   ]
  },
  {
   "cell_type": "code",
   "execution_count": 5,
   "metadata": {},
   "outputs": [
    {
     "name": "stdout",
     "output_type": "stream",
     "text": [
      "<class 'pandas.core.frame.DataFrame'>\n",
      "RangeIndex: 170653 entries, 0 to 170652\n",
      "Data columns (total 8 columns):\n",
      " #   Column            Non-Null Count   Dtype  \n",
      "---  ------            --------------   -----  \n",
      " 0   valence           170653 non-null  float64\n",
      " 1   acousticness      170653 non-null  float64\n",
      " 2   danceability      170653 non-null  float64\n",
      " 3   energy            170653 non-null  float64\n",
      " 4   instrumentalness  170653 non-null  float64\n",
      " 5   liveness          170653 non-null  float64\n",
      " 6   loudness          170653 non-null  float64\n",
      " 7   speechiness       170653 non-null  float64\n",
      "dtypes: float64(8)\n",
      "memory usage: 10.4 MB\n"
     ]
    }
   ],
   "source": [
    "X.info()"
   ]
  },
  {
   "cell_type": "code",
   "execution_count": 6,
   "metadata": {},
   "outputs": [
    {
     "data": {
      "text/html": [
       "<div>\n",
       "<style scoped>\n",
       "    .dataframe tbody tr th:only-of-type {\n",
       "        vertical-align: middle;\n",
       "    }\n",
       "\n",
       "    .dataframe tbody tr th {\n",
       "        vertical-align: top;\n",
       "    }\n",
       "\n",
       "    .dataframe thead th {\n",
       "        text-align: right;\n",
       "    }\n",
       "</style>\n",
       "<table border=\"1\" class=\"dataframe\">\n",
       "  <thead>\n",
       "    <tr style=\"text-align: right;\">\n",
       "      <th></th>\n",
       "      <th>valence</th>\n",
       "      <th>acousticness</th>\n",
       "      <th>danceability</th>\n",
       "      <th>energy</th>\n",
       "      <th>instrumentalness</th>\n",
       "      <th>liveness</th>\n",
       "      <th>loudness</th>\n",
       "      <th>speechiness</th>\n",
       "    </tr>\n",
       "  </thead>\n",
       "  <tbody>\n",
       "    <tr>\n",
       "      <th>count</th>\n",
       "      <td>170653.000000</td>\n",
       "      <td>170653.000000</td>\n",
       "      <td>170653.000000</td>\n",
       "      <td>170653.000000</td>\n",
       "      <td>170653.000000</td>\n",
       "      <td>170653.000000</td>\n",
       "      <td>170653.000000</td>\n",
       "      <td>170653.000000</td>\n",
       "    </tr>\n",
       "    <tr>\n",
       "      <th>mean</th>\n",
       "      <td>0.528587</td>\n",
       "      <td>0.502115</td>\n",
       "      <td>0.537396</td>\n",
       "      <td>0.482389</td>\n",
       "      <td>0.167010</td>\n",
       "      <td>0.205839</td>\n",
       "      <td>-11.467990</td>\n",
       "      <td>0.098393</td>\n",
       "    </tr>\n",
       "    <tr>\n",
       "      <th>std</th>\n",
       "      <td>0.263171</td>\n",
       "      <td>0.376032</td>\n",
       "      <td>0.176138</td>\n",
       "      <td>0.267646</td>\n",
       "      <td>0.313475</td>\n",
       "      <td>0.174805</td>\n",
       "      <td>5.697943</td>\n",
       "      <td>0.162740</td>\n",
       "    </tr>\n",
       "    <tr>\n",
       "      <th>min</th>\n",
       "      <td>0.000000</td>\n",
       "      <td>0.000000</td>\n",
       "      <td>0.000000</td>\n",
       "      <td>0.000000</td>\n",
       "      <td>0.000000</td>\n",
       "      <td>0.000000</td>\n",
       "      <td>-60.000000</td>\n",
       "      <td>0.000000</td>\n",
       "    </tr>\n",
       "    <tr>\n",
       "      <th>25%</th>\n",
       "      <td>0.317000</td>\n",
       "      <td>0.102000</td>\n",
       "      <td>0.415000</td>\n",
       "      <td>0.255000</td>\n",
       "      <td>0.000000</td>\n",
       "      <td>0.098800</td>\n",
       "      <td>-14.615000</td>\n",
       "      <td>0.034900</td>\n",
       "    </tr>\n",
       "    <tr>\n",
       "      <th>50%</th>\n",
       "      <td>0.540000</td>\n",
       "      <td>0.516000</td>\n",
       "      <td>0.548000</td>\n",
       "      <td>0.471000</td>\n",
       "      <td>0.000216</td>\n",
       "      <td>0.136000</td>\n",
       "      <td>-10.580000</td>\n",
       "      <td>0.045000</td>\n",
       "    </tr>\n",
       "    <tr>\n",
       "      <th>75%</th>\n",
       "      <td>0.747000</td>\n",
       "      <td>0.893000</td>\n",
       "      <td>0.668000</td>\n",
       "      <td>0.703000</td>\n",
       "      <td>0.102000</td>\n",
       "      <td>0.261000</td>\n",
       "      <td>-7.183000</td>\n",
       "      <td>0.075600</td>\n",
       "    </tr>\n",
       "    <tr>\n",
       "      <th>max</th>\n",
       "      <td>1.000000</td>\n",
       "      <td>0.996000</td>\n",
       "      <td>0.988000</td>\n",
       "      <td>1.000000</td>\n",
       "      <td>1.000000</td>\n",
       "      <td>1.000000</td>\n",
       "      <td>3.855000</td>\n",
       "      <td>0.970000</td>\n",
       "    </tr>\n",
       "  </tbody>\n",
       "</table>\n",
       "</div>"
      ],
      "text/plain": [
       "             valence   acousticness   danceability         energy  \\\n",
       "count  170653.000000  170653.000000  170653.000000  170653.000000   \n",
       "mean        0.528587       0.502115       0.537396       0.482389   \n",
       "std         0.263171       0.376032       0.176138       0.267646   \n",
       "min         0.000000       0.000000       0.000000       0.000000   \n",
       "25%         0.317000       0.102000       0.415000       0.255000   \n",
       "50%         0.540000       0.516000       0.548000       0.471000   \n",
       "75%         0.747000       0.893000       0.668000       0.703000   \n",
       "max         1.000000       0.996000       0.988000       1.000000   \n",
       "\n",
       "       instrumentalness       liveness       loudness    speechiness  \n",
       "count     170653.000000  170653.000000  170653.000000  170653.000000  \n",
       "mean           0.167010       0.205839     -11.467990       0.098393  \n",
       "std            0.313475       0.174805       5.697943       0.162740  \n",
       "min            0.000000       0.000000     -60.000000       0.000000  \n",
       "25%            0.000000       0.098800     -14.615000       0.034900  \n",
       "50%            0.000216       0.136000     -10.580000       0.045000  \n",
       "75%            0.102000       0.261000      -7.183000       0.075600  \n",
       "max            1.000000       1.000000       3.855000       0.970000  "
      ]
     },
     "execution_count": 6,
     "metadata": {},
     "output_type": "execute_result"
    }
   ],
   "source": [
    "X.describe()"
   ]
  },
  {
   "cell_type": "code",
   "execution_count": 7,
   "metadata": {},
   "outputs": [
    {
     "name": "stderr",
     "output_type": "stream",
     "text": [
      "<ipython-input-7-343353e4c333>:7: SettingWithCopyWarning: \n",
      "A value is trying to be set on a copy of a slice from a DataFrame.\n",
      "Try using .loc[row_indexer,col_indexer] = value instead\n",
      "\n",
      "See the caveats in the documentation: https://pandas.pydata.org/pandas-docs/stable/user_guide/indexing.html#returning-a-view-versus-a-copy\n",
      "  X[\"loudness\"] = minmaxScaler.fit_transform(loudness.reshape(-1, 1))\n"
     ]
    }
   ],
   "source": [
    "## Scale loudness to be between 0 and 1\n",
    "\n",
    "from sklearn.preprocessing import MinMaxScaler\n",
    "minmaxScaler = MinMaxScaler()\n",
    "\n",
    "loudness = X[\"loudness\"].values\n",
    "X[\"loudness\"] = minmaxScaler.fit_transform(loudness.reshape(-1, 1))"
   ]
  },
  {
   "cell_type": "code",
   "execution_count": 8,
   "metadata": {},
   "outputs": [
    {
     "data": {
      "text/html": [
       "<div>\n",
       "<style scoped>\n",
       "    .dataframe tbody tr th:only-of-type {\n",
       "        vertical-align: middle;\n",
       "    }\n",
       "\n",
       "    .dataframe tbody tr th {\n",
       "        vertical-align: top;\n",
       "    }\n",
       "\n",
       "    .dataframe thead th {\n",
       "        text-align: right;\n",
       "    }\n",
       "</style>\n",
       "<table border=\"1\" class=\"dataframe\">\n",
       "  <thead>\n",
       "    <tr style=\"text-align: right;\">\n",
       "      <th></th>\n",
       "      <th>valence</th>\n",
       "      <th>acousticness</th>\n",
       "      <th>danceability</th>\n",
       "      <th>energy</th>\n",
       "      <th>instrumentalness</th>\n",
       "      <th>liveness</th>\n",
       "      <th>loudness</th>\n",
       "      <th>speechiness</th>\n",
       "    </tr>\n",
       "  </thead>\n",
       "  <tbody>\n",
       "    <tr>\n",
       "      <th>count</th>\n",
       "      <td>170653.000000</td>\n",
       "      <td>170653.000000</td>\n",
       "      <td>170653.000000</td>\n",
       "      <td>170653.000000</td>\n",
       "      <td>170653.000000</td>\n",
       "      <td>170653.000000</td>\n",
       "      <td>170653.000000</td>\n",
       "      <td>170653.000000</td>\n",
       "    </tr>\n",
       "    <tr>\n",
       "      <th>mean</th>\n",
       "      <td>0.528587</td>\n",
       "      <td>0.502115</td>\n",
       "      <td>0.537396</td>\n",
       "      <td>0.482389</td>\n",
       "      <td>0.167010</td>\n",
       "      <td>0.205839</td>\n",
       "      <td>0.760035</td>\n",
       "      <td>0.098393</td>\n",
       "    </tr>\n",
       "    <tr>\n",
       "      <th>std</th>\n",
       "      <td>0.263171</td>\n",
       "      <td>0.376032</td>\n",
       "      <td>0.176138</td>\n",
       "      <td>0.267646</td>\n",
       "      <td>0.313475</td>\n",
       "      <td>0.174805</td>\n",
       "      <td>0.089233</td>\n",
       "      <td>0.162740</td>\n",
       "    </tr>\n",
       "    <tr>\n",
       "      <th>min</th>\n",
       "      <td>0.000000</td>\n",
       "      <td>0.000000</td>\n",
       "      <td>0.000000</td>\n",
       "      <td>0.000000</td>\n",
       "      <td>0.000000</td>\n",
       "      <td>0.000000</td>\n",
       "      <td>0.000000</td>\n",
       "      <td>0.000000</td>\n",
       "    </tr>\n",
       "    <tr>\n",
       "      <th>25%</th>\n",
       "      <td>0.317000</td>\n",
       "      <td>0.102000</td>\n",
       "      <td>0.415000</td>\n",
       "      <td>0.255000</td>\n",
       "      <td>0.000000</td>\n",
       "      <td>0.098800</td>\n",
       "      <td>0.710751</td>\n",
       "      <td>0.034900</td>\n",
       "    </tr>\n",
       "    <tr>\n",
       "      <th>50%</th>\n",
       "      <td>0.540000</td>\n",
       "      <td>0.516000</td>\n",
       "      <td>0.548000</td>\n",
       "      <td>0.471000</td>\n",
       "      <td>0.000216</td>\n",
       "      <td>0.136000</td>\n",
       "      <td>0.773941</td>\n",
       "      <td>0.045000</td>\n",
       "    </tr>\n",
       "    <tr>\n",
       "      <th>75%</th>\n",
       "      <td>0.747000</td>\n",
       "      <td>0.893000</td>\n",
       "      <td>0.668000</td>\n",
       "      <td>0.703000</td>\n",
       "      <td>0.102000</td>\n",
       "      <td>0.261000</td>\n",
       "      <td>0.827140</td>\n",
       "      <td>0.075600</td>\n",
       "    </tr>\n",
       "    <tr>\n",
       "      <th>max</th>\n",
       "      <td>1.000000</td>\n",
       "      <td>0.996000</td>\n",
       "      <td>0.988000</td>\n",
       "      <td>1.000000</td>\n",
       "      <td>1.000000</td>\n",
       "      <td>1.000000</td>\n",
       "      <td>1.000000</td>\n",
       "      <td>0.970000</td>\n",
       "    </tr>\n",
       "  </tbody>\n",
       "</table>\n",
       "</div>"
      ],
      "text/plain": [
       "             valence   acousticness   danceability         energy  \\\n",
       "count  170653.000000  170653.000000  170653.000000  170653.000000   \n",
       "mean        0.528587       0.502115       0.537396       0.482389   \n",
       "std         0.263171       0.376032       0.176138       0.267646   \n",
       "min         0.000000       0.000000       0.000000       0.000000   \n",
       "25%         0.317000       0.102000       0.415000       0.255000   \n",
       "50%         0.540000       0.516000       0.548000       0.471000   \n",
       "75%         0.747000       0.893000       0.668000       0.703000   \n",
       "max         1.000000       0.996000       0.988000       1.000000   \n",
       "\n",
       "       instrumentalness       liveness       loudness    speechiness  \n",
       "count     170653.000000  170653.000000  170653.000000  170653.000000  \n",
       "mean           0.167010       0.205839       0.760035       0.098393  \n",
       "std            0.313475       0.174805       0.089233       0.162740  \n",
       "min            0.000000       0.000000       0.000000       0.000000  \n",
       "25%            0.000000       0.098800       0.710751       0.034900  \n",
       "50%            0.000216       0.136000       0.773941       0.045000  \n",
       "75%            0.102000       0.261000       0.827140       0.075600  \n",
       "max            1.000000       1.000000       1.000000       0.970000  "
      ]
     },
     "execution_count": 8,
     "metadata": {},
     "output_type": "execute_result"
    }
   ],
   "source": [
    "X.describe()"
   ]
  },
  {
   "cell_type": "markdown",
   "metadata": {},
   "source": [
    "## Clustering"
   ]
  },
  {
   "cell_type": "code",
   "execution_count": 9,
   "metadata": {},
   "outputs": [
    {
     "name": "stdout",
     "output_type": "stream",
     "text": [
      "Completed:1\n",
      "Completed:2\n",
      "Completed:3\n",
      "Completed:4\n",
      "Completed:5\n",
      "Completed:6\n",
      "Completed:7\n",
      "Completed:8\n",
      "Completed:9\n",
      "Completed:10\n",
      "Completed:11\n",
      "Completed:12\n",
      "Completed:13\n",
      "Completed:14\n",
      "Completed:15\n",
      "Completed:16\n",
      "Completed:17\n",
      "Completed:18\n",
      "Completed:19\n"
     ]
    }
   ],
   "source": [
    "from sklearn.cluster import KMeans\n",
    "\n",
    "# use elbow method to find K\n",
    "ks = range(1, 20)\n",
    "sse = []\n",
    "\n",
    "for k in ks:\n",
    "    kmeans = KMeans(n_clusters=k)\n",
    "    kmeans.fit(X)\n",
    "    sse.append(kmeans.inertia_)\n",
    "    print(f'Completed:{k}')"
   ]
  },
  {
   "cell_type": "code",
   "execution_count": 10,
   "metadata": {},
   "outputs": [
    {
     "data": {
      "text/plain": [
       "Text(0, 0.5, 'SSE')"
      ]
     },
     "execution_count": 10,
     "metadata": {},
     "output_type": "execute_result"
    },
    {
     "data": {
      "image/png": "[encoded data removed]",
      "text/plain": [
       "<Figure size 432x288 with 1 Axes>"
      ]
     },
     "metadata": {
      "needs_background": "light"
     },
     "output_type": "display_data"
    }
   ],
   "source": [
    "plt.plot(ks, sse, '-o', color='black')\n",
    "plt.xticks(ks)\n",
    "plt.xlabel(\"Number of Clusters\")\n",
    "plt.ylabel(\"SSE\")"
   ]
  },
  {
   "cell_type": "markdown",
   "metadata": {},
   "source": [
    "From this I'm deciding to go with a K value of 5"
   ]
  },
  {
   "cell_type": "code",
   "execution_count": 99,
   "metadata": {},
   "outputs": [
    {
     "data": {
      "text/plain": [
       "28669.792370747913"
      ]
     },
     "execution_count": 99,
     "metadata": {},
     "output_type": "execute_result"
    }
   ],
   "source": [
    "cluster_model = KMeans(n_clusters=6)\n",
    "cluster_model.fit(X)\n",
    "\n",
    "cluster_model.inertia_"
   ]
  },
  {
   "cell_type": "code",
   "execution_count": 100,
   "metadata": {},
   "outputs": [],
   "source": [
    "pickle.dump(cluster_model, open(\"cluster_model.sav\", 'wb'))"
   ]
  },
  {
   "cell_type": "code",
   "execution_count": 101,
   "metadata": {},
   "outputs": [],
   "source": [
    "# Make predictions\n",
    "cluster_predictions = cluster_model.predict(X)"
   ]
  },
  {
   "cell_type": "code",
   "execution_count": 102,
   "metadata": {},
   "outputs": [
    {
     "data": {
      "text/plain": [
       "(170653,)"
      ]
     },
     "execution_count": 102,
     "metadata": {},
     "output_type": "execute_result"
    }
   ],
   "source": [
    "cluster_predictions.shape"
   ]
  },
  {
   "cell_type": "code",
   "execution_count": 103,
   "metadata": {},
   "outputs": [],
   "source": [
    "# Assign cluster back to main dataset\n",
    "data['cluster'] = cluster_predictions"
   ]
  },
  {
   "cell_type": "code",
   "execution_count": 104,
   "metadata": {},
   "outputs": [
    {
     "data": {
      "text/html": [
       "<div>\n",
       "<style scoped>\n",
       "    .dataframe tbody tr th:only-of-type {\n",
       "        vertical-align: middle;\n",
       "    }\n",
       "\n",
       "    .dataframe tbody tr th {\n",
       "        vertical-align: top;\n",
       "    }\n",
       "\n",
       "    .dataframe thead th {\n",
       "        text-align: right;\n",
       "    }\n",
       "</style>\n",
       "<table border=\"1\" class=\"dataframe\">\n",
       "  <thead>\n",
       "    <tr style=\"text-align: right;\">\n",
       "      <th></th>\n",
       "      <th>valence</th>\n",
       "      <th>year</th>\n",
       "      <th>acousticness</th>\n",
       "      <th>artists</th>\n",
       "      <th>danceability</th>\n",
       "      <th>duration_ms</th>\n",
       "      <th>energy</th>\n",
       "      <th>explicit</th>\n",
       "      <th>id</th>\n",
       "      <th>instrumentalness</th>\n",
       "      <th>key</th>\n",
       "      <th>liveness</th>\n",
       "      <th>loudness</th>\n",
       "      <th>mode</th>\n",
       "      <th>name</th>\n",
       "      <th>popularity</th>\n",
       "      <th>release_date</th>\n",
       "      <th>speechiness</th>\n",
       "      <th>tempo</th>\n",
       "      <th>cluster</th>\n",
       "    </tr>\n",
       "  </thead>\n",
       "  <tbody>\n",
       "    <tr>\n",
       "      <th>0</th>\n",
       "      <td>0.0594</td>\n",
       "      <td>1921</td>\n",
       "      <td>0.982</td>\n",
       "      <td>['Sergei Rachmaninoff', 'James Levine', 'Berli...</td>\n",
       "      <td>0.279</td>\n",
       "      <td>831667</td>\n",
       "      <td>0.211</td>\n",
       "      <td>0</td>\n",
       "      <td>4BJqT0PrAfrxzMOxytFOIz</td>\n",
       "      <td>0.878000</td>\n",
       "      <td>10</td>\n",
       "      <td>0.665</td>\n",
       "      <td>-20.096</td>\n",
       "      <td>1</td>\n",
       "      <td>Piano Concerto No. 3 in D Minor, Op. 30: III. ...</td>\n",
       "      <td>4</td>\n",
       "      <td>1921</td>\n",
       "      <td>0.0366</td>\n",
       "      <td>80.954</td>\n",
       "      <td>2</td>\n",
       "    </tr>\n",
       "    <tr>\n",
       "      <th>1</th>\n",
       "      <td>0.9630</td>\n",
       "      <td>1921</td>\n",
       "      <td>0.732</td>\n",
       "      <td>['Dennis Day']</td>\n",
       "      <td>0.819</td>\n",
       "      <td>180533</td>\n",
       "      <td>0.341</td>\n",
       "      <td>0</td>\n",
       "      <td>7xPhfUan2yNtyFG0cUWkt8</td>\n",
       "      <td>0.000000</td>\n",
       "      <td>7</td>\n",
       "      <td>0.160</td>\n",
       "      <td>-12.441</td>\n",
       "      <td>1</td>\n",
       "      <td>Clancy Lowered the Boom</td>\n",
       "      <td>5</td>\n",
       "      <td>1921</td>\n",
       "      <td>0.4150</td>\n",
       "      <td>60.936</td>\n",
       "      <td>4</td>\n",
       "    </tr>\n",
       "    <tr>\n",
       "      <th>2</th>\n",
       "      <td>0.0394</td>\n",
       "      <td>1921</td>\n",
       "      <td>0.961</td>\n",
       "      <td>['KHP Kridhamardawa Karaton Ngayogyakarta Hadi...</td>\n",
       "      <td>0.328</td>\n",
       "      <td>500062</td>\n",
       "      <td>0.166</td>\n",
       "      <td>0</td>\n",
       "      <td>1o6I8BglA6ylDMrIELygv1</td>\n",
       "      <td>0.913000</td>\n",
       "      <td>3</td>\n",
       "      <td>0.101</td>\n",
       "      <td>-14.850</td>\n",
       "      <td>1</td>\n",
       "      <td>Gati Bali</td>\n",
       "      <td>5</td>\n",
       "      <td>1921</td>\n",
       "      <td>0.0339</td>\n",
       "      <td>110.339</td>\n",
       "      <td>2</td>\n",
       "    </tr>\n",
       "    <tr>\n",
       "      <th>3</th>\n",
       "      <td>0.1650</td>\n",
       "      <td>1921</td>\n",
       "      <td>0.967</td>\n",
       "      <td>['Frank Parker']</td>\n",
       "      <td>0.275</td>\n",
       "      <td>210000</td>\n",
       "      <td>0.309</td>\n",
       "      <td>0</td>\n",
       "      <td>3ftBPsC5vPBKxYSee08FDH</td>\n",
       "      <td>0.000028</td>\n",
       "      <td>5</td>\n",
       "      <td>0.381</td>\n",
       "      <td>-9.316</td>\n",
       "      <td>1</td>\n",
       "      <td>Danny Boy</td>\n",
       "      <td>3</td>\n",
       "      <td>1921</td>\n",
       "      <td>0.0354</td>\n",
       "      <td>100.109</td>\n",
       "      <td>1</td>\n",
       "    </tr>\n",
       "    <tr>\n",
       "      <th>4</th>\n",
       "      <td>0.2530</td>\n",
       "      <td>1921</td>\n",
       "      <td>0.957</td>\n",
       "      <td>['Phil Regan']</td>\n",
       "      <td>0.418</td>\n",
       "      <td>166693</td>\n",
       "      <td>0.193</td>\n",
       "      <td>0</td>\n",
       "      <td>4d6HGyGT8e121BsdKmw9v6</td>\n",
       "      <td>0.000002</td>\n",
       "      <td>3</td>\n",
       "      <td>0.229</td>\n",
       "      <td>-10.096</td>\n",
       "      <td>1</td>\n",
       "      <td>When Irish Eyes Are Smiling</td>\n",
       "      <td>2</td>\n",
       "      <td>1921</td>\n",
       "      <td>0.0380</td>\n",
       "      <td>101.665</td>\n",
       "      <td>1</td>\n",
       "    </tr>\n",
       "  </tbody>\n",
       "</table>\n",
       "</div>"
      ],
      "text/plain": [
       "   valence  year  acousticness  \\\n",
       "0   0.0594  1921         0.982   \n",
       "1   0.9630  1921         0.732   \n",
       "2   0.0394  1921         0.961   \n",
       "3   0.1650  1921         0.967   \n",
       "4   0.2530  1921         0.957   \n",
       "\n",
       "                                             artists  danceability  \\\n",
       "0  ['Sergei Rachmaninoff', 'James Levine', 'Berli...         0.279   \n",
       "1                                     ['Dennis Day']         0.819   \n",
       "2  ['KHP Kridhamardawa Karaton Ngayogyakarta Hadi...         0.328   \n",
       "3                                   ['Frank Parker']         0.275   \n",
       "4                                     ['Phil Regan']         0.418   \n",
       "\n",
       "   duration_ms  energy  explicit                      id  instrumentalness  \\\n",
       "0       831667   0.211         0  4BJqT0PrAfrxzMOxytFOIz          0.878000   \n",
       "1       180533   0.341         0  7xPhfUan2yNtyFG0cUWkt8          0.000000   \n",
       "2       500062   0.166         0  1o6I8BglA6ylDMrIELygv1          0.913000   \n",
       "3       210000   0.309         0  3ftBPsC5vPBKxYSee08FDH          0.000028   \n",
       "4       166693   0.193         0  4d6HGyGT8e121BsdKmw9v6          0.000002   \n",
       "\n",
       "   key  liveness  loudness  mode  \\\n",
       "0   10     0.665   -20.096     1   \n",
       "1    7     0.160   -12.441     1   \n",
       "2    3     0.101   -14.850     1   \n",
       "3    5     0.381    -9.316     1   \n",
       "4    3     0.229   -10.096     1   \n",
       "\n",
       "                                                name  popularity release_date  \\\n",
       "0  Piano Concerto No. 3 in D Minor, Op. 30: III. ...           4         1921   \n",
       "1                            Clancy Lowered the Boom           5         1921   \n",
       "2                                          Gati Bali           5         1921   \n",
       "3                                          Danny Boy           3         1921   \n",
       "4                        When Irish Eyes Are Smiling           2         1921   \n",
       "\n",
       "   speechiness    tempo  cluster  \n",
       "0       0.0366   80.954        2  \n",
       "1       0.4150   60.936        4  \n",
       "2       0.0339  110.339        2  \n",
       "3       0.0354  100.109        1  \n",
       "4       0.0380  101.665        1  "
      ]
     },
     "execution_count": 104,
     "metadata": {},
     "output_type": "execute_result"
    }
   ],
   "source": [
    "data.head()"
   ]
  },
  {
   "cell_type": "markdown",
   "metadata": {},
   "source": [
    "## Visualizing Clusters"
   ]
  },
  {
   "cell_type": "code",
   "execution_count": 105,
   "metadata": {},
   "outputs": [],
   "source": [
    "# we can't visualize 8 features, so we break things down using PCA to get the most important features\n",
    "\n",
    "from sklearn.decomposition import PCA\n",
    "\n",
    "pca = PCA(n_components=2)\n",
    "pca_data = pca.fit_transform(X)"
   ]
  },
  {
   "cell_type": "code",
   "execution_count": 106,
   "metadata": {},
   "outputs": [],
   "source": [
    "pca_df = pd.DataFrame(pca_data)\n",
    "pca_df['cluster'] = cluster_predictions"
   ]
  },
  {
   "cell_type": "code",
   "execution_count": 107,
   "metadata": {},
   "outputs": [
    {
     "data": {
      "text/plain": [
       "<matplotlib.colorbar.Colorbar at 0x7fa29a9bdeb0>"
      ]
     },
     "execution_count": 107,
     "metadata": {},
     "output_type": "execute_result"
    },
    {
     "data": {
      "image/png": "[encoded data removed]",
      "text/plain": [
       "<Figure size 432x288 with 2 Axes>"
      ]
     },
     "metadata": {
      "needs_background": "light"
     },
     "output_type": "display_data"
    }
   ],
   "source": [
    "fig = plt.figure()\n",
    "ax = fig.add_subplot(111)\n",
    "\n",
    "scatter = ax.scatter(pca_df.iloc[:,0].values, pca_df.iloc[:,1].values, c=cluster_predictions, s=50)\n",
    "ax.set_xlabel('x')\n",
    "ax.set_ylabel('y')\n",
    "plt.colorbar(scatter)"
   ]
  },
  {
   "cell_type": "markdown",
   "metadata": {},
   "source": [
    "Cluster 0, 1, 2 and 3 are well defined. Also, a lot of songs don't fall into cluster 4"
   ]
  },
  {
   "cell_type": "markdown",
   "metadata": {},
   "source": [
    "### Analyse clusters"
   ]
  },
  {
   "cell_type": "code",
   "execution_count": 108,
   "metadata": {},
   "outputs": [
    {
     "data": {
      "text/html": [
       "<div>\n",
       "<style scoped>\n",
       "    .dataframe tbody tr th:only-of-type {\n",
       "        vertical-align: middle;\n",
       "    }\n",
       "\n",
       "    .dataframe tbody tr th {\n",
       "        vertical-align: top;\n",
       "    }\n",
       "\n",
       "    .dataframe thead th {\n",
       "        text-align: right;\n",
       "    }\n",
       "</style>\n",
       "<table border=\"1\" class=\"dataframe\">\n",
       "  <thead>\n",
       "    <tr style=\"text-align: right;\">\n",
       "      <th></th>\n",
       "      <th>valence</th>\n",
       "      <th>acousticness</th>\n",
       "      <th>danceability</th>\n",
       "      <th>energy</th>\n",
       "      <th>instrumentalness</th>\n",
       "      <th>liveness</th>\n",
       "      <th>loudness</th>\n",
       "      <th>speechiness</th>\n",
       "    </tr>\n",
       "  </thead>\n",
       "  <tbody>\n",
       "    <tr>\n",
       "      <th>count</th>\n",
       "      <td>5281.000000</td>\n",
       "      <td>5281.000000</td>\n",
       "      <td>5281.000000</td>\n",
       "      <td>5281.000000</td>\n",
       "      <td>5281.000000</td>\n",
       "      <td>5281.000000</td>\n",
       "      <td>5281.000000</td>\n",
       "      <td>5281.000000</td>\n",
       "    </tr>\n",
       "    <tr>\n",
       "      <th>mean</th>\n",
       "      <td>0.525790</td>\n",
       "      <td>0.512363</td>\n",
       "      <td>0.677398</td>\n",
       "      <td>0.249550</td>\n",
       "      <td>0.003531</td>\n",
       "      <td>0.304689</td>\n",
       "      <td>0.648799</td>\n",
       "      <td>0.897181</td>\n",
       "    </tr>\n",
       "    <tr>\n",
       "      <th>std</th>\n",
       "      <td>0.169094</td>\n",
       "      <td>0.302085</td>\n",
       "      <td>0.070131</td>\n",
       "      <td>0.150271</td>\n",
       "      <td>0.035775</td>\n",
       "      <td>0.201282</td>\n",
       "      <td>0.061382</td>\n",
       "      <td>0.105306</td>\n",
       "    </tr>\n",
       "    <tr>\n",
       "      <th>min</th>\n",
       "      <td>0.000000</td>\n",
       "      <td>0.000505</td>\n",
       "      <td>0.312000</td>\n",
       "      <td>0.004710</td>\n",
       "      <td>0.000000</td>\n",
       "      <td>0.032500</td>\n",
       "      <td>0.332582</td>\n",
       "      <td>0.335000</td>\n",
       "    </tr>\n",
       "    <tr>\n",
       "      <th>25%</th>\n",
       "      <td>0.404000</td>\n",
       "      <td>0.243000</td>\n",
       "      <td>0.639000</td>\n",
       "      <td>0.158000</td>\n",
       "      <td>0.000000</td>\n",
       "      <td>0.152000</td>\n",
       "      <td>0.608739</td>\n",
       "      <td>0.904000</td>\n",
       "    </tr>\n",
       "    <tr>\n",
       "      <th>50%</th>\n",
       "      <td>0.542000</td>\n",
       "      <td>0.524000</td>\n",
       "      <td>0.696000</td>\n",
       "      <td>0.212000</td>\n",
       "      <td>0.000000</td>\n",
       "      <td>0.247000</td>\n",
       "      <td>0.647561</td>\n",
       "      <td>0.939000</td>\n",
       "    </tr>\n",
       "    <tr>\n",
       "      <th>75%</th>\n",
       "      <td>0.650000</td>\n",
       "      <td>0.785000</td>\n",
       "      <td>0.718000</td>\n",
       "      <td>0.296000</td>\n",
       "      <td>0.000000</td>\n",
       "      <td>0.382000</td>\n",
       "      <td>0.681591</td>\n",
       "      <td>0.953000</td>\n",
       "    </tr>\n",
       "    <tr>\n",
       "      <th>max</th>\n",
       "      <td>1.000000</td>\n",
       "      <td>0.995000</td>\n",
       "      <td>0.977000</td>\n",
       "      <td>0.996000</td>\n",
       "      <td>0.759000</td>\n",
       "      <td>0.985000</td>\n",
       "      <td>0.886540</td>\n",
       "      <td>0.970000</td>\n",
       "    </tr>\n",
       "  </tbody>\n",
       "</table>\n",
       "</div>"
      ],
      "text/plain": [
       "           valence  acousticness  danceability       energy  instrumentalness  \\\n",
       "count  5281.000000   5281.000000   5281.000000  5281.000000       5281.000000   \n",
       "mean      0.525790      0.512363      0.677398     0.249550          0.003531   \n",
       "std       0.169094      0.302085      0.070131     0.150271          0.035775   \n",
       "min       0.000000      0.000505      0.312000     0.004710          0.000000   \n",
       "25%       0.404000      0.243000      0.639000     0.158000          0.000000   \n",
       "50%       0.542000      0.524000      0.696000     0.212000          0.000000   \n",
       "75%       0.650000      0.785000      0.718000     0.296000          0.000000   \n",
       "max       1.000000      0.995000      0.977000     0.996000          0.759000   \n",
       "\n",
       "          liveness     loudness  speechiness  \n",
       "count  5281.000000  5281.000000  5281.000000  \n",
       "mean      0.304689     0.648799     0.897181  \n",
       "std       0.201282     0.061382     0.105306  \n",
       "min       0.032500     0.332582     0.335000  \n",
       "25%       0.152000     0.608739     0.904000  \n",
       "50%       0.247000     0.647561     0.939000  \n",
       "75%       0.382000     0.681591     0.953000  \n",
       "max       0.985000     0.886540     0.970000  "
      ]
     },
     "execution_count": 108,
     "metadata": {},
     "output_type": "execute_result"
    }
   ],
   "source": [
    "clu0 = X[data.cluster == 0]\n",
    "clu0.describe()"
   ]
  },
  {
   "cell_type": "code",
   "execution_count": 109,
   "metadata": {},
   "outputs": [
    {
     "data": {
      "text/plain": [
       "<matplotlib.axes._subplots.AxesSubplot at 0x7fa29814ffa0>"
      ]
     },
     "execution_count": 109,
     "metadata": {},
     "output_type": "execute_result"
    },
    {
     "data": {
      "image/png": "[encoded data removed]",
      "text/plain": [
       "<Figure size 432x288 with 1 Axes>"
      ]
     },
     "metadata": {
      "needs_background": "light"
     },
     "output_type": "display_data"
    }
   ],
   "source": [
    "clu0[feat_cols].mean().sort_values(ascending=False).plot(kind='bar')"
   ]
  },
  {
   "cell_type": "markdown",
   "metadata": {},
   "source": [
    "Cluster 0 has more Acoustic and loud songs"
   ]
  },
  {
   "cell_type": "code",
   "execution_count": 110,
   "metadata": {},
   "outputs": [
    {
     "data": {
      "text/html": [
       "<div>\n",
       "<style scoped>\n",
       "    .dataframe tbody tr th:only-of-type {\n",
       "        vertical-align: middle;\n",
       "    }\n",
       "\n",
       "    .dataframe tbody tr th {\n",
       "        vertical-align: top;\n",
       "    }\n",
       "\n",
       "    .dataframe thead th {\n",
       "        text-align: right;\n",
       "    }\n",
       "</style>\n",
       "<table border=\"1\" class=\"dataframe\">\n",
       "  <thead>\n",
       "    <tr style=\"text-align: right;\">\n",
       "      <th></th>\n",
       "      <th>valence</th>\n",
       "      <th>acousticness</th>\n",
       "      <th>danceability</th>\n",
       "      <th>energy</th>\n",
       "      <th>instrumentalness</th>\n",
       "      <th>liveness</th>\n",
       "      <th>loudness</th>\n",
       "      <th>speechiness</th>\n",
       "    </tr>\n",
       "  </thead>\n",
       "  <tbody>\n",
       "    <tr>\n",
       "      <th>count</th>\n",
       "      <td>30818.000000</td>\n",
       "      <td>30818.000000</td>\n",
       "      <td>30818.000000</td>\n",
       "      <td>30818.000000</td>\n",
       "      <td>30818.000000</td>\n",
       "      <td>30818.000000</td>\n",
       "      <td>30818.000000</td>\n",
       "      <td>30818.000000</td>\n",
       "    </tr>\n",
       "    <tr>\n",
       "      <th>mean</th>\n",
       "      <td>0.291621</td>\n",
       "      <td>0.835840</td>\n",
       "      <td>0.420049</td>\n",
       "      <td>0.228454</td>\n",
       "      <td>0.034941</td>\n",
       "      <td>0.192203</td>\n",
       "      <td>0.711162</td>\n",
       "      <td>0.050416</td>\n",
       "    </tr>\n",
       "    <tr>\n",
       "      <th>std</th>\n",
       "      <td>0.143197</td>\n",
       "      <td>0.157344</td>\n",
       "      <td>0.141700</td>\n",
       "      <td>0.127495</td>\n",
       "      <td>0.086324</td>\n",
       "      <td>0.158018</td>\n",
       "      <td>0.074655</td>\n",
       "      <td>0.048361</td>\n",
       "    </tr>\n",
       "    <tr>\n",
       "      <th>min</th>\n",
       "      <td>0.000000</td>\n",
       "      <td>0.000000</td>\n",
       "      <td>0.000000</td>\n",
       "      <td>0.000000</td>\n",
       "      <td>0.000000</td>\n",
       "      <td>0.000000</td>\n",
       "      <td>0.000000</td>\n",
       "      <td>0.000000</td>\n",
       "    </tr>\n",
       "    <tr>\n",
       "      <th>25%</th>\n",
       "      <td>0.176000</td>\n",
       "      <td>0.751000</td>\n",
       "      <td>0.315000</td>\n",
       "      <td>0.131000</td>\n",
       "      <td>0.000002</td>\n",
       "      <td>0.104000</td>\n",
       "      <td>0.670394</td>\n",
       "      <td>0.032400</td>\n",
       "    </tr>\n",
       "    <tr>\n",
       "      <th>50%</th>\n",
       "      <td>0.290000</td>\n",
       "      <td>0.890000</td>\n",
       "      <td>0.420000</td>\n",
       "      <td>0.215000</td>\n",
       "      <td>0.000137</td>\n",
       "      <td>0.129000</td>\n",
       "      <td>0.719388</td>\n",
       "      <td>0.037800</td>\n",
       "    </tr>\n",
       "    <tr>\n",
       "      <th>75%</th>\n",
       "      <td>0.399000</td>\n",
       "      <td>0.963000</td>\n",
       "      <td>0.522000</td>\n",
       "      <td>0.310000</td>\n",
       "      <td>0.010300</td>\n",
       "      <td>0.218000</td>\n",
       "      <td>0.762446</td>\n",
       "      <td>0.047900</td>\n",
       "    </tr>\n",
       "    <tr>\n",
       "      <th>max</th>\n",
       "      <td>0.793000</td>\n",
       "      <td>0.996000</td>\n",
       "      <td>0.911000</td>\n",
       "      <td>0.997000</td>\n",
       "      <td>0.474000</td>\n",
       "      <td>0.998000</td>\n",
       "      <td>0.917563</td>\n",
       "      <td>0.634000</td>\n",
       "    </tr>\n",
       "  </tbody>\n",
       "</table>\n",
       "</div>"
      ],
      "text/plain": [
       "            valence  acousticness  danceability        energy  \\\n",
       "count  30818.000000  30818.000000  30818.000000  30818.000000   \n",
       "mean       0.291621      0.835840      0.420049      0.228454   \n",
       "std        0.143197      0.157344      0.141700      0.127495   \n",
       "min        0.000000      0.000000      0.000000      0.000000   \n",
       "25%        0.176000      0.751000      0.315000      0.131000   \n",
       "50%        0.290000      0.890000      0.420000      0.215000   \n",
       "75%        0.399000      0.963000      0.522000      0.310000   \n",
       "max        0.793000      0.996000      0.911000      0.997000   \n",
       "\n",
       "       instrumentalness      liveness      loudness   speechiness  \n",
       "count      30818.000000  30818.000000  30818.000000  30818.000000  \n",
       "mean           0.034941      0.192203      0.711162      0.050416  \n",
       "std            0.086324      0.158018      0.074655      0.048361  \n",
       "min            0.000000      0.000000      0.000000      0.000000  \n",
       "25%            0.000002      0.104000      0.670394      0.032400  \n",
       "50%            0.000137      0.129000      0.719388      0.037800  \n",
       "75%            0.010300      0.218000      0.762446      0.047900  \n",
       "max            0.474000      0.998000      0.917563      0.634000  "
      ]
     },
     "execution_count": 110,
     "metadata": {},
     "output_type": "execute_result"
    }
   ],
   "source": [
    "clu1 = X[data.cluster == 1]\n",
    "clu1.describe()"
   ]
  },
  {
   "cell_type": "code",
   "execution_count": 111,
   "metadata": {},
   "outputs": [
    {
     "data": {
      "text/plain": [
       "<matplotlib.axes._subplots.AxesSubplot at 0x7fa2a8659ca0>"
      ]
     },
     "execution_count": 111,
     "metadata": {},
     "output_type": "execute_result"
    },
    {
     "data": {
      "image/png": "[encoded data removed]",
      "text/plain": [
       "<Figure size 432x288 with 1 Axes>"
      ]
     },
     "metadata": {
      "needs_background": "light"
     },
     "output_type": "display_data"
    }
   ],
   "source": [
    "clu1[feat_cols].mean().sort_values(ascending=False).plot(kind='bar')"
   ]
  },
  {
   "cell_type": "markdown",
   "metadata": {},
   "source": [
    "Cluster 1 has more happy and loud songs"
   ]
  },
  {
   "cell_type": "code",
   "execution_count": 112,
   "metadata": {},
   "outputs": [
    {
     "data": {
      "text/html": [
       "<div>\n",
       "<style scoped>\n",
       "    .dataframe tbody tr th:only-of-type {\n",
       "        vertical-align: middle;\n",
       "    }\n",
       "\n",
       "    .dataframe tbody tr th {\n",
       "        vertical-align: top;\n",
       "    }\n",
       "\n",
       "    .dataframe thead th {\n",
       "        text-align: right;\n",
       "    }\n",
       "</style>\n",
       "<table border=\"1\" class=\"dataframe\">\n",
       "  <thead>\n",
       "    <tr style=\"text-align: right;\">\n",
       "      <th></th>\n",
       "      <th>valence</th>\n",
       "      <th>acousticness</th>\n",
       "      <th>danceability</th>\n",
       "      <th>energy</th>\n",
       "      <th>instrumentalness</th>\n",
       "      <th>liveness</th>\n",
       "      <th>loudness</th>\n",
       "      <th>speechiness</th>\n",
       "    </tr>\n",
       "  </thead>\n",
       "  <tbody>\n",
       "    <tr>\n",
       "      <th>count</th>\n",
       "      <td>24789.00000</td>\n",
       "      <td>24789.000000</td>\n",
       "      <td>24789.000000</td>\n",
       "      <td>24789.00000</td>\n",
       "      <td>24789.000000</td>\n",
       "      <td>24789.000000</td>\n",
       "      <td>24789.000000</td>\n",
       "      <td>24789.000000</td>\n",
       "    </tr>\n",
       "    <tr>\n",
       "      <th>mean</th>\n",
       "      <td>0.39488</td>\n",
       "      <td>0.895461</td>\n",
       "      <td>0.419770</td>\n",
       "      <td>0.23782</td>\n",
       "      <td>0.827761</td>\n",
       "      <td>0.181398</td>\n",
       "      <td>0.663074</td>\n",
       "      <td>0.059621</td>\n",
       "    </tr>\n",
       "    <tr>\n",
       "      <th>std</th>\n",
       "      <td>0.28668</td>\n",
       "      <td>0.171414</td>\n",
       "      <td>0.178499</td>\n",
       "      <td>0.17901</td>\n",
       "      <td>0.125198</td>\n",
       "      <td>0.148010</td>\n",
       "      <td>0.098236</td>\n",
       "      <td>0.058682</td>\n",
       "    </tr>\n",
       "    <tr>\n",
       "      <th>min</th>\n",
       "      <td>0.00000</td>\n",
       "      <td>0.000000</td>\n",
       "      <td>0.000000</td>\n",
       "      <td>0.00002</td>\n",
       "      <td>0.378000</td>\n",
       "      <td>0.022000</td>\n",
       "      <td>0.078302</td>\n",
       "      <td>0.000000</td>\n",
       "    </tr>\n",
       "    <tr>\n",
       "      <th>25%</th>\n",
       "      <td>0.13000</td>\n",
       "      <td>0.883000</td>\n",
       "      <td>0.289000</td>\n",
       "      <td>0.10000</td>\n",
       "      <td>0.776000</td>\n",
       "      <td>0.102000</td>\n",
       "      <td>0.606609</td>\n",
       "      <td>0.036900</td>\n",
       "    </tr>\n",
       "    <tr>\n",
       "      <th>50%</th>\n",
       "      <td>0.34800</td>\n",
       "      <td>0.972000</td>\n",
       "      <td>0.417000</td>\n",
       "      <td>0.20100</td>\n",
       "      <td>0.874000</td>\n",
       "      <td>0.122000</td>\n",
       "      <td>0.674779</td>\n",
       "      <td>0.043000</td>\n",
       "    </tr>\n",
       "    <tr>\n",
       "      <th>75%</th>\n",
       "      <td>0.63100</td>\n",
       "      <td>0.992000</td>\n",
       "      <td>0.548000</td>\n",
       "      <td>0.33300</td>\n",
       "      <td>0.916000</td>\n",
       "      <td>0.197000</td>\n",
       "      <td>0.733224</td>\n",
       "      <td>0.056000</td>\n",
       "    </tr>\n",
       "    <tr>\n",
       "      <th>max</th>\n",
       "      <td>0.99000</td>\n",
       "      <td>0.996000</td>\n",
       "      <td>0.934000</td>\n",
       "      <td>1.00000</td>\n",
       "      <td>1.000000</td>\n",
       "      <td>0.988000</td>\n",
       "      <td>1.000000</td>\n",
       "      <td>0.926000</td>\n",
       "    </tr>\n",
       "  </tbody>\n",
       "</table>\n",
       "</div>"
      ],
      "text/plain": [
       "           valence  acousticness  danceability       energy  instrumentalness  \\\n",
       "count  24789.00000  24789.000000  24789.000000  24789.00000      24789.000000   \n",
       "mean       0.39488      0.895461      0.419770      0.23782          0.827761   \n",
       "std        0.28668      0.171414      0.178499      0.17901          0.125198   \n",
       "min        0.00000      0.000000      0.000000      0.00002          0.378000   \n",
       "25%        0.13000      0.883000      0.289000      0.10000          0.776000   \n",
       "50%        0.34800      0.972000      0.417000      0.20100          0.874000   \n",
       "75%        0.63100      0.992000      0.548000      0.33300          0.916000   \n",
       "max        0.99000      0.996000      0.934000      1.00000          1.000000   \n",
       "\n",
       "           liveness      loudness   speechiness  \n",
       "count  24789.000000  24789.000000  24789.000000  \n",
       "mean       0.181398      0.663074      0.059621  \n",
       "std        0.148010      0.098236      0.058682  \n",
       "min        0.022000      0.078302      0.000000  \n",
       "25%        0.102000      0.606609      0.036900  \n",
       "50%        0.122000      0.674779      0.043000  \n",
       "75%        0.197000      0.733224      0.056000  \n",
       "max        0.988000      1.000000      0.926000  "
      ]
     },
     "execution_count": 112,
     "metadata": {},
     "output_type": "execute_result"
    }
   ],
   "source": [
    "clu2 = X[data.cluster == 2]\n",
    "clu2.describe()"
   ]
  },
  {
   "cell_type": "code",
   "execution_count": 113,
   "metadata": {},
   "outputs": [
    {
     "data": {
      "text/plain": [
       "<matplotlib.axes._subplots.AxesSubplot at 0x7fa29a63d4c0>"
      ]
     },
     "execution_count": 113,
     "metadata": {},
     "output_type": "execute_result"
    },
    {
     "data": {
      "image/png": "[encoded data removed]",
      "text/plain": [
       "<Figure size 432x288 with 1 Axes>"
      ]
     },
     "metadata": {
      "needs_background": "light"
     },
     "output_type": "display_data"
    }
   ],
   "source": [
    "clu2[feat_cols].mean().sort_values(ascending=False).plot(kind='bar') # I'm guess rock or metal"
   ]
  },
  {
   "cell_type": "code",
   "execution_count": 114,
   "metadata": {},
   "outputs": [
    {
     "data": {
      "text/html": [
       "<div>\n",
       "<style scoped>\n",
       "    .dataframe tbody tr th:only-of-type {\n",
       "        vertical-align: middle;\n",
       "    }\n",
       "\n",
       "    .dataframe tbody tr th {\n",
       "        vertical-align: top;\n",
       "    }\n",
       "\n",
       "    .dataframe thead th {\n",
       "        text-align: right;\n",
       "    }\n",
       "</style>\n",
       "<table border=\"1\" class=\"dataframe\">\n",
       "  <thead>\n",
       "    <tr style=\"text-align: right;\">\n",
       "      <th></th>\n",
       "      <th>valence</th>\n",
       "      <th>acousticness</th>\n",
       "      <th>danceability</th>\n",
       "      <th>energy</th>\n",
       "      <th>instrumentalness</th>\n",
       "      <th>liveness</th>\n",
       "      <th>loudness</th>\n",
       "      <th>speechiness</th>\n",
       "    </tr>\n",
       "  </thead>\n",
       "  <tbody>\n",
       "    <tr>\n",
       "      <th>count</th>\n",
       "      <td>41796.000000</td>\n",
       "      <td>41796.000000</td>\n",
       "      <td>41796.000000</td>\n",
       "      <td>41796.000000</td>\n",
       "      <td>41796.000000</td>\n",
       "      <td>41796.000000</td>\n",
       "      <td>41796.000000</td>\n",
       "      <td>41796.000000</td>\n",
       "    </tr>\n",
       "    <tr>\n",
       "      <th>mean</th>\n",
       "      <td>0.767183</td>\n",
       "      <td>0.156030</td>\n",
       "      <td>0.660970</td>\n",
       "      <td>0.700562</td>\n",
       "      <td>0.050442</td>\n",
       "      <td>0.183116</td>\n",
       "      <td>0.812695</td>\n",
       "      <td>0.084565</td>\n",
       "    </tr>\n",
       "    <tr>\n",
       "      <th>std</th>\n",
       "      <td>0.129812</td>\n",
       "      <td>0.143827</td>\n",
       "      <td>0.133679</td>\n",
       "      <td>0.159299</td>\n",
       "      <td>0.164742</td>\n",
       "      <td>0.155441</td>\n",
       "      <td>0.052264</td>\n",
       "      <td>0.087003</td>\n",
       "    </tr>\n",
       "    <tr>\n",
       "      <th>min</th>\n",
       "      <td>0.396000</td>\n",
       "      <td>0.000001</td>\n",
       "      <td>0.159000</td>\n",
       "      <td>0.000685</td>\n",
       "      <td>0.000000</td>\n",
       "      <td>0.009670</td>\n",
       "      <td>0.502529</td>\n",
       "      <td>0.022200</td>\n",
       "    </tr>\n",
       "    <tr>\n",
       "      <th>25%</th>\n",
       "      <td>0.667000</td>\n",
       "      <td>0.029300</td>\n",
       "      <td>0.570000</td>\n",
       "      <td>0.586000</td>\n",
       "      <td>0.000000</td>\n",
       "      <td>0.081500</td>\n",
       "      <td>0.778216</td>\n",
       "      <td>0.035200</td>\n",
       "    </tr>\n",
       "    <tr>\n",
       "      <th>50%</th>\n",
       "      <td>0.770000</td>\n",
       "      <td>0.114000</td>\n",
       "      <td>0.666000</td>\n",
       "      <td>0.713000</td>\n",
       "      <td>0.000022</td>\n",
       "      <td>0.124000</td>\n",
       "      <td>0.820312</td>\n",
       "      <td>0.048100</td>\n",
       "    </tr>\n",
       "    <tr>\n",
       "      <th>75%</th>\n",
       "      <td>0.878000</td>\n",
       "      <td>0.257000</td>\n",
       "      <td>0.758000</td>\n",
       "      <td>0.829000</td>\n",
       "      <td>0.002560</td>\n",
       "      <td>0.246000</td>\n",
       "      <td>0.852807</td>\n",
       "      <td>0.086200</td>\n",
       "    </tr>\n",
       "    <tr>\n",
       "      <th>max</th>\n",
       "      <td>1.000000</td>\n",
       "      <td>0.654000</td>\n",
       "      <td>0.988000</td>\n",
       "      <td>0.999000</td>\n",
       "      <td>0.987000</td>\n",
       "      <td>1.000000</td>\n",
       "      <td>0.962853</td>\n",
       "      <td>0.675000</td>\n",
       "    </tr>\n",
       "  </tbody>\n",
       "</table>\n",
       "</div>"
      ],
      "text/plain": [
       "            valence  acousticness  danceability        energy  \\\n",
       "count  41796.000000  41796.000000  41796.000000  41796.000000   \n",
       "mean       0.767183      0.156030      0.660970      0.700562   \n",
       "std        0.129812      0.143827      0.133679      0.159299   \n",
       "min        0.396000      0.000001      0.159000      0.000685   \n",
       "25%        0.667000      0.029300      0.570000      0.586000   \n",
       "50%        0.770000      0.114000      0.666000      0.713000   \n",
       "75%        0.878000      0.257000      0.758000      0.829000   \n",
       "max        1.000000      0.654000      0.988000      0.999000   \n",
       "\n",
       "       instrumentalness      liveness      loudness   speechiness  \n",
       "count      41796.000000  41796.000000  41796.000000  41796.000000  \n",
       "mean           0.050442      0.183116      0.812695      0.084565  \n",
       "std            0.164742      0.155441      0.052264      0.087003  \n",
       "min            0.000000      0.009670      0.502529      0.022200  \n",
       "25%            0.000000      0.081500      0.778216      0.035200  \n",
       "50%            0.000022      0.124000      0.820312      0.048100  \n",
       "75%            0.002560      0.246000      0.852807      0.086200  \n",
       "max            0.987000      1.000000      0.962853      0.675000  "
      ]
     },
     "execution_count": 114,
     "metadata": {},
     "output_type": "execute_result"
    }
   ],
   "source": [
    "clu3 = X[data.cluster == 3]\n",
    "clu3.describe()"
   ]
  },
  {
   "cell_type": "code",
   "execution_count": 115,
   "metadata": {},
   "outputs": [
    {
     "data": {
      "text/plain": [
       "<matplotlib.axes._subplots.AxesSubplot at 0x7fa299c96340>"
      ]
     },
     "execution_count": 115,
     "metadata": {},
     "output_type": "execute_result"
    },
    {
     "data": {
      "image/png": "[encoded data removed]",
      "text/plain": [
       "<Figure size 432x288 with 1 Axes>"
      ]
     },
     "metadata": {
      "needs_background": "light"
     },
     "output_type": "display_data"
    }
   ],
   "source": [
    "clu3[feat_cols].mean().sort_values(ascending=False).plot(kind='bar') # I'm guessing slow soundtracks"
   ]
  },
  {
   "cell_type": "code",
   "execution_count": 116,
   "metadata": {},
   "outputs": [
    {
     "data": {
      "text/html": [
       "<div>\n",
       "<style scoped>\n",
       "    .dataframe tbody tr th:only-of-type {\n",
       "        vertical-align: middle;\n",
       "    }\n",
       "\n",
       "    .dataframe tbody tr th {\n",
       "        vertical-align: top;\n",
       "    }\n",
       "\n",
       "    .dataframe thead th {\n",
       "        text-align: right;\n",
       "    }\n",
       "</style>\n",
       "<table border=\"1\" class=\"dataframe\">\n",
       "  <thead>\n",
       "    <tr style=\"text-align: right;\">\n",
       "      <th></th>\n",
       "      <th>valence</th>\n",
       "      <th>acousticness</th>\n",
       "      <th>danceability</th>\n",
       "      <th>energy</th>\n",
       "      <th>instrumentalness</th>\n",
       "      <th>liveness</th>\n",
       "      <th>loudness</th>\n",
       "      <th>speechiness</th>\n",
       "    </tr>\n",
       "  </thead>\n",
       "  <tbody>\n",
       "    <tr>\n",
       "      <th>count</th>\n",
       "      <td>32818.000000</td>\n",
       "      <td>32818.000000</td>\n",
       "      <td>32818.000000</td>\n",
       "      <td>32818.000000</td>\n",
       "      <td>32818.000000</td>\n",
       "      <td>32818.000000</td>\n",
       "      <td>32818.000000</td>\n",
       "      <td>32818.000000</td>\n",
       "    </tr>\n",
       "    <tr>\n",
       "      <th>mean</th>\n",
       "      <td>0.725503</td>\n",
       "      <td>0.749606</td>\n",
       "      <td>0.604207</td>\n",
       "      <td>0.432964</td>\n",
       "      <td>0.040326</td>\n",
       "      <td>0.215358</td>\n",
       "      <td>0.767211</td>\n",
       "      <td>0.079624</td>\n",
       "    </tr>\n",
       "    <tr>\n",
       "      <th>std</th>\n",
       "      <td>0.149709</td>\n",
       "      <td>0.171977</td>\n",
       "      <td>0.123425</td>\n",
       "      <td>0.168470</td>\n",
       "      <td>0.108089</td>\n",
       "      <td>0.176721</td>\n",
       "      <td>0.056553</td>\n",
       "      <td>0.085599</td>\n",
       "    </tr>\n",
       "    <tr>\n",
       "      <th>min</th>\n",
       "      <td>0.216000</td>\n",
       "      <td>0.181000</td>\n",
       "      <td>0.127000</td>\n",
       "      <td>0.002780</td>\n",
       "      <td>0.000000</td>\n",
       "      <td>0.011600</td>\n",
       "      <td>0.349965</td>\n",
       "      <td>0.022400</td>\n",
       "    </tr>\n",
       "    <tr>\n",
       "      <th>25%</th>\n",
       "      <td>0.611250</td>\n",
       "      <td>0.613000</td>\n",
       "      <td>0.519000</td>\n",
       "      <td>0.311000</td>\n",
       "      <td>0.000000</td>\n",
       "      <td>0.101000</td>\n",
       "      <td>0.731990</td>\n",
       "      <td>0.035700</td>\n",
       "    </tr>\n",
       "    <tr>\n",
       "      <th>50%</th>\n",
       "      <td>0.727000</td>\n",
       "      <td>0.757000</td>\n",
       "      <td>0.607000</td>\n",
       "      <td>0.423000</td>\n",
       "      <td>0.000038</td>\n",
       "      <td>0.147000</td>\n",
       "      <td>0.771482</td>\n",
       "      <td>0.047200</td>\n",
       "    </tr>\n",
       "    <tr>\n",
       "      <th>75%</th>\n",
       "      <td>0.848000</td>\n",
       "      <td>0.903000</td>\n",
       "      <td>0.691000</td>\n",
       "      <td>0.543000</td>\n",
       "      <td>0.006880</td>\n",
       "      <td>0.279000</td>\n",
       "      <td>0.807047</td>\n",
       "      <td>0.078000</td>\n",
       "    </tr>\n",
       "    <tr>\n",
       "      <th>max</th>\n",
       "      <td>0.995000</td>\n",
       "      <td>0.996000</td>\n",
       "      <td>0.980000</td>\n",
       "      <td>0.991000</td>\n",
       "      <td>0.774000</td>\n",
       "      <td>0.997000</td>\n",
       "      <td>0.947819</td>\n",
       "      <td>0.705000</td>\n",
       "    </tr>\n",
       "  </tbody>\n",
       "</table>\n",
       "</div>"
      ],
      "text/plain": [
       "            valence  acousticness  danceability        energy  \\\n",
       "count  32818.000000  32818.000000  32818.000000  32818.000000   \n",
       "mean       0.725503      0.749606      0.604207      0.432964   \n",
       "std        0.149709      0.171977      0.123425      0.168470   \n",
       "min        0.216000      0.181000      0.127000      0.002780   \n",
       "25%        0.611250      0.613000      0.519000      0.311000   \n",
       "50%        0.727000      0.757000      0.607000      0.423000   \n",
       "75%        0.848000      0.903000      0.691000      0.543000   \n",
       "max        0.995000      0.996000      0.980000      0.991000   \n",
       "\n",
       "       instrumentalness      liveness      loudness   speechiness  \n",
       "count      32818.000000  32818.000000  32818.000000  32818.000000  \n",
       "mean           0.040326      0.215358      0.767211      0.079624  \n",
       "std            0.108089      0.176721      0.056553      0.085599  \n",
       "min            0.000000      0.011600      0.349965      0.022400  \n",
       "25%            0.000000      0.101000      0.731990      0.035700  \n",
       "50%            0.000038      0.147000      0.771482      0.047200  \n",
       "75%            0.006880      0.279000      0.807047      0.078000  \n",
       "max            0.774000      0.997000      0.947819      0.705000  "
      ]
     },
     "execution_count": 116,
     "metadata": {},
     "output_type": "execute_result"
    }
   ],
   "source": [
    "clu4 = X[data.cluster == 4]\n",
    "clu4.describe()"
   ]
  },
  {
   "cell_type": "code",
   "execution_count": 117,
   "metadata": {},
   "outputs": [
    {
     "data": {
      "text/plain": [
       "<matplotlib.axes._subplots.AxesSubplot at 0x7fa29a7f6eb0>"
      ]
     },
     "execution_count": 117,
     "metadata": {},
     "output_type": "execute_result"
    },
    {
     "data": {
      "image/png": "[encoded data removed]",
      "text/plain": [
       "<Figure size 432x288 with 1 Axes>"
      ]
     },
     "metadata": {
      "needs_background": "light"
     },
     "output_type": "display_data"
    }
   ],
   "source": [
    "clu4[feat_cols].mean().sort_values(ascending=False).plot(kind='bar') # I'm guessing rap songs"
   ]
  },
  {
   "cell_type": "markdown",
   "metadata": {},
   "source": [
    "## Classifying"
   ]
  },
  {
   "cell_type": "code",
   "execution_count": 118,
   "metadata": {},
   "outputs": [
    {
     "name": "stderr",
     "output_type": "stream",
     "text": [
      "<ipython-input-118-a16f73686ad0>:4: SettingWithCopyWarning: \n",
      "A value is trying to be set on a copy of a slice from a DataFrame.\n",
      "Try using .loc[row_indexer,col_indexer] = value instead\n",
      "\n",
      "See the caveats in the documentation: https://pandas.pydata.org/pandas-docs/stable/user_guide/indexing.html#returning-a-view-versus-a-copy\n",
      "  df_classify[\"loudness\"] = minmaxScaler.fit_transform(loudness.reshape(-1, 1))\n"
     ]
    }
   ],
   "source": [
    "df_classify = data[feat_cols + ['cluster']]\n",
    "\n",
    "loudness = df_classify[\"loudness\"].values\n",
    "df_classify[\"loudness\"] = minmaxScaler.fit_transform(loudness.reshape(-1, 1))"
   ]
  },
  {
   "cell_type": "code",
   "execution_count": 119,
   "metadata": {},
   "outputs": [
    {
     "data": {
      "text/html": [
       "<div>\n",
       "<style scoped>\n",
       "    .dataframe tbody tr th:only-of-type {\n",
       "        vertical-align: middle;\n",
       "    }\n",
       "\n",
       "    .dataframe tbody tr th {\n",
       "        vertical-align: top;\n",
       "    }\n",
       "\n",
       "    .dataframe thead th {\n",
       "        text-align: right;\n",
       "    }\n",
       "</style>\n",
       "<table border=\"1\" class=\"dataframe\">\n",
       "  <thead>\n",
       "    <tr style=\"text-align: right;\">\n",
       "      <th></th>\n",
       "      <th>valence</th>\n",
       "      <th>acousticness</th>\n",
       "      <th>danceability</th>\n",
       "      <th>energy</th>\n",
       "      <th>instrumentalness</th>\n",
       "      <th>liveness</th>\n",
       "      <th>loudness</th>\n",
       "      <th>speechiness</th>\n",
       "      <th>cluster</th>\n",
       "    </tr>\n",
       "  </thead>\n",
       "  <tbody>\n",
       "    <tr>\n",
       "      <th>0</th>\n",
       "      <td>0.0594</td>\n",
       "      <td>0.982</td>\n",
       "      <td>0.279</td>\n",
       "      <td>0.211</td>\n",
       "      <td>0.878000</td>\n",
       "      <td>0.665</td>\n",
       "      <td>0.624916</td>\n",
       "      <td>0.0366</td>\n",
       "      <td>2</td>\n",
       "    </tr>\n",
       "    <tr>\n",
       "      <th>1</th>\n",
       "      <td>0.9630</td>\n",
       "      <td>0.732</td>\n",
       "      <td>0.819</td>\n",
       "      <td>0.341</td>\n",
       "      <td>0.000000</td>\n",
       "      <td>0.160</td>\n",
       "      <td>0.744797</td>\n",
       "      <td>0.4150</td>\n",
       "      <td>4</td>\n",
       "    </tr>\n",
       "    <tr>\n",
       "      <th>2</th>\n",
       "      <td>0.0394</td>\n",
       "      <td>0.961</td>\n",
       "      <td>0.328</td>\n",
       "      <td>0.166</td>\n",
       "      <td>0.913000</td>\n",
       "      <td>0.101</td>\n",
       "      <td>0.707071</td>\n",
       "      <td>0.0339</td>\n",
       "      <td>2</td>\n",
       "    </tr>\n",
       "    <tr>\n",
       "      <th>3</th>\n",
       "      <td>0.1650</td>\n",
       "      <td>0.967</td>\n",
       "      <td>0.275</td>\n",
       "      <td>0.309</td>\n",
       "      <td>0.000028</td>\n",
       "      <td>0.381</td>\n",
       "      <td>0.793736</td>\n",
       "      <td>0.0354</td>\n",
       "      <td>1</td>\n",
       "    </tr>\n",
       "    <tr>\n",
       "      <th>4</th>\n",
       "      <td>0.2530</td>\n",
       "      <td>0.957</td>\n",
       "      <td>0.418</td>\n",
       "      <td>0.193</td>\n",
       "      <td>0.000002</td>\n",
       "      <td>0.229</td>\n",
       "      <td>0.781521</td>\n",
       "      <td>0.0380</td>\n",
       "      <td>1</td>\n",
       "    </tr>\n",
       "  </tbody>\n",
       "</table>\n",
       "</div>"
      ],
      "text/plain": [
       "   valence  acousticness  danceability  energy  instrumentalness  liveness  \\\n",
       "0   0.0594         0.982         0.279   0.211          0.878000     0.665   \n",
       "1   0.9630         0.732         0.819   0.341          0.000000     0.160   \n",
       "2   0.0394         0.961         0.328   0.166          0.913000     0.101   \n",
       "3   0.1650         0.967         0.275   0.309          0.000028     0.381   \n",
       "4   0.2530         0.957         0.418   0.193          0.000002     0.229   \n",
       "\n",
       "   loudness  speechiness  cluster  \n",
       "0  0.624916       0.0366        2  \n",
       "1  0.744797       0.4150        4  \n",
       "2  0.707071       0.0339        2  \n",
       "3  0.793736       0.0354        1  \n",
       "4  0.781521       0.0380        1  "
      ]
     },
     "execution_count": 119,
     "metadata": {},
     "output_type": "execute_result"
    }
   ],
   "source": [
    "df_classify.head()"
   ]
  },
  {
   "cell_type": "code",
   "execution_count": 120,
   "metadata": {},
   "outputs": [],
   "source": [
    "X = df_classify[feat_cols]\n",
    "y = df_classify['cluster']"
   ]
  },
  {
   "cell_type": "markdown",
   "metadata": {},
   "source": [
    "### Split data"
   ]
  },
  {
   "cell_type": "code",
   "execution_count": 121,
   "metadata": {},
   "outputs": [],
   "source": [
    "from sklearn.model_selection import train_test_split\n",
    "\n",
    "X_train, X_test, y_train, y_test=train_test_split(X,y,test_size=0.2)"
   ]
  },
  {
   "cell_type": "markdown",
   "metadata": {},
   "source": [
    "### Train models"
   ]
  },
  {
   "cell_type": "code",
   "execution_count": 122,
   "metadata": {},
   "outputs": [
    {
     "name": "stdout",
     "output_type": "stream",
     "text": [
      "0.9821569833875362\n"
     ]
    },
    {
     "data": {
      "image/png": "[encoded data removed]",
      "text/plain": [
       "<Figure size 720x432 with 1 Axes>"
      ]
     },
     "metadata": {
      "needs_background": "light"
     },
     "output_type": "display_data"
    }
   ],
   "source": [
    "from sklearn.metrics import confusion_matrix, accuracy_score\n",
    "from sklearn.neighbors import KNeighborsClassifier\n",
    "\n",
    "kn = range(1, 30)\n",
    "accuracy = []\n",
    "for i in kn:\n",
    "    knn = KNeighborsClassifier(n_neighbors=i)\n",
    "    knn.fit(X_train, y_train)\n",
    "    pred = knn.predict(X_test)\n",
    "    accuracy.append(accuracy_score(y_test, pred))\n",
    "    \n",
    "plt.rcParams[\"figure.figsize\"] = (10,6)\n",
    "plt.plot(kn, accuracy, '-o', color='black')\n",
    "plt.xticks(kn)\n",
    "plt.xlabel(\"Number of Neighbors\")\n",
    "plt.ylabel(\"Accuracy\")\n",
    "\n",
    "print(max(accuracy))"
   ]
  },
  {
   "cell_type": "code",
   "execution_count": 123,
   "metadata": {},
   "outputs": [
    {
     "name": "stdout",
     "output_type": "stream",
     "text": [
      "0.9389118396765403\n"
     ]
    },
    {
     "data": {
      "image/png": "[encoded data removed]",
      "text/plain": [
       "<Figure size 720x504 with 1 Axes>"
      ]
     },
     "metadata": {
      "needs_background": "light"
     },
     "output_type": "display_data"
    }
   ],
   "source": [
    "from sklearn.ensemble import RandomForestClassifier\n",
    "\n",
    "ln = range(2, 30)\n",
    "accuracy = []\n",
    "for i in ln:\n",
    "    rf = RandomForestClassifier(max_leaf_nodes=i)\n",
    "    rf.fit(X_train, y_train)\n",
    "    pred = rf.predict(X_test)\n",
    "    accuracy.append(accuracy_score(y_test, pred))\n",
    "    \n",
    "plt.rcParams[\"figure.figsize\"] = (10,7)\n",
    "plt.plot(ln, accuracy, '-o', color='black')\n",
    "plt.xticks(ln)\n",
    "plt.xlabel(\"Number of Neighbors\")\n",
    "plt.ylabel(\"Accuracy\")\n",
    "\n",
    "print(max(accuracy))"
   ]
  },
  {
   "cell_type": "code",
   "execution_count": 124,
   "metadata": {},
   "outputs": [],
   "source": [
    "from sklearn.svm import SVC\n",
    "\n",
    "classification_model = SVC()\n",
    "classification_model.fit(X_train, y_train)\n",
    "pred = classification_model.predict(X_test)"
   ]
  },
  {
   "cell_type": "code",
   "execution_count": 125,
   "metadata": {},
   "outputs": [
    {
     "data": {
      "text/plain": [
       "0.9963669391462306"
      ]
     },
     "execution_count": 125,
     "metadata": {},
     "output_type": "execute_result"
    }
   ],
   "source": [
    "accuracy_score(y_test, pred)"
   ]
  },
  {
   "cell_type": "code",
   "execution_count": 126,
   "metadata": {},
   "outputs": [
    {
     "data": {
      "text/plain": [
       "array([[1078,    2,    0,    3,    6,    5],\n",
       "       [   0, 6129,    3,    0,    6,   10],\n",
       "       [   0,    0, 4920,    3,    2,    9],\n",
       "       [   0,    0,    0, 8211,   11,   12],\n",
       "       [   1,   16,    9,    2, 6543,    9],\n",
       "       [   0,    2,    6,    5,    2, 7126]])"
      ]
     },
     "execution_count": 126,
     "metadata": {},
     "output_type": "execute_result"
    }
   ],
   "source": [
    "confusion_matrix(y_test, pred)"
   ]
  },
  {
   "cell_type": "code",
   "execution_count": 127,
   "metadata": {},
   "outputs": [],
   "source": [
    "pickle.dump(classification_model, open(\"classification_model.sav\", 'wb'))"
   ]
  },
  {
   "cell_type": "markdown",
   "metadata": {},
   "source": [
    "## Clustering my liked songs"
   ]
  },
  {
   "cell_type": "code",
   "execution_count": 185,
   "metadata": {},
   "outputs": [],
   "source": [
    "liked_songs = pd.read_json(\"./data/spotify-liked-songs.json\")"
   ]
  },
  {
   "cell_type": "code",
   "execution_count": 186,
   "metadata": {},
   "outputs": [
    {
     "name": "stderr",
     "output_type": "stream",
     "text": [
      "<ipython-input-186-0a2eef45c731>:4: SettingWithCopyWarning: \n",
      "A value is trying to be set on a copy of a slice from a DataFrame.\n",
      "Try using .loc[row_indexer,col_indexer] = value instead\n",
      "\n",
      "See the caveats in the documentation: https://pandas.pydata.org/pandas-docs/stable/user_guide/indexing.html#returning-a-view-versus-a-copy\n",
      "  df_liked[\"loudness\"] = minmaxScaler.fit_transform(loudness.reshape(-1, 1))\n"
     ]
    },
    {
     "data": {
      "text/html": [
       "<div>\n",
       "<style scoped>\n",
       "    .dataframe tbody tr th:only-of-type {\n",
       "        vertical-align: middle;\n",
       "    }\n",
       "\n",
       "    .dataframe tbody tr th {\n",
       "        vertical-align: top;\n",
       "    }\n",
       "\n",
       "    .dataframe thead th {\n",
       "        text-align: right;\n",
       "    }\n",
       "</style>\n",
       "<table border=\"1\" class=\"dataframe\">\n",
       "  <thead>\n",
       "    <tr style=\"text-align: right;\">\n",
       "      <th></th>\n",
       "      <th>valence</th>\n",
       "      <th>acousticness</th>\n",
       "      <th>danceability</th>\n",
       "      <th>energy</th>\n",
       "      <th>instrumentalness</th>\n",
       "      <th>liveness</th>\n",
       "      <th>loudness</th>\n",
       "      <th>speechiness</th>\n",
       "    </tr>\n",
       "  </thead>\n",
       "  <tbody>\n",
       "    <tr>\n",
       "      <th>0</th>\n",
       "      <td>0.437</td>\n",
       "      <td>0.09410</td>\n",
       "      <td>0.728</td>\n",
       "      <td>0.612</td>\n",
       "      <td>0.18800</td>\n",
       "      <td>0.3990</td>\n",
       "      <td>0.427254</td>\n",
       "      <td>0.0499</td>\n",
       "    </tr>\n",
       "    <tr>\n",
       "      <th>1</th>\n",
       "      <td>0.626</td>\n",
       "      <td>0.06060</td>\n",
       "      <td>0.503</td>\n",
       "      <td>0.935</td>\n",
       "      <td>0.83100</td>\n",
       "      <td>0.1340</td>\n",
       "      <td>0.598425</td>\n",
       "      <td>0.0368</td>\n",
       "    </tr>\n",
       "    <tr>\n",
       "      <th>2</th>\n",
       "      <td>0.157</td>\n",
       "      <td>0.11300</td>\n",
       "      <td>0.204</td>\n",
       "      <td>0.886</td>\n",
       "      <td>0.00450</td>\n",
       "      <td>0.3500</td>\n",
       "      <td>1.000000</td>\n",
       "      <td>0.0662</td>\n",
       "    </tr>\n",
       "    <tr>\n",
       "      <th>3</th>\n",
       "      <td>0.660</td>\n",
       "      <td>0.00897</td>\n",
       "      <td>0.655</td>\n",
       "      <td>0.971</td>\n",
       "      <td>0.00005</td>\n",
       "      <td>0.0771</td>\n",
       "      <td>0.955097</td>\n",
       "      <td>0.0833</td>\n",
       "    </tr>\n",
       "    <tr>\n",
       "      <th>4</th>\n",
       "      <td>0.265</td>\n",
       "      <td>0.00234</td>\n",
       "      <td>0.527</td>\n",
       "      <td>0.949</td>\n",
       "      <td>0.82900</td>\n",
       "      <td>0.1060</td>\n",
       "      <td>0.845925</td>\n",
       "      <td>0.0441</td>\n",
       "    </tr>\n",
       "  </tbody>\n",
       "</table>\n",
       "</div>"
      ],
      "text/plain": [
       "   valence  acousticness  danceability  energy  instrumentalness  liveness  \\\n",
       "0    0.437       0.09410         0.728   0.612           0.18800    0.3990   \n",
       "1    0.626       0.06060         0.503   0.935           0.83100    0.1340   \n",
       "2    0.157       0.11300         0.204   0.886           0.00450    0.3500   \n",
       "3    0.660       0.00897         0.655   0.971           0.00005    0.0771   \n",
       "4    0.265       0.00234         0.527   0.949           0.82900    0.1060   \n",
       "\n",
       "   loudness  speechiness  \n",
       "0  0.427254       0.0499  \n",
       "1  0.598425       0.0368  \n",
       "2  1.000000       0.0662  \n",
       "3  0.955097       0.0833  \n",
       "4  0.845925       0.0441  "
      ]
     },
     "execution_count": 186,
     "metadata": {},
     "output_type": "execute_result"
    }
   ],
   "source": [
    "df_liked = liked_songs[feat_cols]\n",
    "\n",
    "loudness = df_liked[\"loudness\"].values\n",
    "df_liked[\"loudness\"] = minmaxScaler.fit_transform(loudness.reshape(-1, 1))\n",
    "\n",
    "df_liked.head()"
   ]
  },
  {
   "cell_type": "code",
   "execution_count": 187,
   "metadata": {},
   "outputs": [],
   "source": [
    "liked_songs['cluster'] = classification_model.predict(df_liked)"
   ]
  },
  {
   "cell_type": "code",
   "execution_count": 188,
   "metadata": {},
   "outputs": [
    {
     "data": {
      "text/plain": [
       "5    68\n",
       "3    63\n",
       "4    14\n",
       "2    14\n",
       "1     6\n",
       "Name: cluster, dtype: int64"
      ]
     },
     "execution_count": 188,
     "metadata": {},
     "output_type": "execute_result"
    }
   ],
   "source": [
    "liked_songs.cluster.value_counts()"
   ]
  },
  {
   "cell_type": "code",
   "execution_count": 189,
   "metadata": {},
   "outputs": [],
   "source": [
    "loudness = liked_songs[\"loudness\"].values\n",
    "liked_songs[\"loudness\"] = minmaxScaler.fit_transform(loudness.reshape(-1, 1))"
   ]
  },
  {
   "cell_type": "code",
   "execution_count": 190,
   "metadata": {},
   "outputs": [
    {
     "data": {
      "text/plain": [
       "<matplotlib.axes._subplots.AxesSubplot at 0x7fa29f2dfeb0>"
      ]
     },
     "execution_count": 190,
     "metadata": {},
     "output_type": "execute_result"
    },
    {
     "data": {
      "image/png": "[encoded data removed]",
      "text/plain": [
       "<Figure size 720x504 with 1 Axes>"
      ]
     },
     "metadata": {
      "needs_background": "light"
     },
     "output_type": "display_data"
    }
   ],
   "source": [
    "liked_songs[liked_songs['cluster'] == 0][feat_cols].mean().sort_values(ascending=False).plot(kind='bar')"
   ]
  },
  {
   "cell_type": "code",
   "execution_count": 191,
   "metadata": {},
   "outputs": [
    {
     "data": {
      "text/html": [
       "<div>\n",
       "<style scoped>\n",
       "    .dataframe tbody tr th:only-of-type {\n",
       "        vertical-align: middle;\n",
       "    }\n",
       "\n",
       "    .dataframe tbody tr th {\n",
       "        vertical-align: top;\n",
       "    }\n",
       "\n",
       "    .dataframe thead th {\n",
       "        text-align: right;\n",
       "    }\n",
       "</style>\n",
       "<table border=\"1\" class=\"dataframe\">\n",
       "  <thead>\n",
       "    <tr style=\"text-align: right;\">\n",
       "      <th></th>\n",
       "      <th>name</th>\n",
       "      <th>artist</th>\n",
       "      <th>speechiness</th>\n",
       "    </tr>\n",
       "  </thead>\n",
       "  <tbody>\n",
       "  </tbody>\n",
       "</table>\n",
       "</div>"
      ],
      "text/plain": [
       "Empty DataFrame\n",
       "Columns: [name, artist, speechiness]\n",
       "Index: []"
      ]
     },
     "execution_count": 191,
     "metadata": {},
     "output_type": "execute_result"
    }
   ],
   "source": [
    "liked_songs[liked_songs['cluster'] == 0][['name', 'artist', 'speechiness']].sort_values(\"speechiness\", ascending=False)"
   ]
  },
  {
   "cell_type": "code",
   "execution_count": 192,
   "metadata": {},
   "outputs": [
    {
     "data": {
      "text/plain": [
       "<matplotlib.axes._subplots.AxesSubplot at 0x7fa29f7d7910>"
      ]
     },
     "execution_count": 192,
     "metadata": {},
     "output_type": "execute_result"
    },
    {
     "data": {
      "image/png": "[encoded data removed]",
      "text/plain": [
       "<Figure size 720x504 with 1 Axes>"
      ]
     },
     "metadata": {
      "needs_background": "light"
     },
     "output_type": "display_data"
    }
   ],
   "source": [
    "liked_songs[liked_songs['cluster'] == 1][feat_cols].mean().sort_values(ascending=False).plot(kind='bar')"
   ]
  },
  {
   "cell_type": "code",
   "execution_count": 193,
   "metadata": {},
   "outputs": [
    {
     "data": {
      "text/html": [
       "<div>\n",
       "<style scoped>\n",
       "    .dataframe tbody tr th:only-of-type {\n",
       "        vertical-align: middle;\n",
       "    }\n",
       "\n",
       "    .dataframe tbody tr th {\n",
       "        vertical-align: top;\n",
       "    }\n",
       "\n",
       "    .dataframe thead th {\n",
       "        text-align: right;\n",
       "    }\n",
       "</style>\n",
       "<table border=\"1\" class=\"dataframe\">\n",
       "  <thead>\n",
       "    <tr style=\"text-align: right;\">\n",
       "      <th></th>\n",
       "      <th>name</th>\n",
       "      <th>acousticness</th>\n",
       "    </tr>\n",
       "  </thead>\n",
       "  <tbody>\n",
       "    <tr>\n",
       "      <th>57</th>\n",
       "      <td>Hometown Glory</td>\n",
       "      <td>0.962</td>\n",
       "    </tr>\n",
       "    <tr>\n",
       "      <th>67</th>\n",
       "      <td>Toothpaste Kisses</td>\n",
       "      <td>0.904</td>\n",
       "    </tr>\n",
       "    <tr>\n",
       "      <th>117</th>\n",
       "      <td>Nobody</td>\n",
       "      <td>0.776</td>\n",
       "    </tr>\n",
       "    <tr>\n",
       "      <th>75</th>\n",
       "      <td>Gooey</td>\n",
       "      <td>0.736</td>\n",
       "    </tr>\n",
       "    <tr>\n",
       "      <th>39</th>\n",
       "      <td>Cable</td>\n",
       "      <td>0.573</td>\n",
       "    </tr>\n",
       "    <tr>\n",
       "      <th>41</th>\n",
       "      <td>Fast Talk</td>\n",
       "      <td>0.543</td>\n",
       "    </tr>\n",
       "  </tbody>\n",
       "</table>\n",
       "</div>"
      ],
      "text/plain": [
       "                  name  acousticness\n",
       "57      Hometown Glory         0.962\n",
       "67   Toothpaste Kisses         0.904\n",
       "117             Nobody         0.776\n",
       "75               Gooey         0.736\n",
       "39               Cable         0.573\n",
       "41           Fast Talk         0.543"
      ]
     },
     "execution_count": 193,
     "metadata": {},
     "output_type": "execute_result"
    }
   ],
   "source": [
    "# for cluster one instrumental and danceability are the highest factors, so we sort by that\n",
    "liked_songs[liked_songs['cluster'] == 1][['name', 'acousticness']].sort_values(\"acousticness\", ascending=False)"
   ]
  },
  {
   "cell_type": "code",
   "execution_count": 194,
   "metadata": {},
   "outputs": [
    {
     "data": {
      "text/plain": [
       "<matplotlib.axes._subplots.AxesSubplot at 0x7fa29f2dfa00>"
      ]
     },
     "execution_count": 194,
     "metadata": {},
     "output_type": "execute_result"
    },
    {
     "data": {
      "image/png": "[encoded data removed]",
      "text/plain": [
       "<Figure size 720x504 with 1 Axes>"
      ]
     },
     "metadata": {
      "needs_background": "light"
     },
     "output_type": "display_data"
    }
   ],
   "source": [
    "liked_songs[liked_songs['cluster'] == 2][feat_cols].mean().sort_values(ascending=False).plot(kind='bar')"
   ]
  },
  {
   "cell_type": "code",
   "execution_count": 195,
   "metadata": {},
   "outputs": [
    {
     "data": {
      "text/html": [
       "<div>\n",
       "<style scoped>\n",
       "    .dataframe tbody tr th:only-of-type {\n",
       "        vertical-align: middle;\n",
       "    }\n",
       "\n",
       "    .dataframe tbody tr th {\n",
       "        vertical-align: top;\n",
       "    }\n",
       "\n",
       "    .dataframe thead th {\n",
       "        text-align: right;\n",
       "    }\n",
       "</style>\n",
       "<table border=\"1\" class=\"dataframe\">\n",
       "  <thead>\n",
       "    <tr style=\"text-align: right;\">\n",
       "      <th></th>\n",
       "      <th>name</th>\n",
       "      <th>instrumentalness</th>\n",
       "    </tr>\n",
       "  </thead>\n",
       "  <tbody>\n",
       "    <tr>\n",
       "      <th>97</th>\n",
       "      <td>The Last of Us</td>\n",
       "      <td>0.928</td>\n",
       "    </tr>\n",
       "    <tr>\n",
       "      <th>22</th>\n",
       "      <td>Ya No Hay Verano</td>\n",
       "      <td>0.915</td>\n",
       "    </tr>\n",
       "    <tr>\n",
       "      <th>12</th>\n",
       "      <td>Like this</td>\n",
       "      <td>0.909</td>\n",
       "    </tr>\n",
       "    <tr>\n",
       "      <th>112</th>\n",
       "      <td>Aurora</td>\n",
       "      <td>0.905</td>\n",
       "    </tr>\n",
       "    <tr>\n",
       "      <th>94</th>\n",
       "      <td>Run</td>\n",
       "      <td>0.897</td>\n",
       "    </tr>\n",
       "    <tr>\n",
       "      <th>113</th>\n",
       "      <td>Bunny</td>\n",
       "      <td>0.886</td>\n",
       "    </tr>\n",
       "    <tr>\n",
       "      <th>95</th>\n",
       "      <td>Apollo</td>\n",
       "      <td>0.877</td>\n",
       "    </tr>\n",
       "    <tr>\n",
       "      <th>111</th>\n",
       "      <td>Saviour</td>\n",
       "      <td>0.859</td>\n",
       "    </tr>\n",
       "    <tr>\n",
       "      <th>96</th>\n",
       "      <td>Battlefield V Legacy Theme</td>\n",
       "      <td>0.852</td>\n",
       "    </tr>\n",
       "    <tr>\n",
       "      <th>43</th>\n",
       "      <td>Feel Good (feat. Khruangbin)</td>\n",
       "      <td>0.840</td>\n",
       "    </tr>\n",
       "    <tr>\n",
       "      <th>72</th>\n",
       "      <td>Part III</td>\n",
       "      <td>0.840</td>\n",
       "    </tr>\n",
       "    <tr>\n",
       "      <th>156</th>\n",
       "      <td>Buttercup</td>\n",
       "      <td>0.810</td>\n",
       "    </tr>\n",
       "    <tr>\n",
       "      <th>16</th>\n",
       "      <td>I Hope Youre Doing Okay</td>\n",
       "      <td>0.767</td>\n",
       "    </tr>\n",
       "    <tr>\n",
       "      <th>146</th>\n",
       "      <td>Yam Yam</td>\n",
       "      <td>0.766</td>\n",
       "    </tr>\n",
       "  </tbody>\n",
       "</table>\n",
       "</div>"
      ],
      "text/plain": [
       "                             name  instrumentalness\n",
       "97                 The Last of Us             0.928\n",
       "22               Ya No Hay Verano             0.915\n",
       "12                      Like this             0.909\n",
       "112                        Aurora             0.905\n",
       "94                            Run             0.897\n",
       "113                         Bunny             0.886\n",
       "95                         Apollo             0.877\n",
       "111                       Saviour             0.859\n",
       "96     Battlefield V Legacy Theme             0.852\n",
       "43   Feel Good (feat. Khruangbin)             0.840\n",
       "72                       Part III             0.840\n",
       "156                     Buttercup             0.810\n",
       "16        I Hope Youre Doing Okay             0.767\n",
       "146                       Yam Yam             0.766"
      ]
     },
     "execution_count": 195,
     "metadata": {},
     "output_type": "execute_result"
    }
   ],
   "source": [
    "liked_songs[liked_songs['cluster'] == 2][['name', 'instrumentalness']].sort_values(\"instrumentalness\", ascending=False)"
   ]
  },
  {
   "cell_type": "code",
   "execution_count": 196,
   "metadata": {},
   "outputs": [
    {
     "data": {
      "text/plain": [
       "<matplotlib.axes._subplots.AxesSubplot at 0x7fa29f9b5d00>"
      ]
     },
     "execution_count": 196,
     "metadata": {},
     "output_type": "execute_result"
    },
    {
     "data": {
      "image/png": "[encoded data removed]",
      "text/plain": [
       "<Figure size 720x504 with 1 Axes>"
      ]
     },
     "metadata": {
      "needs_background": "light"
     },
     "output_type": "display_data"
    }
   ],
   "source": [
    "liked_songs[liked_songs['cluster'] == 3][feat_cols].mean().sort_values(ascending=False).plot(kind='bar')"
   ]
  },
  {
   "cell_type": "code",
   "execution_count": 197,
   "metadata": {},
   "outputs": [
    {
     "data": {
      "text/html": [
       "<div>\n",
       "<style scoped>\n",
       "    .dataframe tbody tr th:only-of-type {\n",
       "        vertical-align: middle;\n",
       "    }\n",
       "\n",
       "    .dataframe tbody tr th {\n",
       "        vertical-align: top;\n",
       "    }\n",
       "\n",
       "    .dataframe thead th {\n",
       "        text-align: right;\n",
       "    }\n",
       "</style>\n",
       "<table border=\"1\" class=\"dataframe\">\n",
       "  <thead>\n",
       "    <tr style=\"text-align: right;\">\n",
       "      <th></th>\n",
       "      <th>name</th>\n",
       "      <th>energy</th>\n",
       "    </tr>\n",
       "  </thead>\n",
       "  <tbody>\n",
       "    <tr>\n",
       "      <th>3</th>\n",
       "      <td>That’s All It Is</td>\n",
       "      <td>0.971</td>\n",
       "    </tr>\n",
       "    <tr>\n",
       "      <th>107</th>\n",
       "      <td>Blue (Da Ba Dee) - Gabry Ponte Ice Pop Radio</td>\n",
       "      <td>0.969</td>\n",
       "    </tr>\n",
       "    <tr>\n",
       "      <th>81</th>\n",
       "      <td>Tokyo Summer</td>\n",
       "      <td>0.955</td>\n",
       "    </tr>\n",
       "    <tr>\n",
       "      <th>29</th>\n",
       "      <td>Hammock</td>\n",
       "      <td>0.954</td>\n",
       "    </tr>\n",
       "    <tr>\n",
       "      <th>147</th>\n",
       "      <td>Young Love (feat. Laura Marling)</td>\n",
       "      <td>0.942</td>\n",
       "    </tr>\n",
       "    <tr>\n",
       "      <th>...</th>\n",
       "      <td>...</td>\n",
       "      <td>...</td>\n",
       "    </tr>\n",
       "    <tr>\n",
       "      <th>56</th>\n",
       "      <td>Using</td>\n",
       "      <td>0.526</td>\n",
       "    </tr>\n",
       "    <tr>\n",
       "      <th>66</th>\n",
       "      <td>3 Nights</td>\n",
       "      <td>0.518</td>\n",
       "    </tr>\n",
       "    <tr>\n",
       "      <th>24</th>\n",
       "      <td>Glu</td>\n",
       "      <td>0.440</td>\n",
       "    </tr>\n",
       "    <tr>\n",
       "      <th>44</th>\n",
       "      <td>Softly</td>\n",
       "      <td>0.436</td>\n",
       "    </tr>\n",
       "    <tr>\n",
       "      <th>141</th>\n",
       "      <td>Heathens</td>\n",
       "      <td>0.396</td>\n",
       "    </tr>\n",
       "  </tbody>\n",
       "</table>\n",
       "<p>63 rows × 2 columns</p>\n",
       "</div>"
      ],
      "text/plain": [
       "                                             name  energy\n",
       "3                                That’s All It Is   0.971\n",
       "107  Blue (Da Ba Dee) - Gabry Ponte Ice Pop Radio   0.969\n",
       "81                                   Tokyo Summer   0.955\n",
       "29                                        Hammock   0.954\n",
       "147              Young Love (feat. Laura Marling)   0.942\n",
       "..                                            ...     ...\n",
       "56                                          Using   0.526\n",
       "66                                       3 Nights   0.518\n",
       "24                                            Glu   0.440\n",
       "44                                         Softly   0.436\n",
       "141                                      Heathens   0.396\n",
       "\n",
       "[63 rows x 2 columns]"
      ]
     },
     "execution_count": 197,
     "metadata": {},
     "output_type": "execute_result"
    }
   ],
   "source": [
    "liked_songs[liked_songs['cluster'] == 3][['name', 'energy']].sort_values(\"energy\", ascending=False)"
   ]
  },
  {
   "cell_type": "code",
   "execution_count": 198,
   "metadata": {},
   "outputs": [
    {
     "data": {
      "text/plain": [
       "<matplotlib.axes._subplots.AxesSubplot at 0x7fa29fcff550>"
      ]
     },
     "execution_count": 198,
     "metadata": {},
     "output_type": "execute_result"
    },
    {
     "data": {
      "image/png": "[encoded data removed]",
      "text/plain": [
       "<Figure size 720x504 with 1 Axes>"
      ]
     },
     "metadata": {
      "needs_background": "light"
     },
     "output_type": "display_data"
    }
   ],
   "source": [
    "liked_songs[liked_songs['cluster'] == 4][feat_cols].mean().sort_values(ascending=False).plot(kind='bar')"
   ]
  },
  {
   "cell_type": "code",
   "execution_count": 199,
   "metadata": {},
   "outputs": [
    {
     "data": {
      "text/html": [
       "<div>\n",
       "<style scoped>\n",
       "    .dataframe tbody tr th:only-of-type {\n",
       "        vertical-align: middle;\n",
       "    }\n",
       "\n",
       "    .dataframe tbody tr th {\n",
       "        vertical-align: top;\n",
       "    }\n",
       "\n",
       "    .dataframe thead th {\n",
       "        text-align: right;\n",
       "    }\n",
       "</style>\n",
       "<table border=\"1\" class=\"dataframe\">\n",
       "  <thead>\n",
       "    <tr style=\"text-align: right;\">\n",
       "      <th></th>\n",
       "      <th>name</th>\n",
       "      <th>danceability</th>\n",
       "    </tr>\n",
       "  </thead>\n",
       "  <tbody>\n",
       "    <tr>\n",
       "      <th>101</th>\n",
       "      <td>Hunnybee</td>\n",
       "      <td>0.956</td>\n",
       "    </tr>\n",
       "    <tr>\n",
       "      <th>7</th>\n",
       "      <td>anemone</td>\n",
       "      <td>0.854</td>\n",
       "    </tr>\n",
       "    <tr>\n",
       "      <th>20</th>\n",
       "      <td>Stop Selling Her Drugs (feat. Dominic Fike)</td>\n",
       "      <td>0.847</td>\n",
       "    </tr>\n",
       "    <tr>\n",
       "      <th>60</th>\n",
       "      <td>Dance Monkey</td>\n",
       "      <td>0.824</td>\n",
       "    </tr>\n",
       "    <tr>\n",
       "      <th>18</th>\n",
       "      <td>Small Town Girl</td>\n",
       "      <td>0.814</td>\n",
       "    </tr>\n",
       "    <tr>\n",
       "      <th>32</th>\n",
       "      <td>Blue Coloured Mountain</td>\n",
       "      <td>0.811</td>\n",
       "    </tr>\n",
       "    <tr>\n",
       "      <th>45</th>\n",
       "      <td>On the Low</td>\n",
       "      <td>0.793</td>\n",
       "    </tr>\n",
       "    <tr>\n",
       "      <th>157</th>\n",
       "      <td>Multi-Love</td>\n",
       "      <td>0.784</td>\n",
       "    </tr>\n",
       "    <tr>\n",
       "      <th>70</th>\n",
       "      <td>Choirs</td>\n",
       "      <td>0.713</td>\n",
       "    </tr>\n",
       "    <tr>\n",
       "      <th>118</th>\n",
       "      <td>Still Beating</td>\n",
       "      <td>0.709</td>\n",
       "    </tr>\n",
       "    <tr>\n",
       "      <th>122</th>\n",
       "      <td>New Slang</td>\n",
       "      <td>0.669</td>\n",
       "    </tr>\n",
       "    <tr>\n",
       "      <th>110</th>\n",
       "      <td>Postcards From Italy</td>\n",
       "      <td>0.612</td>\n",
       "    </tr>\n",
       "    <tr>\n",
       "      <th>149</th>\n",
       "      <td>Drop The Game</td>\n",
       "      <td>0.559</td>\n",
       "    </tr>\n",
       "    <tr>\n",
       "      <th>59</th>\n",
       "      <td>Someone New</td>\n",
       "      <td>0.443</td>\n",
       "    </tr>\n",
       "  </tbody>\n",
       "</table>\n",
       "</div>"
      ],
      "text/plain": [
       "                                            name  danceability\n",
       "101                                     Hunnybee         0.956\n",
       "7                                        anemone         0.854\n",
       "20   Stop Selling Her Drugs (feat. Dominic Fike)         0.847\n",
       "60                                  Dance Monkey         0.824\n",
       "18                               Small Town Girl         0.814\n",
       "32                        Blue Coloured Mountain         0.811\n",
       "45                                    On the Low         0.793\n",
       "157                                   Multi-Love         0.784\n",
       "70                                        Choirs         0.713\n",
       "118                                Still Beating         0.709\n",
       "122                                    New Slang         0.669\n",
       "110                         Postcards From Italy         0.612\n",
       "149                                Drop The Game         0.559\n",
       "59                                   Someone New         0.443"
      ]
     },
     "execution_count": 199,
     "metadata": {},
     "output_type": "execute_result"
    }
   ],
   "source": [
    "liked_songs[liked_songs['cluster'] == 4][['name', 'danceability']].sort_values(\"danceability\", ascending=False)"
   ]
  },
  {
   "cell_type": "code",
   "execution_count": 200,
   "metadata": {},
   "outputs": [
    {
     "data": {
      "text/plain": [
       "<matplotlib.axes._subplots.AxesSubplot at 0x7fa29fe8a490>"
      ]
     },
     "execution_count": 200,
     "metadata": {},
     "output_type": "execute_result"
    },
    {
     "data": {
      "image/png": "[encoded data removed]",
      "text/plain": [
       "<Figure size 720x504 with 1 Axes>"
      ]
     },
     "metadata": {
      "needs_background": "light"
     },
     "output_type": "display_data"
    }
   ],
   "source": [
    "liked_songs[liked_songs['cluster'] == 5][feat_cols].mean().sort_values(ascending=False).plot(kind='bar')"
   ]
  },
  {
   "cell_type": "code",
   "execution_count": 201,
   "metadata": {},
   "outputs": [
    {
     "data": {
      "text/html": [
       "<div>\n",
       "<style scoped>\n",
       "    .dataframe tbody tr th:only-of-type {\n",
       "        vertical-align: middle;\n",
       "    }\n",
       "\n",
       "    .dataframe tbody tr th {\n",
       "        vertical-align: top;\n",
       "    }\n",
       "\n",
       "    .dataframe thead th {\n",
       "        text-align: right;\n",
       "    }\n",
       "</style>\n",
       "<table border=\"1\" class=\"dataframe\">\n",
       "  <thead>\n",
       "    <tr style=\"text-align: right;\">\n",
       "      <th></th>\n",
       "      <th>name</th>\n",
       "      <th>energy</th>\n",
       "    </tr>\n",
       "  </thead>\n",
       "  <tbody>\n",
       "    <tr>\n",
       "      <th>26</th>\n",
       "      <td>Spring Has Sprung</td>\n",
       "      <td>0.989</td>\n",
       "    </tr>\n",
       "    <tr>\n",
       "      <th>105</th>\n",
       "      <td>Sandstorm</td>\n",
       "      <td>0.982</td>\n",
       "    </tr>\n",
       "    <tr>\n",
       "      <th>119</th>\n",
       "      <td>Are You Gonna Be My Girl</td>\n",
       "      <td>0.953</td>\n",
       "    </tr>\n",
       "    <tr>\n",
       "      <th>4</th>\n",
       "      <td>Hypnagogic (I Can't Wait)</td>\n",
       "      <td>0.949</td>\n",
       "    </tr>\n",
       "    <tr>\n",
       "      <th>1</th>\n",
       "      <td>Annie Blue</td>\n",
       "      <td>0.935</td>\n",
       "    </tr>\n",
       "    <tr>\n",
       "      <th>...</th>\n",
       "      <td>...</td>\n",
       "      <td>...</td>\n",
       "    </tr>\n",
       "    <tr>\n",
       "      <th>127</th>\n",
       "      <td>Pneumonia</td>\n",
       "      <td>0.445</td>\n",
       "    </tr>\n",
       "    <tr>\n",
       "      <th>115</th>\n",
       "      <td>So Tired</td>\n",
       "      <td>0.398</td>\n",
       "    </tr>\n",
       "    <tr>\n",
       "      <th>86</th>\n",
       "      <td>ur phone</td>\n",
       "      <td>0.355</td>\n",
       "    </tr>\n",
       "    <tr>\n",
       "      <th>126</th>\n",
       "      <td>Waves</td>\n",
       "      <td>0.320</td>\n",
       "    </tr>\n",
       "    <tr>\n",
       "      <th>114</th>\n",
       "      <td>You on My Mind</td>\n",
       "      <td>0.221</td>\n",
       "    </tr>\n",
       "  </tbody>\n",
       "</table>\n",
       "<p>68 rows × 2 columns</p>\n",
       "</div>"
      ],
      "text/plain": [
       "                          name  energy\n",
       "26           Spring Has Sprung   0.989\n",
       "105                  Sandstorm   0.982\n",
       "119   Are You Gonna Be My Girl   0.953\n",
       "4    Hypnagogic (I Can't Wait)   0.949\n",
       "1                   Annie Blue   0.935\n",
       "..                         ...     ...\n",
       "127                  Pneumonia   0.445\n",
       "115                   So Tired   0.398\n",
       "86                    ur phone   0.355\n",
       "126                      Waves   0.320\n",
       "114             You on My Mind   0.221\n",
       "\n",
       "[68 rows x 2 columns]"
      ]
     },
     "execution_count": 201,
     "metadata": {},
     "output_type": "execute_result"
    }
   ],
   "source": [
    "liked_songs[liked_songs['cluster'] == 5][['name', 'energy']].sort_values(\"energy\", ascending=False)"
   ]
  },
  {
   "cell_type": "code",
   "execution_count": 202,
   "metadata": {},
   "outputs": [],
   "source": [
    "factors = ['', 'acousticness', 'instrumentalness', 'valence', 'danceability', 'energy']\n",
    "liked_songs['main_factor'] = liked_songs['cluster'].apply(lambda x: factors[x])"
   ]
  },
  {
   "cell_type": "code",
   "execution_count": 203,
   "metadata": {},
   "outputs": [],
   "source": [
    "liked_songs.to_json(\"./output/my_clustered_liked_songs.json\", orient ='records')"
   ]
  },
  {
   "cell_type": "code",
   "execution_count": null,
   "metadata": {},
   "outputs": [],
   "source": []
  }
 ],
 "metadata": {
  "kernelspec": {
   "display_name": "Python 3",
   "language": "python",
   "name": "python3"
  },
  "language_info": {
   "codemirror_mode": {
    "name": "ipython",
    "version": 3
   },
   "file_extension": ".py",
   "mimetype": "text/x-python",
   "name": "python",
   "nbconvert_exporter": "python",
   "pygments_lexer": "ipython3",
   "version": "3.8.3"
  }
 },
 "nbformat": 4,
 "nbformat_minor": 4
}
