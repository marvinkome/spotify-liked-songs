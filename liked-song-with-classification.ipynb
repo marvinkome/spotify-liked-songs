{
 "cells": [
  {
   "cell_type": "code",
   "execution_count": 43,
   "metadata": {},
   "outputs": [],
   "source": [
    "import pandas as pd\n",
    "import seaborn as sns\n",
    "import matplotlib.pyplot as plt\n",
    "import numpy as np\n",
    "import re\n",
    "import pickle\n",
    "\n",
    "%matplotlib inline"
   ]
  },
  {
   "cell_type": "code",
   "execution_count": 2,
   "metadata": {},
   "outputs": [],
   "source": [
    "data = pd.read_csv(\"./data/data.csv\")"
   ]
  },
  {
   "cell_type": "code",
   "execution_count": 3,
   "metadata": {},
   "outputs": [],
   "source": [
    "data.columns\n",
    "\n",
    "feat_cols = ['valence', 'acousticness', 'danceability', 'energy', \n",
    "             'instrumentalness', 'liveness', 'loudness', 'speechiness']\n",
    "\n",
    "X = data[feat_cols]"
   ]
  },
  {
   "cell_type": "code",
   "execution_count": 4,
   "metadata": {},
   "outputs": [
    {
     "data": {
      "text/html": [
       "<div>\n",
       "<style scoped>\n",
       "    .dataframe tbody tr th:only-of-type {\n",
       "        vertical-align: middle;\n",
       "    }\n",
       "\n",
       "    .dataframe tbody tr th {\n",
       "        vertical-align: top;\n",
       "    }\n",
       "\n",
       "    .dataframe thead th {\n",
       "        text-align: right;\n",
       "    }\n",
       "</style>\n",
       "<table border=\"1\" class=\"dataframe\">\n",
       "  <thead>\n",
       "    <tr style=\"text-align: right;\">\n",
       "      <th></th>\n",
       "      <th>valence</th>\n",
       "      <th>acousticness</th>\n",
       "      <th>danceability</th>\n",
       "      <th>energy</th>\n",
       "      <th>instrumentalness</th>\n",
       "      <th>liveness</th>\n",
       "      <th>loudness</th>\n",
       "      <th>speechiness</th>\n",
       "    </tr>\n",
       "  </thead>\n",
       "  <tbody>\n",
       "    <tr>\n",
       "      <th>0</th>\n",
       "      <td>0.0594</td>\n",
       "      <td>0.982</td>\n",
       "      <td>0.279</td>\n",
       "      <td>0.211</td>\n",
       "      <td>0.878000</td>\n",
       "      <td>0.665</td>\n",
       "      <td>-20.096</td>\n",
       "      <td>0.0366</td>\n",
       "    </tr>\n",
       "    <tr>\n",
       "      <th>1</th>\n",
       "      <td>0.9630</td>\n",
       "      <td>0.732</td>\n",
       "      <td>0.819</td>\n",
       "      <td>0.341</td>\n",
       "      <td>0.000000</td>\n",
       "      <td>0.160</td>\n",
       "      <td>-12.441</td>\n",
       "      <td>0.4150</td>\n",
       "    </tr>\n",
       "    <tr>\n",
       "      <th>2</th>\n",
       "      <td>0.0394</td>\n",
       "      <td>0.961</td>\n",
       "      <td>0.328</td>\n",
       "      <td>0.166</td>\n",
       "      <td>0.913000</td>\n",
       "      <td>0.101</td>\n",
       "      <td>-14.850</td>\n",
       "      <td>0.0339</td>\n",
       "    </tr>\n",
       "    <tr>\n",
       "      <th>3</th>\n",
       "      <td>0.1650</td>\n",
       "      <td>0.967</td>\n",
       "      <td>0.275</td>\n",
       "      <td>0.309</td>\n",
       "      <td>0.000028</td>\n",
       "      <td>0.381</td>\n",
       "      <td>-9.316</td>\n",
       "      <td>0.0354</td>\n",
       "    </tr>\n",
       "    <tr>\n",
       "      <th>4</th>\n",
       "      <td>0.2530</td>\n",
       "      <td>0.957</td>\n",
       "      <td>0.418</td>\n",
       "      <td>0.193</td>\n",
       "      <td>0.000002</td>\n",
       "      <td>0.229</td>\n",
       "      <td>-10.096</td>\n",
       "      <td>0.0380</td>\n",
       "    </tr>\n",
       "  </tbody>\n",
       "</table>\n",
       "</div>"
      ],
      "text/plain": [
       "   valence  acousticness  danceability  energy  instrumentalness  liveness  \\\n",
       "0   0.0594         0.982         0.279   0.211          0.878000     0.665   \n",
       "1   0.9630         0.732         0.819   0.341          0.000000     0.160   \n",
       "2   0.0394         0.961         0.328   0.166          0.913000     0.101   \n",
       "3   0.1650         0.967         0.275   0.309          0.000028     0.381   \n",
       "4   0.2530         0.957         0.418   0.193          0.000002     0.229   \n",
       "\n",
       "   loudness  speechiness  \n",
       "0   -20.096       0.0366  \n",
       "1   -12.441       0.4150  \n",
       "2   -14.850       0.0339  \n",
       "3    -9.316       0.0354  \n",
       "4   -10.096       0.0380  "
      ]
     },
     "execution_count": 4,
     "metadata": {},
     "output_type": "execute_result"
    }
   ],
   "source": [
    "X.head()"
   ]
  },
  {
   "cell_type": "code",
   "execution_count": 5,
   "metadata": {},
   "outputs": [
    {
     "name": "stdout",
     "output_type": "stream",
     "text": [
      "<class 'pandas.core.frame.DataFrame'>\n",
      "RangeIndex: 170653 entries, 0 to 170652\n",
      "Data columns (total 8 columns):\n",
      " #   Column            Non-Null Count   Dtype  \n",
      "---  ------            --------------   -----  \n",
      " 0   valence           170653 non-null  float64\n",
      " 1   acousticness      170653 non-null  float64\n",
      " 2   danceability      170653 non-null  float64\n",
      " 3   energy            170653 non-null  float64\n",
      " 4   instrumentalness  170653 non-null  float64\n",
      " 5   liveness          170653 non-null  float64\n",
      " 6   loudness          170653 non-null  float64\n",
      " 7   speechiness       170653 non-null  float64\n",
      "dtypes: float64(8)\n",
      "memory usage: 10.4 MB\n"
     ]
    }
   ],
   "source": [
    "X.info()"
   ]
  },
  {
   "cell_type": "code",
   "execution_count": 6,
   "metadata": {},
   "outputs": [
    {
     "data": {
      "text/html": [
       "<div>\n",
       "<style scoped>\n",
       "    .dataframe tbody tr th:only-of-type {\n",
       "        vertical-align: middle;\n",
       "    }\n",
       "\n",
       "    .dataframe tbody tr th {\n",
       "        vertical-align: top;\n",
       "    }\n",
       "\n",
       "    .dataframe thead th {\n",
       "        text-align: right;\n",
       "    }\n",
       "</style>\n",
       "<table border=\"1\" class=\"dataframe\">\n",
       "  <thead>\n",
       "    <tr style=\"text-align: right;\">\n",
       "      <th></th>\n",
       "      <th>valence</th>\n",
       "      <th>acousticness</th>\n",
       "      <th>danceability</th>\n",
       "      <th>energy</th>\n",
       "      <th>instrumentalness</th>\n",
       "      <th>liveness</th>\n",
       "      <th>loudness</th>\n",
       "      <th>speechiness</th>\n",
       "    </tr>\n",
       "  </thead>\n",
       "  <tbody>\n",
       "    <tr>\n",
       "      <th>count</th>\n",
       "      <td>170653.000000</td>\n",
       "      <td>170653.000000</td>\n",
       "      <td>170653.000000</td>\n",
       "      <td>170653.000000</td>\n",
       "      <td>170653.000000</td>\n",
       "      <td>170653.000000</td>\n",
       "      <td>170653.000000</td>\n",
       "      <td>170653.000000</td>\n",
       "    </tr>\n",
       "    <tr>\n",
       "      <th>mean</th>\n",
       "      <td>0.528587</td>\n",
       "      <td>0.502115</td>\n",
       "      <td>0.537396</td>\n",
       "      <td>0.482389</td>\n",
       "      <td>0.167010</td>\n",
       "      <td>0.205839</td>\n",
       "      <td>-11.467990</td>\n",
       "      <td>0.098393</td>\n",
       "    </tr>\n",
       "    <tr>\n",
       "      <th>std</th>\n",
       "      <td>0.263171</td>\n",
       "      <td>0.376032</td>\n",
       "      <td>0.176138</td>\n",
       "      <td>0.267646</td>\n",
       "      <td>0.313475</td>\n",
       "      <td>0.174805</td>\n",
       "      <td>5.697943</td>\n",
       "      <td>0.162740</td>\n",
       "    </tr>\n",
       "    <tr>\n",
       "      <th>min</th>\n",
       "      <td>0.000000</td>\n",
       "      <td>0.000000</td>\n",
       "      <td>0.000000</td>\n",
       "      <td>0.000000</td>\n",
       "      <td>0.000000</td>\n",
       "      <td>0.000000</td>\n",
       "      <td>-60.000000</td>\n",
       "      <td>0.000000</td>\n",
       "    </tr>\n",
       "    <tr>\n",
       "      <th>25%</th>\n",
       "      <td>0.317000</td>\n",
       "      <td>0.102000</td>\n",
       "      <td>0.415000</td>\n",
       "      <td>0.255000</td>\n",
       "      <td>0.000000</td>\n",
       "      <td>0.098800</td>\n",
       "      <td>-14.615000</td>\n",
       "      <td>0.034900</td>\n",
       "    </tr>\n",
       "    <tr>\n",
       "      <th>50%</th>\n",
       "      <td>0.540000</td>\n",
       "      <td>0.516000</td>\n",
       "      <td>0.548000</td>\n",
       "      <td>0.471000</td>\n",
       "      <td>0.000216</td>\n",
       "      <td>0.136000</td>\n",
       "      <td>-10.580000</td>\n",
       "      <td>0.045000</td>\n",
       "    </tr>\n",
       "    <tr>\n",
       "      <th>75%</th>\n",
       "      <td>0.747000</td>\n",
       "      <td>0.893000</td>\n",
       "      <td>0.668000</td>\n",
       "      <td>0.703000</td>\n",
       "      <td>0.102000</td>\n",
       "      <td>0.261000</td>\n",
       "      <td>-7.183000</td>\n",
       "      <td>0.075600</td>\n",
       "    </tr>\n",
       "    <tr>\n",
       "      <th>max</th>\n",
       "      <td>1.000000</td>\n",
       "      <td>0.996000</td>\n",
       "      <td>0.988000</td>\n",
       "      <td>1.000000</td>\n",
       "      <td>1.000000</td>\n",
       "      <td>1.000000</td>\n",
       "      <td>3.855000</td>\n",
       "      <td>0.970000</td>\n",
       "    </tr>\n",
       "  </tbody>\n",
       "</table>\n",
       "</div>"
      ],
      "text/plain": [
       "             valence   acousticness   danceability         energy  \\\n",
       "count  170653.000000  170653.000000  170653.000000  170653.000000   \n",
       "mean        0.528587       0.502115       0.537396       0.482389   \n",
       "std         0.263171       0.376032       0.176138       0.267646   \n",
       "min         0.000000       0.000000       0.000000       0.000000   \n",
       "25%         0.317000       0.102000       0.415000       0.255000   \n",
       "50%         0.540000       0.516000       0.548000       0.471000   \n",
       "75%         0.747000       0.893000       0.668000       0.703000   \n",
       "max         1.000000       0.996000       0.988000       1.000000   \n",
       "\n",
       "       instrumentalness       liveness       loudness    speechiness  \n",
       "count     170653.000000  170653.000000  170653.000000  170653.000000  \n",
       "mean           0.167010       0.205839     -11.467990       0.098393  \n",
       "std            0.313475       0.174805       5.697943       0.162740  \n",
       "min            0.000000       0.000000     -60.000000       0.000000  \n",
       "25%            0.000000       0.098800     -14.615000       0.034900  \n",
       "50%            0.000216       0.136000     -10.580000       0.045000  \n",
       "75%            0.102000       0.261000      -7.183000       0.075600  \n",
       "max            1.000000       1.000000       3.855000       0.970000  "
      ]
     },
     "execution_count": 6,
     "metadata": {},
     "output_type": "execute_result"
    }
   ],
   "source": [
    "X.describe()"
   ]
  },
  {
   "cell_type": "code",
   "execution_count": 7,
   "metadata": {},
   "outputs": [
    {
     "name": "stderr",
     "output_type": "stream",
     "text": [
      "<ipython-input-7-343353e4c333>:7: SettingWithCopyWarning: \n",
      "A value is trying to be set on a copy of a slice from a DataFrame.\n",
      "Try using .loc[row_indexer,col_indexer] = value instead\n",
      "\n",
      "See the caveats in the documentation: https://pandas.pydata.org/pandas-docs/stable/user_guide/indexing.html#returning-a-view-versus-a-copy\n",
      "  X[\"loudness\"] = minmaxScaler.fit_transform(loudness.reshape(-1, 1))\n"
     ]
    }
   ],
   "source": [
    "## Scale loudness to be between 0 and 1\n",
    "\n",
    "from sklearn.preprocessing import MinMaxScaler\n",
    "minmaxScaler = MinMaxScaler()\n",
    "\n",
    "loudness = X[\"loudness\"].values\n",
    "X[\"loudness\"] = minmaxScaler.fit_transform(loudness.reshape(-1, 1))"
   ]
  },
  {
   "cell_type": "code",
   "execution_count": 8,
   "metadata": {},
   "outputs": [
    {
     "data": {
      "text/html": [
       "<div>\n",
       "<style scoped>\n",
       "    .dataframe tbody tr th:only-of-type {\n",
       "        vertical-align: middle;\n",
       "    }\n",
       "\n",
       "    .dataframe tbody tr th {\n",
       "        vertical-align: top;\n",
       "    }\n",
       "\n",
       "    .dataframe thead th {\n",
       "        text-align: right;\n",
       "    }\n",
       "</style>\n",
       "<table border=\"1\" class=\"dataframe\">\n",
       "  <thead>\n",
       "    <tr style=\"text-align: right;\">\n",
       "      <th></th>\n",
       "      <th>valence</th>\n",
       "      <th>acousticness</th>\n",
       "      <th>danceability</th>\n",
       "      <th>energy</th>\n",
       "      <th>instrumentalness</th>\n",
       "      <th>liveness</th>\n",
       "      <th>loudness</th>\n",
       "      <th>speechiness</th>\n",
       "    </tr>\n",
       "  </thead>\n",
       "  <tbody>\n",
       "    <tr>\n",
       "      <th>count</th>\n",
       "      <td>170653.000000</td>\n",
       "      <td>170653.000000</td>\n",
       "      <td>170653.000000</td>\n",
       "      <td>170653.000000</td>\n",
       "      <td>170653.000000</td>\n",
       "      <td>170653.000000</td>\n",
       "      <td>170653.000000</td>\n",
       "      <td>170653.000000</td>\n",
       "    </tr>\n",
       "    <tr>\n",
       "      <th>mean</th>\n",
       "      <td>0.528587</td>\n",
       "      <td>0.502115</td>\n",
       "      <td>0.537396</td>\n",
       "      <td>0.482389</td>\n",
       "      <td>0.167010</td>\n",
       "      <td>0.205839</td>\n",
       "      <td>0.760035</td>\n",
       "      <td>0.098393</td>\n",
       "    </tr>\n",
       "    <tr>\n",
       "      <th>std</th>\n",
       "      <td>0.263171</td>\n",
       "      <td>0.376032</td>\n",
       "      <td>0.176138</td>\n",
       "      <td>0.267646</td>\n",
       "      <td>0.313475</td>\n",
       "      <td>0.174805</td>\n",
       "      <td>0.089233</td>\n",
       "      <td>0.162740</td>\n",
       "    </tr>\n",
       "    <tr>\n",
       "      <th>min</th>\n",
       "      <td>0.000000</td>\n",
       "      <td>0.000000</td>\n",
       "      <td>0.000000</td>\n",
       "      <td>0.000000</td>\n",
       "      <td>0.000000</td>\n",
       "      <td>0.000000</td>\n",
       "      <td>0.000000</td>\n",
       "      <td>0.000000</td>\n",
       "    </tr>\n",
       "    <tr>\n",
       "      <th>25%</th>\n",
       "      <td>0.317000</td>\n",
       "      <td>0.102000</td>\n",
       "      <td>0.415000</td>\n",
       "      <td>0.255000</td>\n",
       "      <td>0.000000</td>\n",
       "      <td>0.098800</td>\n",
       "      <td>0.710751</td>\n",
       "      <td>0.034900</td>\n",
       "    </tr>\n",
       "    <tr>\n",
       "      <th>50%</th>\n",
       "      <td>0.540000</td>\n",
       "      <td>0.516000</td>\n",
       "      <td>0.548000</td>\n",
       "      <td>0.471000</td>\n",
       "      <td>0.000216</td>\n",
       "      <td>0.136000</td>\n",
       "      <td>0.773941</td>\n",
       "      <td>0.045000</td>\n",
       "    </tr>\n",
       "    <tr>\n",
       "      <th>75%</th>\n",
       "      <td>0.747000</td>\n",
       "      <td>0.893000</td>\n",
       "      <td>0.668000</td>\n",
       "      <td>0.703000</td>\n",
       "      <td>0.102000</td>\n",
       "      <td>0.261000</td>\n",
       "      <td>0.827140</td>\n",
       "      <td>0.075600</td>\n",
       "    </tr>\n",
       "    <tr>\n",
       "      <th>max</th>\n",
       "      <td>1.000000</td>\n",
       "      <td>0.996000</td>\n",
       "      <td>0.988000</td>\n",
       "      <td>1.000000</td>\n",
       "      <td>1.000000</td>\n",
       "      <td>1.000000</td>\n",
       "      <td>1.000000</td>\n",
       "      <td>0.970000</td>\n",
       "    </tr>\n",
       "  </tbody>\n",
       "</table>\n",
       "</div>"
      ],
      "text/plain": [
       "             valence   acousticness   danceability         energy  \\\n",
       "count  170653.000000  170653.000000  170653.000000  170653.000000   \n",
       "mean        0.528587       0.502115       0.537396       0.482389   \n",
       "std         0.263171       0.376032       0.176138       0.267646   \n",
       "min         0.000000       0.000000       0.000000       0.000000   \n",
       "25%         0.317000       0.102000       0.415000       0.255000   \n",
       "50%         0.540000       0.516000       0.548000       0.471000   \n",
       "75%         0.747000       0.893000       0.668000       0.703000   \n",
       "max         1.000000       0.996000       0.988000       1.000000   \n",
       "\n",
       "       instrumentalness       liveness       loudness    speechiness  \n",
       "count     170653.000000  170653.000000  170653.000000  170653.000000  \n",
       "mean           0.167010       0.205839       0.760035       0.098393  \n",
       "std            0.313475       0.174805       0.089233       0.162740  \n",
       "min            0.000000       0.000000       0.000000       0.000000  \n",
       "25%            0.000000       0.098800       0.710751       0.034900  \n",
       "50%            0.000216       0.136000       0.773941       0.045000  \n",
       "75%            0.102000       0.261000       0.827140       0.075600  \n",
       "max            1.000000       1.000000       1.000000       0.970000  "
      ]
     },
     "execution_count": 8,
     "metadata": {},
     "output_type": "execute_result"
    }
   ],
   "source": [
    "X.describe()"
   ]
  },
  {
   "cell_type": "markdown",
   "metadata": {},
   "source": [
    "## Clustering"
   ]
  },
  {
   "cell_type": "code",
   "execution_count": 9,
   "metadata": {},
   "outputs": [
    {
     "name": "stdout",
     "output_type": "stream",
     "text": [
      "Completed:1\n",
      "Completed:2\n",
      "Completed:3\n",
      "Completed:4\n",
      "Completed:5\n",
      "Completed:6\n",
      "Completed:7\n",
      "Completed:8\n",
      "Completed:9\n",
      "Completed:10\n",
      "Completed:11\n",
      "Completed:12\n",
      "Completed:13\n",
      "Completed:14\n",
      "Completed:15\n",
      "Completed:16\n",
      "Completed:17\n",
      "Completed:18\n",
      "Completed:19\n"
     ]
    }
   ],
   "source": [
    "from sklearn.cluster import KMeans\n",
    "\n",
    "# use elbow method to find K\n",
    "ks = range(1, 20)\n",
    "sse = []\n",
    "\n",
    "for k in ks:\n",
    "    kmeans = KMeans(n_clusters=k)\n",
    "    kmeans.fit(X)\n",
    "    sse.append(kmeans.inertia_)\n",
    "    print(f'Completed:{k}')"
   ]
  },
  {
   "cell_type": "code",
   "execution_count": 10,
   "metadata": {},
   "outputs": [
    {
     "data": {
      "text/plain": [
       "Text(0, 0.5, 'SSE')"
      ]
     },
     "execution_count": 10,
     "metadata": {},
     "output_type": "execute_result"
    },
    {
     "data": {
      "image/png": "[encoded data removed]",
      "text/plain": [
       "<Figure size 432x288 with 1 Axes>"
      ]
     },
     "metadata": {
      "needs_background": "light"
     },
     "output_type": "display_data"
    }
   ],
   "source": [
    "plt.plot(ks, sse, '-o', color='black')\n",
    "plt.xticks(ks)\n",
    "plt.xlabel(\"Number of Clusters\")\n",
    "plt.ylabel(\"SSE\")"
   ]
  },
  {
   "cell_type": "markdown",
   "metadata": {},
   "source": [
    "From this I'm deciding to go with a K value of 5"
   ]
  },
  {
   "cell_type": "code",
   "execution_count": 11,
   "metadata": {},
   "outputs": [
    {
     "data": {
      "text/plain": [
       "32200.374407418385"
      ]
     },
     "execution_count": 11,
     "metadata": {},
     "output_type": "execute_result"
    }
   ],
   "source": [
    "cluster_model = KMeans(n_clusters=5)\n",
    "cluster_model.fit(X)\n",
    "\n",
    "cluster_model.inertia_"
   ]
  },
  {
   "cell_type": "code",
   "execution_count": 46,
   "metadata": {},
   "outputs": [],
   "source": [
    "pickle.dump(cluster_model, open(\"cluster_model.sav\", 'wb'))"
   ]
  },
  {
   "cell_type": "code",
   "execution_count": 12,
   "metadata": {},
   "outputs": [],
   "source": [
    "# Make predictions\n",
    "cluster_predictions = cluster_model.predict(X)"
   ]
  },
  {
   "cell_type": "code",
   "execution_count": 13,
   "metadata": {},
   "outputs": [
    {
     "data": {
      "text/plain": [
       "(170653,)"
      ]
     },
     "execution_count": 13,
     "metadata": {},
     "output_type": "execute_result"
    }
   ],
   "source": [
    "cluster_predictions.shape"
   ]
  },
  {
   "cell_type": "code",
   "execution_count": 14,
   "metadata": {},
   "outputs": [],
   "source": [
    "# Assign cluster back to main dataset\n",
    "data['cluster'] = cluster_predictions"
   ]
  },
  {
   "cell_type": "code",
   "execution_count": 15,
   "metadata": {},
   "outputs": [
    {
     "data": {
      "text/html": [
       "<div>\n",
       "<style scoped>\n",
       "    .dataframe tbody tr th:only-of-type {\n",
       "        vertical-align: middle;\n",
       "    }\n",
       "\n",
       "    .dataframe tbody tr th {\n",
       "        vertical-align: top;\n",
       "    }\n",
       "\n",
       "    .dataframe thead th {\n",
       "        text-align: right;\n",
       "    }\n",
       "</style>\n",
       "<table border=\"1\" class=\"dataframe\">\n",
       "  <thead>\n",
       "    <tr style=\"text-align: right;\">\n",
       "      <th></th>\n",
       "      <th>valence</th>\n",
       "      <th>year</th>\n",
       "      <th>acousticness</th>\n",
       "      <th>artists</th>\n",
       "      <th>danceability</th>\n",
       "      <th>duration_ms</th>\n",
       "      <th>energy</th>\n",
       "      <th>explicit</th>\n",
       "      <th>id</th>\n",
       "      <th>instrumentalness</th>\n",
       "      <th>key</th>\n",
       "      <th>liveness</th>\n",
       "      <th>loudness</th>\n",
       "      <th>mode</th>\n",
       "      <th>name</th>\n",
       "      <th>popularity</th>\n",
       "      <th>release_date</th>\n",
       "      <th>speechiness</th>\n",
       "      <th>tempo</th>\n",
       "      <th>cluster</th>\n",
       "    </tr>\n",
       "  </thead>\n",
       "  <tbody>\n",
       "    <tr>\n",
       "      <th>0</th>\n",
       "      <td>0.0594</td>\n",
       "      <td>1921</td>\n",
       "      <td>0.982</td>\n",
       "      <td>['Sergei Rachmaninoff', 'James Levine', 'Berli...</td>\n",
       "      <td>0.279</td>\n",
       "      <td>831667</td>\n",
       "      <td>0.211</td>\n",
       "      <td>0</td>\n",
       "      <td>4BJqT0PrAfrxzMOxytFOIz</td>\n",
       "      <td>0.878000</td>\n",
       "      <td>10</td>\n",
       "      <td>0.665</td>\n",
       "      <td>-20.096</td>\n",
       "      <td>1</td>\n",
       "      <td>Piano Concerto No. 3 in D Minor, Op. 30: III. ...</td>\n",
       "      <td>4</td>\n",
       "      <td>1921</td>\n",
       "      <td>0.0366</td>\n",
       "      <td>80.954</td>\n",
       "      <td>1</td>\n",
       "    </tr>\n",
       "    <tr>\n",
       "      <th>1</th>\n",
       "      <td>0.9630</td>\n",
       "      <td>1921</td>\n",
       "      <td>0.732</td>\n",
       "      <td>['Dennis Day']</td>\n",
       "      <td>0.819</td>\n",
       "      <td>180533</td>\n",
       "      <td>0.341</td>\n",
       "      <td>0</td>\n",
       "      <td>7xPhfUan2yNtyFG0cUWkt8</td>\n",
       "      <td>0.000000</td>\n",
       "      <td>7</td>\n",
       "      <td>0.160</td>\n",
       "      <td>-12.441</td>\n",
       "      <td>1</td>\n",
       "      <td>Clancy Lowered the Boom</td>\n",
       "      <td>5</td>\n",
       "      <td>1921</td>\n",
       "      <td>0.4150</td>\n",
       "      <td>60.936</td>\n",
       "      <td>4</td>\n",
       "    </tr>\n",
       "    <tr>\n",
       "      <th>2</th>\n",
       "      <td>0.0394</td>\n",
       "      <td>1921</td>\n",
       "      <td>0.961</td>\n",
       "      <td>['KHP Kridhamardawa Karaton Ngayogyakarta Hadi...</td>\n",
       "      <td>0.328</td>\n",
       "      <td>500062</td>\n",
       "      <td>0.166</td>\n",
       "      <td>0</td>\n",
       "      <td>1o6I8BglA6ylDMrIELygv1</td>\n",
       "      <td>0.913000</td>\n",
       "      <td>3</td>\n",
       "      <td>0.101</td>\n",
       "      <td>-14.850</td>\n",
       "      <td>1</td>\n",
       "      <td>Gati Bali</td>\n",
       "      <td>5</td>\n",
       "      <td>1921</td>\n",
       "      <td>0.0339</td>\n",
       "      <td>110.339</td>\n",
       "      <td>1</td>\n",
       "    </tr>\n",
       "    <tr>\n",
       "      <th>3</th>\n",
       "      <td>0.1650</td>\n",
       "      <td>1921</td>\n",
       "      <td>0.967</td>\n",
       "      <td>['Frank Parker']</td>\n",
       "      <td>0.275</td>\n",
       "      <td>210000</td>\n",
       "      <td>0.309</td>\n",
       "      <td>0</td>\n",
       "      <td>3ftBPsC5vPBKxYSee08FDH</td>\n",
       "      <td>0.000028</td>\n",
       "      <td>5</td>\n",
       "      <td>0.381</td>\n",
       "      <td>-9.316</td>\n",
       "      <td>1</td>\n",
       "      <td>Danny Boy</td>\n",
       "      <td>3</td>\n",
       "      <td>1921</td>\n",
       "      <td>0.0354</td>\n",
       "      <td>100.109</td>\n",
       "      <td>3</td>\n",
       "    </tr>\n",
       "    <tr>\n",
       "      <th>4</th>\n",
       "      <td>0.2530</td>\n",
       "      <td>1921</td>\n",
       "      <td>0.957</td>\n",
       "      <td>['Phil Regan']</td>\n",
       "      <td>0.418</td>\n",
       "      <td>166693</td>\n",
       "      <td>0.193</td>\n",
       "      <td>0</td>\n",
       "      <td>4d6HGyGT8e121BsdKmw9v6</td>\n",
       "      <td>0.000002</td>\n",
       "      <td>3</td>\n",
       "      <td>0.229</td>\n",
       "      <td>-10.096</td>\n",
       "      <td>1</td>\n",
       "      <td>When Irish Eyes Are Smiling</td>\n",
       "      <td>2</td>\n",
       "      <td>1921</td>\n",
       "      <td>0.0380</td>\n",
       "      <td>101.665</td>\n",
       "      <td>3</td>\n",
       "    </tr>\n",
       "  </tbody>\n",
       "</table>\n",
       "</div>"
      ],
      "text/plain": [
       "   valence  year  acousticness  \\\n",
       "0   0.0594  1921         0.982   \n",
       "1   0.9630  1921         0.732   \n",
       "2   0.0394  1921         0.961   \n",
       "3   0.1650  1921         0.967   \n",
       "4   0.2530  1921         0.957   \n",
       "\n",
       "                                             artists  danceability  \\\n",
       "0  ['Sergei Rachmaninoff', 'James Levine', 'Berli...         0.279   \n",
       "1                                     ['Dennis Day']         0.819   \n",
       "2  ['KHP Kridhamardawa Karaton Ngayogyakarta Hadi...         0.328   \n",
       "3                                   ['Frank Parker']         0.275   \n",
       "4                                     ['Phil Regan']         0.418   \n",
       "\n",
       "   duration_ms  energy  explicit                      id  instrumentalness  \\\n",
       "0       831667   0.211         0  4BJqT0PrAfrxzMOxytFOIz          0.878000   \n",
       "1       180533   0.341         0  7xPhfUan2yNtyFG0cUWkt8          0.000000   \n",
       "2       500062   0.166         0  1o6I8BglA6ylDMrIELygv1          0.913000   \n",
       "3       210000   0.309         0  3ftBPsC5vPBKxYSee08FDH          0.000028   \n",
       "4       166693   0.193         0  4d6HGyGT8e121BsdKmw9v6          0.000002   \n",
       "\n",
       "   key  liveness  loudness  mode  \\\n",
       "0   10     0.665   -20.096     1   \n",
       "1    7     0.160   -12.441     1   \n",
       "2    3     0.101   -14.850     1   \n",
       "3    5     0.381    -9.316     1   \n",
       "4    3     0.229   -10.096     1   \n",
       "\n",
       "                                                name  popularity release_date  \\\n",
       "0  Piano Concerto No. 3 in D Minor, Op. 30: III. ...           4         1921   \n",
       "1                            Clancy Lowered the Boom           5         1921   \n",
       "2                                          Gati Bali           5         1921   \n",
       "3                                          Danny Boy           3         1921   \n",
       "4                        When Irish Eyes Are Smiling           2         1921   \n",
       "\n",
       "   speechiness    tempo  cluster  \n",
       "0       0.0366   80.954        1  \n",
       "1       0.4150   60.936        4  \n",
       "2       0.0339  110.339        1  \n",
       "3       0.0354  100.109        3  \n",
       "4       0.0380  101.665        3  "
      ]
     },
     "execution_count": 15,
     "metadata": {},
     "output_type": "execute_result"
    }
   ],
   "source": [
    "data.head()"
   ]
  },
  {
   "cell_type": "markdown",
   "metadata": {},
   "source": [
    "## Visualizing Clusters"
   ]
  },
  {
   "cell_type": "code",
   "execution_count": 16,
   "metadata": {},
   "outputs": [],
   "source": [
    "# we can't visualize 8 features, so we break things down using PCA to get the most important features\n",
    "\n",
    "from sklearn.decomposition import PCA\n",
    "\n",
    "pca = PCA(n_components=2)\n",
    "pca_data = pca.fit_transform(X)"
   ]
  },
  {
   "cell_type": "code",
   "execution_count": 17,
   "metadata": {},
   "outputs": [],
   "source": [
    "pca_df = pd.DataFrame(pca_data)\n",
    "pca_df['cluster'] = cluster_predictions"
   ]
  },
  {
   "cell_type": "code",
   "execution_count": 18,
   "metadata": {},
   "outputs": [
    {
     "data": {
      "text/plain": [
       "<matplotlib.colorbar.Colorbar at 0x7fa2a9f3cd30>"
      ]
     },
     "execution_count": 18,
     "metadata": {},
     "output_type": "execute_result"
    },
    {
     "data": {
      "image/png": "[encoded data removed]",
      "text/plain": [
       "<Figure size 432x288 with 2 Axes>"
      ]
     },
     "metadata": {
      "needs_background": "light"
     },
     "output_type": "display_data"
    }
   ],
   "source": [
    "fig = plt.figure()\n",
    "ax = fig.add_subplot(111)\n",
    "\n",
    "scatter = ax.scatter(pca_df.iloc[:,0].values, pca_df.iloc[:,1].values, c=cluster_predictions, s=50)\n",
    "ax.set_xlabel('x')\n",
    "ax.set_ylabel('y')\n",
    "plt.colorbar(scatter)"
   ]
  },
  {
   "cell_type": "markdown",
   "metadata": {},
   "source": [
    "Cluster 0, 1, 2 and 3 are well defined. Also, a lot of songs don't fall into cluster 4"
   ]
  },
  {
   "cell_type": "markdown",
   "metadata": {},
   "source": [
    "### Analyse clusters"
   ]
  },
  {
   "cell_type": "code",
   "execution_count": 19,
   "metadata": {},
   "outputs": [
    {
     "data": {
      "text/html": [
       "<div>\n",
       "<style scoped>\n",
       "    .dataframe tbody tr th:only-of-type {\n",
       "        vertical-align: middle;\n",
       "    }\n",
       "\n",
       "    .dataframe tbody tr th {\n",
       "        vertical-align: top;\n",
       "    }\n",
       "\n",
       "    .dataframe thead th {\n",
       "        text-align: right;\n",
       "    }\n",
       "</style>\n",
       "<table border=\"1\" class=\"dataframe\">\n",
       "  <thead>\n",
       "    <tr style=\"text-align: right;\">\n",
       "      <th></th>\n",
       "      <th>valence</th>\n",
       "      <th>acousticness</th>\n",
       "      <th>danceability</th>\n",
       "      <th>energy</th>\n",
       "      <th>instrumentalness</th>\n",
       "      <th>liveness</th>\n",
       "      <th>loudness</th>\n",
       "      <th>speechiness</th>\n",
       "    </tr>\n",
       "  </thead>\n",
       "  <tbody>\n",
       "    <tr>\n",
       "      <th>count</th>\n",
       "      <td>5311.000000</td>\n",
       "      <td>5311.000000</td>\n",
       "      <td>5311.000000</td>\n",
       "      <td>5311.000000</td>\n",
       "      <td>5311.000000</td>\n",
       "      <td>5311.000000</td>\n",
       "      <td>5311.000000</td>\n",
       "      <td>5311.000000</td>\n",
       "    </tr>\n",
       "    <tr>\n",
       "      <th>mean</th>\n",
       "      <td>0.525984</td>\n",
       "      <td>0.513387</td>\n",
       "      <td>0.677604</td>\n",
       "      <td>0.249839</td>\n",
       "      <td>0.003762</td>\n",
       "      <td>0.305340</td>\n",
       "      <td>0.649238</td>\n",
       "      <td>0.895110</td>\n",
       "    </tr>\n",
       "    <tr>\n",
       "      <th>std</th>\n",
       "      <td>0.169894</td>\n",
       "      <td>0.302786</td>\n",
       "      <td>0.070437</td>\n",
       "      <td>0.150365</td>\n",
       "      <td>0.036865</td>\n",
       "      <td>0.202318</td>\n",
       "      <td>0.061754</td>\n",
       "      <td>0.108627</td>\n",
       "    </tr>\n",
       "    <tr>\n",
       "      <th>min</th>\n",
       "      <td>0.000000</td>\n",
       "      <td>0.000012</td>\n",
       "      <td>0.312000</td>\n",
       "      <td>0.004710</td>\n",
       "      <td>0.000000</td>\n",
       "      <td>0.032500</td>\n",
       "      <td>0.332582</td>\n",
       "      <td>0.335000</td>\n",
       "    </tr>\n",
       "    <tr>\n",
       "      <th>25%</th>\n",
       "      <td>0.404000</td>\n",
       "      <td>0.244000</td>\n",
       "      <td>0.639000</td>\n",
       "      <td>0.158000</td>\n",
       "      <td>0.000000</td>\n",
       "      <td>0.152000</td>\n",
       "      <td>0.608872</td>\n",
       "      <td>0.902000</td>\n",
       "    </tr>\n",
       "    <tr>\n",
       "      <th>50%</th>\n",
       "      <td>0.542000</td>\n",
       "      <td>0.525000</td>\n",
       "      <td>0.696000</td>\n",
       "      <td>0.212000</td>\n",
       "      <td>0.000000</td>\n",
       "      <td>0.248000</td>\n",
       "      <td>0.647827</td>\n",
       "      <td>0.938000</td>\n",
       "    </tr>\n",
       "    <tr>\n",
       "      <th>75%</th>\n",
       "      <td>0.651000</td>\n",
       "      <td>0.786000</td>\n",
       "      <td>0.718000</td>\n",
       "      <td>0.296000</td>\n",
       "      <td>0.000000</td>\n",
       "      <td>0.383000</td>\n",
       "      <td>0.682045</td>\n",
       "      <td>0.952000</td>\n",
       "    </tr>\n",
       "    <tr>\n",
       "      <th>max</th>\n",
       "      <td>1.000000</td>\n",
       "      <td>0.995000</td>\n",
       "      <td>0.977000</td>\n",
       "      <td>0.996000</td>\n",
       "      <td>0.759000</td>\n",
       "      <td>0.988000</td>\n",
       "      <td>0.886540</td>\n",
       "      <td>0.970000</td>\n",
       "    </tr>\n",
       "  </tbody>\n",
       "</table>\n",
       "</div>"
      ],
      "text/plain": [
       "           valence  acousticness  danceability       energy  instrumentalness  \\\n",
       "count  5311.000000   5311.000000   5311.000000  5311.000000       5311.000000   \n",
       "mean      0.525984      0.513387      0.677604     0.249839          0.003762   \n",
       "std       0.169894      0.302786      0.070437     0.150365          0.036865   \n",
       "min       0.000000      0.000012      0.312000     0.004710          0.000000   \n",
       "25%       0.404000      0.244000      0.639000     0.158000          0.000000   \n",
       "50%       0.542000      0.525000      0.696000     0.212000          0.000000   \n",
       "75%       0.651000      0.786000      0.718000     0.296000          0.000000   \n",
       "max       1.000000      0.995000      0.977000     0.996000          0.759000   \n",
       "\n",
       "          liveness     loudness  speechiness  \n",
       "count  5311.000000  5311.000000  5311.000000  \n",
       "mean      0.305340     0.649238     0.895110  \n",
       "std       0.202318     0.061754     0.108627  \n",
       "min       0.032500     0.332582     0.335000  \n",
       "25%       0.152000     0.608872     0.902000  \n",
       "50%       0.248000     0.647827     0.938000  \n",
       "75%       0.383000     0.682045     0.952000  \n",
       "max       0.988000     0.886540     0.970000  "
      ]
     },
     "execution_count": 19,
     "metadata": {},
     "output_type": "execute_result"
    }
   ],
   "source": [
    "clu0 = X[data.cluster == 0]\n",
    "clu0.describe()"
   ]
  },
  {
   "cell_type": "code",
   "execution_count": 20,
   "metadata": {},
   "outputs": [
    {
     "data": {
      "text/plain": [
       "<matplotlib.axes._subplots.AxesSubplot at 0x7fa2ab4f9760>"
      ]
     },
     "execution_count": 20,
     "metadata": {},
     "output_type": "execute_result"
    },
    {
     "data": {
      "image/png": "[encoded data removed]",
      "text/plain": [
       "<Figure size 432x288 with 1 Axes>"
      ]
     },
     "metadata": {
      "needs_background": "light"
     },
     "output_type": "display_data"
    }
   ],
   "source": [
    "clu0[feat_cols].mean().sort_values(ascending=False).plot(kind='bar')"
   ]
  },
  {
   "cell_type": "markdown",
   "metadata": {},
   "source": [
    "Cluster 0 has more Acoustic and loud songs"
   ]
  },
  {
   "cell_type": "code",
   "execution_count": 21,
   "metadata": {},
   "outputs": [
    {
     "data": {
      "text/html": [
       "<div>\n",
       "<style scoped>\n",
       "    .dataframe tbody tr th:only-of-type {\n",
       "        vertical-align: middle;\n",
       "    }\n",
       "\n",
       "    .dataframe tbody tr th {\n",
       "        vertical-align: top;\n",
       "    }\n",
       "\n",
       "    .dataframe thead th {\n",
       "        text-align: right;\n",
       "    }\n",
       "</style>\n",
       "<table border=\"1\" class=\"dataframe\">\n",
       "  <thead>\n",
       "    <tr style=\"text-align: right;\">\n",
       "      <th></th>\n",
       "      <th>valence</th>\n",
       "      <th>acousticness</th>\n",
       "      <th>danceability</th>\n",
       "      <th>energy</th>\n",
       "      <th>instrumentalness</th>\n",
       "      <th>liveness</th>\n",
       "      <th>loudness</th>\n",
       "      <th>speechiness</th>\n",
       "    </tr>\n",
       "  </thead>\n",
       "  <tbody>\n",
       "    <tr>\n",
       "      <th>count</th>\n",
       "      <td>25256.000000</td>\n",
       "      <td>25256.000000</td>\n",
       "      <td>25256.000000</td>\n",
       "      <td>25256.000000</td>\n",
       "      <td>25256.000000</td>\n",
       "      <td>25256.000000</td>\n",
       "      <td>25256.000000</td>\n",
       "      <td>25256.000000</td>\n",
       "    </tr>\n",
       "    <tr>\n",
       "      <th>mean</th>\n",
       "      <td>0.393225</td>\n",
       "      <td>0.884997</td>\n",
       "      <td>0.419401</td>\n",
       "      <td>0.242858</td>\n",
       "      <td>0.826395</td>\n",
       "      <td>0.182921</td>\n",
       "      <td>0.664232</td>\n",
       "      <td>0.059705</td>\n",
       "    </tr>\n",
       "    <tr>\n",
       "      <th>std</th>\n",
       "      <td>0.287171</td>\n",
       "      <td>0.191706</td>\n",
       "      <td>0.179093</td>\n",
       "      <td>0.184331</td>\n",
       "      <td>0.126977</td>\n",
       "      <td>0.150372</td>\n",
       "      <td>0.098322</td>\n",
       "      <td>0.058887</td>\n",
       "    </tr>\n",
       "    <tr>\n",
       "      <th>min</th>\n",
       "      <td>0.000000</td>\n",
       "      <td>0.000000</td>\n",
       "      <td>0.000000</td>\n",
       "      <td>0.000020</td>\n",
       "      <td>0.378000</td>\n",
       "      <td>0.022000</td>\n",
       "      <td>0.078302</td>\n",
       "      <td>0.000000</td>\n",
       "    </tr>\n",
       "    <tr>\n",
       "      <th>25%</th>\n",
       "      <td>0.128000</td>\n",
       "      <td>0.876000</td>\n",
       "      <td>0.288000</td>\n",
       "      <td>0.102000</td>\n",
       "      <td>0.773000</td>\n",
       "      <td>0.102000</td>\n",
       "      <td>0.607685</td>\n",
       "      <td>0.036800</td>\n",
       "    </tr>\n",
       "    <tr>\n",
       "      <th>50%</th>\n",
       "      <td>0.344000</td>\n",
       "      <td>0.970000</td>\n",
       "      <td>0.416000</td>\n",
       "      <td>0.204000</td>\n",
       "      <td>0.873000</td>\n",
       "      <td>0.122000</td>\n",
       "      <td>0.675867</td>\n",
       "      <td>0.043100</td>\n",
       "    </tr>\n",
       "    <tr>\n",
       "      <th>75%</th>\n",
       "      <td>0.631000</td>\n",
       "      <td>0.992000</td>\n",
       "      <td>0.548000</td>\n",
       "      <td>0.339000</td>\n",
       "      <td>0.916000</td>\n",
       "      <td>0.199000</td>\n",
       "      <td>0.734602</td>\n",
       "      <td>0.056100</td>\n",
       "    </tr>\n",
       "    <tr>\n",
       "      <th>max</th>\n",
       "      <td>0.990000</td>\n",
       "      <td>0.996000</td>\n",
       "      <td>0.934000</td>\n",
       "      <td>1.000000</td>\n",
       "      <td>1.000000</td>\n",
       "      <td>0.988000</td>\n",
       "      <td>1.000000</td>\n",
       "      <td>0.926000</td>\n",
       "    </tr>\n",
       "  </tbody>\n",
       "</table>\n",
       "</div>"
      ],
      "text/plain": [
       "            valence  acousticness  danceability        energy  \\\n",
       "count  25256.000000  25256.000000  25256.000000  25256.000000   \n",
       "mean       0.393225      0.884997      0.419401      0.242858   \n",
       "std        0.287171      0.191706      0.179093      0.184331   \n",
       "min        0.000000      0.000000      0.000000      0.000020   \n",
       "25%        0.128000      0.876000      0.288000      0.102000   \n",
       "50%        0.344000      0.970000      0.416000      0.204000   \n",
       "75%        0.631000      0.992000      0.548000      0.339000   \n",
       "max        0.990000      0.996000      0.934000      1.000000   \n",
       "\n",
       "       instrumentalness      liveness      loudness   speechiness  \n",
       "count      25256.000000  25256.000000  25256.000000  25256.000000  \n",
       "mean           0.826395      0.182921      0.664232      0.059705  \n",
       "std            0.126977      0.150372      0.098322      0.058887  \n",
       "min            0.378000      0.022000      0.078302      0.000000  \n",
       "25%            0.773000      0.102000      0.607685      0.036800  \n",
       "50%            0.873000      0.122000      0.675867      0.043100  \n",
       "75%            0.916000      0.199000      0.734602      0.056100  \n",
       "max            1.000000      0.988000      1.000000      0.926000  "
      ]
     },
     "execution_count": 21,
     "metadata": {},
     "output_type": "execute_result"
    }
   ],
   "source": [
    "clu1 = X[data.cluster == 1]\n",
    "clu1.describe()"
   ]
  },
  {
   "cell_type": "code",
   "execution_count": 22,
   "metadata": {},
   "outputs": [
    {
     "data": {
      "text/plain": [
       "<matplotlib.axes._subplots.AxesSubplot at 0x7fa2ab57eca0>"
      ]
     },
     "execution_count": 22,
     "metadata": {},
     "output_type": "execute_result"
    },
    {
     "data": {
      "image/png": "[encoded data removed]",
      "text/plain": [
       "<Figure size 432x288 with 1 Axes>"
      ]
     },
     "metadata": {
      "needs_background": "light"
     },
     "output_type": "display_data"
    }
   ],
   "source": [
    "clu1[feat_cols].mean().sort_values(ascending=False).plot(kind='bar')"
   ]
  },
  {
   "cell_type": "markdown",
   "metadata": {},
   "source": [
    "Cluster 1 has more happy and loud songs"
   ]
  },
  {
   "cell_type": "code",
   "execution_count": 23,
   "metadata": {},
   "outputs": [
    {
     "data": {
      "text/html": [
       "<div>\n",
       "<style scoped>\n",
       "    .dataframe tbody tr th:only-of-type {\n",
       "        vertical-align: middle;\n",
       "    }\n",
       "\n",
       "    .dataframe tbody tr th {\n",
       "        vertical-align: top;\n",
       "    }\n",
       "\n",
       "    .dataframe thead th {\n",
       "        text-align: right;\n",
       "    }\n",
       "</style>\n",
       "<table border=\"1\" class=\"dataframe\">\n",
       "  <thead>\n",
       "    <tr style=\"text-align: right;\">\n",
       "      <th></th>\n",
       "      <th>valence</th>\n",
       "      <th>acousticness</th>\n",
       "      <th>danceability</th>\n",
       "      <th>energy</th>\n",
       "      <th>instrumentalness</th>\n",
       "      <th>liveness</th>\n",
       "      <th>loudness</th>\n",
       "      <th>speechiness</th>\n",
       "    </tr>\n",
       "  </thead>\n",
       "  <tbody>\n",
       "    <tr>\n",
       "      <th>count</th>\n",
       "      <td>71479.000000</td>\n",
       "      <td>71479.000000</td>\n",
       "      <td>71479.000000</td>\n",
       "      <td>71479.000000</td>\n",
       "      <td>71479.000000</td>\n",
       "      <td>71479.000000</td>\n",
       "      <td>71479.000000</td>\n",
       "      <td>71479.000000</td>\n",
       "    </tr>\n",
       "    <tr>\n",
       "      <th>mean</th>\n",
       "      <td>0.576430</td>\n",
       "      <td>0.115265</td>\n",
       "      <td>0.582381</td>\n",
       "      <td>0.709849</td>\n",
       "      <td>0.071648</td>\n",
       "      <td>0.209664</td>\n",
       "      <td>0.817526</td>\n",
       "      <td>0.084625</td>\n",
       "    </tr>\n",
       "    <tr>\n",
       "      <th>std</th>\n",
       "      <td>0.237658</td>\n",
       "      <td>0.123262</td>\n",
       "      <td>0.167353</td>\n",
       "      <td>0.172841</td>\n",
       "      <td>0.196606</td>\n",
       "      <td>0.184039</td>\n",
       "      <td>0.051567</td>\n",
       "      <td>0.085908</td>\n",
       "    </tr>\n",
       "    <tr>\n",
       "      <th>min</th>\n",
       "      <td>0.000000</td>\n",
       "      <td>0.000000</td>\n",
       "      <td>0.000000</td>\n",
       "      <td>0.000103</td>\n",
       "      <td>0.000000</td>\n",
       "      <td>0.010100</td>\n",
       "      <td>0.365860</td>\n",
       "      <td>0.000000</td>\n",
       "    </tr>\n",
       "    <tr>\n",
       "      <th>25%</th>\n",
       "      <td>0.392000</td>\n",
       "      <td>0.011000</td>\n",
       "      <td>0.467000</td>\n",
       "      <td>0.583000</td>\n",
       "      <td>0.000000</td>\n",
       "      <td>0.091300</td>\n",
       "      <td>0.785671</td>\n",
       "      <td>0.035200</td>\n",
       "    </tr>\n",
       "    <tr>\n",
       "      <th>50%</th>\n",
       "      <td>0.588000</td>\n",
       "      <td>0.068000</td>\n",
       "      <td>0.589000</td>\n",
       "      <td>0.722000</td>\n",
       "      <td>0.000044</td>\n",
       "      <td>0.137000</td>\n",
       "      <td>0.826278</td>\n",
       "      <td>0.049300</td>\n",
       "    </tr>\n",
       "    <tr>\n",
       "      <th>75%</th>\n",
       "      <td>0.771000</td>\n",
       "      <td>0.193000</td>\n",
       "      <td>0.706000</td>\n",
       "      <td>0.853000</td>\n",
       "      <td>0.007010</td>\n",
       "      <td>0.278000</td>\n",
       "      <td>0.856362</td>\n",
       "      <td>0.089800</td>\n",
       "    </tr>\n",
       "    <tr>\n",
       "      <th>max</th>\n",
       "      <td>1.000000</td>\n",
       "      <td>0.653000</td>\n",
       "      <td>0.988000</td>\n",
       "      <td>1.000000</td>\n",
       "      <td>0.999000</td>\n",
       "      <td>1.000000</td>\n",
       "      <td>0.998262</td>\n",
       "      <td>0.901000</td>\n",
       "    </tr>\n",
       "  </tbody>\n",
       "</table>\n",
       "</div>"
      ],
      "text/plain": [
       "            valence  acousticness  danceability        energy  \\\n",
       "count  71479.000000  71479.000000  71479.000000  71479.000000   \n",
       "mean       0.576430      0.115265      0.582381      0.709849   \n",
       "std        0.237658      0.123262      0.167353      0.172841   \n",
       "min        0.000000      0.000000      0.000000      0.000103   \n",
       "25%        0.392000      0.011000      0.467000      0.583000   \n",
       "50%        0.588000      0.068000      0.589000      0.722000   \n",
       "75%        0.771000      0.193000      0.706000      0.853000   \n",
       "max        1.000000      0.653000      0.988000      1.000000   \n",
       "\n",
       "       instrumentalness      liveness      loudness   speechiness  \n",
       "count      71479.000000  71479.000000  71479.000000  71479.000000  \n",
       "mean           0.071648      0.209664      0.817526      0.084625  \n",
       "std            0.196606      0.184039      0.051567      0.085908  \n",
       "min            0.000000      0.010100      0.365860      0.000000  \n",
       "25%            0.000000      0.091300      0.785671      0.035200  \n",
       "50%            0.000044      0.137000      0.826278      0.049300  \n",
       "75%            0.007010      0.278000      0.856362      0.089800  \n",
       "max            0.999000      1.000000      0.998262      0.901000  "
      ]
     },
     "execution_count": 23,
     "metadata": {},
     "output_type": "execute_result"
    }
   ],
   "source": [
    "clu2 = X[data.cluster == 2]\n",
    "clu2.describe()"
   ]
  },
  {
   "cell_type": "code",
   "execution_count": 24,
   "metadata": {},
   "outputs": [
    {
     "data": {
      "text/plain": [
       "<matplotlib.axes._subplots.AxesSubplot at 0x7fa2bcf3e7c0>"
      ]
     },
     "execution_count": 24,
     "metadata": {},
     "output_type": "execute_result"
    },
    {
     "data": {
      "image/png": "[encoded data removed]",
      "text/plain": [
       "<Figure size 432x288 with 1 Axes>"
      ]
     },
     "metadata": {
      "needs_background": "light"
     },
     "output_type": "display_data"
    }
   ],
   "source": [
    "clu2[feat_cols].mean().sort_values(ascending=False).plot(kind='bar') # I'm guess rock or metal"
   ]
  },
  {
   "cell_type": "code",
   "execution_count": 25,
   "metadata": {},
   "outputs": [
    {
     "data": {
      "text/html": [
       "<div>\n",
       "<style scoped>\n",
       "    .dataframe tbody tr th:only-of-type {\n",
       "        vertical-align: middle;\n",
       "    }\n",
       "\n",
       "    .dataframe tbody tr th {\n",
       "        vertical-align: top;\n",
       "    }\n",
       "\n",
       "    .dataframe thead th {\n",
       "        text-align: right;\n",
       "    }\n",
       "</style>\n",
       "<table border=\"1\" class=\"dataframe\">\n",
       "  <thead>\n",
       "    <tr style=\"text-align: right;\">\n",
       "      <th></th>\n",
       "      <th>valence</th>\n",
       "      <th>acousticness</th>\n",
       "      <th>danceability</th>\n",
       "      <th>energy</th>\n",
       "      <th>instrumentalness</th>\n",
       "      <th>liveness</th>\n",
       "      <th>loudness</th>\n",
       "      <th>speechiness</th>\n",
       "    </tr>\n",
       "  </thead>\n",
       "  <tbody>\n",
       "    <tr>\n",
       "      <th>count</th>\n",
       "      <td>34233.000000</td>\n",
       "      <td>34233.000000</td>\n",
       "      <td>34233.000000</td>\n",
       "      <td>34233.000000</td>\n",
       "      <td>34233.000000</td>\n",
       "      <td>34233.000000</td>\n",
       "      <td>34233.000000</td>\n",
       "      <td>34233.000000</td>\n",
       "    </tr>\n",
       "    <tr>\n",
       "      <th>mean</th>\n",
       "      <td>0.306124</td>\n",
       "      <td>0.820328</td>\n",
       "      <td>0.429343</td>\n",
       "      <td>0.239742</td>\n",
       "      <td>0.034364</td>\n",
       "      <td>0.194893</td>\n",
       "      <td>0.715224</td>\n",
       "      <td>0.051908</td>\n",
       "    </tr>\n",
       "    <tr>\n",
       "      <th>std</th>\n",
       "      <td>0.152596</td>\n",
       "      <td>0.175439</td>\n",
       "      <td>0.143647</td>\n",
       "      <td>0.133800</td>\n",
       "      <td>0.085147</td>\n",
       "      <td>0.161459</td>\n",
       "      <td>0.074247</td>\n",
       "      <td>0.051687</td>\n",
       "    </tr>\n",
       "    <tr>\n",
       "      <th>min</th>\n",
       "      <td>0.000000</td>\n",
       "      <td>0.000000</td>\n",
       "      <td>0.000000</td>\n",
       "      <td>0.000000</td>\n",
       "      <td>0.000000</td>\n",
       "      <td>0.000000</td>\n",
       "      <td>0.000000</td>\n",
       "      <td>0.000000</td>\n",
       "    </tr>\n",
       "    <tr>\n",
       "      <th>25%</th>\n",
       "      <td>0.183000</td>\n",
       "      <td>0.728000</td>\n",
       "      <td>0.324000</td>\n",
       "      <td>0.138000</td>\n",
       "      <td>0.000001</td>\n",
       "      <td>0.104000</td>\n",
       "      <td>0.674387</td>\n",
       "      <td>0.032300</td>\n",
       "    </tr>\n",
       "    <tr>\n",
       "      <th>50%</th>\n",
       "      <td>0.301000</td>\n",
       "      <td>0.881000</td>\n",
       "      <td>0.430000</td>\n",
       "      <td>0.226000</td>\n",
       "      <td>0.000126</td>\n",
       "      <td>0.130000</td>\n",
       "      <td>0.723624</td>\n",
       "      <td>0.037900</td>\n",
       "    </tr>\n",
       "    <tr>\n",
       "      <th>75%</th>\n",
       "      <td>0.421000</td>\n",
       "      <td>0.961000</td>\n",
       "      <td>0.533000</td>\n",
       "      <td>0.324000</td>\n",
       "      <td>0.009850</td>\n",
       "      <td>0.223000</td>\n",
       "      <td>0.766267</td>\n",
       "      <td>0.048600</td>\n",
       "    </tr>\n",
       "    <tr>\n",
       "      <th>max</th>\n",
       "      <td>0.814000</td>\n",
       "      <td>0.996000</td>\n",
       "      <td>0.911000</td>\n",
       "      <td>0.999000</td>\n",
       "      <td>0.504000</td>\n",
       "      <td>0.998000</td>\n",
       "      <td>0.918832</td>\n",
       "      <td>0.634000</td>\n",
       "    </tr>\n",
       "  </tbody>\n",
       "</table>\n",
       "</div>"
      ],
      "text/plain": [
       "            valence  acousticness  danceability        energy  \\\n",
       "count  34233.000000  34233.000000  34233.000000  34233.000000   \n",
       "mean       0.306124      0.820328      0.429343      0.239742   \n",
       "std        0.152596      0.175439      0.143647      0.133800   \n",
       "min        0.000000      0.000000      0.000000      0.000000   \n",
       "25%        0.183000      0.728000      0.324000      0.138000   \n",
       "50%        0.301000      0.881000      0.430000      0.226000   \n",
       "75%        0.421000      0.961000      0.533000      0.324000   \n",
       "max        0.814000      0.996000      0.911000      0.999000   \n",
       "\n",
       "       instrumentalness      liveness      loudness   speechiness  \n",
       "count      34233.000000  34233.000000  34233.000000  34233.000000  \n",
       "mean           0.034364      0.194893      0.715224      0.051908  \n",
       "std            0.085147      0.161459      0.074247      0.051687  \n",
       "min            0.000000      0.000000      0.000000      0.000000  \n",
       "25%            0.000001      0.104000      0.674387      0.032300  \n",
       "50%            0.000126      0.130000      0.723624      0.037900  \n",
       "75%            0.009850      0.223000      0.766267      0.048600  \n",
       "max            0.504000      0.998000      0.918832      0.634000  "
      ]
     },
     "execution_count": 25,
     "metadata": {},
     "output_type": "execute_result"
    }
   ],
   "source": [
    "clu3 = X[data.cluster == 3]\n",
    "clu3.describe()"
   ]
  },
  {
   "cell_type": "code",
   "execution_count": 26,
   "metadata": {},
   "outputs": [
    {
     "data": {
      "text/plain": [
       "<matplotlib.axes._subplots.AxesSubplot at 0x7fa2ab793f40>"
      ]
     },
     "execution_count": 26,
     "metadata": {},
     "output_type": "execute_result"
    },
    {
     "data": {
      "image/png": "[encoded data removed]",
      "text/plain": [
       "<Figure size 432x288 with 1 Axes>"
      ]
     },
     "metadata": {
      "needs_background": "light"
     },
     "output_type": "display_data"
    }
   ],
   "source": [
    "clu3[feat_cols].mean().sort_values(ascending=False).plot(kind='bar') # I'm guessing slow soundtracks"
   ]
  },
  {
   "cell_type": "code",
   "execution_count": 27,
   "metadata": {},
   "outputs": [
    {
     "data": {
      "text/html": [
       "<div>\n",
       "<style scoped>\n",
       "    .dataframe tbody tr th:only-of-type {\n",
       "        vertical-align: middle;\n",
       "    }\n",
       "\n",
       "    .dataframe tbody tr th {\n",
       "        vertical-align: top;\n",
       "    }\n",
       "\n",
       "    .dataframe thead th {\n",
       "        text-align: right;\n",
       "    }\n",
       "</style>\n",
       "<table border=\"1\" class=\"dataframe\">\n",
       "  <thead>\n",
       "    <tr style=\"text-align: right;\">\n",
       "      <th></th>\n",
       "      <th>valence</th>\n",
       "      <th>acousticness</th>\n",
       "      <th>danceability</th>\n",
       "      <th>energy</th>\n",
       "      <th>instrumentalness</th>\n",
       "      <th>liveness</th>\n",
       "      <th>loudness</th>\n",
       "      <th>speechiness</th>\n",
       "    </tr>\n",
       "  </thead>\n",
       "  <tbody>\n",
       "    <tr>\n",
       "      <th>count</th>\n",
       "      <td>34374.000000</td>\n",
       "      <td>34374.000000</td>\n",
       "      <td>34374.000000</td>\n",
       "      <td>34374.000000</td>\n",
       "      <td>34374.000000</td>\n",
       "      <td>34374.000000</td>\n",
       "      <td>34374.000000</td>\n",
       "      <td>34374.000000</td>\n",
       "    </tr>\n",
       "    <tr>\n",
       "      <th>mean</th>\n",
       "      <td>0.750510</td>\n",
       "      <td>0.706581</td>\n",
       "      <td>0.616492</td>\n",
       "      <td>0.462971</td>\n",
       "      <td>0.038156</td>\n",
       "      <td>0.210249</td>\n",
       "      <td>0.772619</td>\n",
       "      <td>0.078647</td>\n",
       "    </tr>\n",
       "    <tr>\n",
       "      <th>std</th>\n",
       "      <td>0.146273</td>\n",
       "      <td>0.192361</td>\n",
       "      <td>0.124681</td>\n",
       "      <td>0.173541</td>\n",
       "      <td>0.107637</td>\n",
       "      <td>0.174035</td>\n",
       "      <td>0.056104</td>\n",
       "      <td>0.083642</td>\n",
       "    </tr>\n",
       "    <tr>\n",
       "      <th>min</th>\n",
       "      <td>0.216000</td>\n",
       "      <td>0.122000</td>\n",
       "      <td>0.127000</td>\n",
       "      <td>0.000685</td>\n",
       "      <td>0.000000</td>\n",
       "      <td>0.009670</td>\n",
       "      <td>0.349965</td>\n",
       "      <td>0.022600</td>\n",
       "    </tr>\n",
       "    <tr>\n",
       "      <th>25%</th>\n",
       "      <td>0.644000</td>\n",
       "      <td>0.551000</td>\n",
       "      <td>0.531000</td>\n",
       "      <td>0.336000</td>\n",
       "      <td>0.000000</td>\n",
       "      <td>0.097700</td>\n",
       "      <td>0.737170</td>\n",
       "      <td>0.035600</td>\n",
       "    </tr>\n",
       "    <tr>\n",
       "      <th>50%</th>\n",
       "      <td>0.759000</td>\n",
       "      <td>0.712000</td>\n",
       "      <td>0.620000</td>\n",
       "      <td>0.453000</td>\n",
       "      <td>0.000028</td>\n",
       "      <td>0.143000</td>\n",
       "      <td>0.776603</td>\n",
       "      <td>0.046900</td>\n",
       "    </tr>\n",
       "    <tr>\n",
       "      <th>75%</th>\n",
       "      <td>0.874000</td>\n",
       "      <td>0.870000</td>\n",
       "      <td>0.704000</td>\n",
       "      <td>0.576000</td>\n",
       "      <td>0.004925</td>\n",
       "      <td>0.273000</td>\n",
       "      <td>0.812544</td>\n",
       "      <td>0.077300</td>\n",
       "    </tr>\n",
       "    <tr>\n",
       "      <th>max</th>\n",
       "      <td>1.000000</td>\n",
       "      <td>0.996000</td>\n",
       "      <td>0.980000</td>\n",
       "      <td>0.991000</td>\n",
       "      <td>0.865000</td>\n",
       "      <td>0.997000</td>\n",
       "      <td>0.956433</td>\n",
       "      <td>0.705000</td>\n",
       "    </tr>\n",
       "  </tbody>\n",
       "</table>\n",
       "</div>"
      ],
      "text/plain": [
       "            valence  acousticness  danceability        energy  \\\n",
       "count  34374.000000  34374.000000  34374.000000  34374.000000   \n",
       "mean       0.750510      0.706581      0.616492      0.462971   \n",
       "std        0.146273      0.192361      0.124681      0.173541   \n",
       "min        0.216000      0.122000      0.127000      0.000685   \n",
       "25%        0.644000      0.551000      0.531000      0.336000   \n",
       "50%        0.759000      0.712000      0.620000      0.453000   \n",
       "75%        0.874000      0.870000      0.704000      0.576000   \n",
       "max        1.000000      0.996000      0.980000      0.991000   \n",
       "\n",
       "       instrumentalness      liveness      loudness   speechiness  \n",
       "count      34374.000000  34374.000000  34374.000000  34374.000000  \n",
       "mean           0.038156      0.210249      0.772619      0.078647  \n",
       "std            0.107637      0.174035      0.056104      0.083642  \n",
       "min            0.000000      0.009670      0.349965      0.022600  \n",
       "25%            0.000000      0.097700      0.737170      0.035600  \n",
       "50%            0.000028      0.143000      0.776603      0.046900  \n",
       "75%            0.004925      0.273000      0.812544      0.077300  \n",
       "max            0.865000      0.997000      0.956433      0.705000  "
      ]
     },
     "execution_count": 27,
     "metadata": {},
     "output_type": "execute_result"
    }
   ],
   "source": [
    "clu4 = X[data.cluster == 4]\n",
    "clu4.describe()"
   ]
  },
  {
   "cell_type": "code",
   "execution_count": 28,
   "metadata": {},
   "outputs": [
    {
     "data": {
      "text/plain": [
       "<matplotlib.axes._subplots.AxesSubplot at 0x7fa2a8a6deb0>"
      ]
     },
     "execution_count": 28,
     "metadata": {},
     "output_type": "execute_result"
    },
    {
     "data": {
      "image/png": "[encoded data removed]",
      "text/plain": [
       "<Figure size 432x288 with 1 Axes>"
      ]
     },
     "metadata": {
      "needs_background": "light"
     },
     "output_type": "display_data"
    }
   ],
   "source": [
    "clu4[feat_cols].mean().sort_values(ascending=False).plot(kind='bar') # I'm guessing rap songs"
   ]
  },
  {
   "cell_type": "markdown",
   "metadata": {},
   "source": [
    "## Classifying"
   ]
  },
  {
   "cell_type": "code",
   "execution_count": 29,
   "metadata": {},
   "outputs": [
    {
     "name": "stderr",
     "output_type": "stream",
     "text": [
      "<ipython-input-29-a16f73686ad0>:4: SettingWithCopyWarning: \n",
      "A value is trying to be set on a copy of a slice from a DataFrame.\n",
      "Try using .loc[row_indexer,col_indexer] = value instead\n",
      "\n",
      "See the caveats in the documentation: https://pandas.pydata.org/pandas-docs/stable/user_guide/indexing.html#returning-a-view-versus-a-copy\n",
      "  df_classify[\"loudness\"] = minmaxScaler.fit_transform(loudness.reshape(-1, 1))\n"
     ]
    }
   ],
   "source": [
    "df_classify = data[feat_cols + ['cluster']]\n",
    "\n",
    "loudness = df_classify[\"loudness\"].values\n",
    "df_classify[\"loudness\"] = minmaxScaler.fit_transform(loudness.reshape(-1, 1))"
   ]
  },
  {
   "cell_type": "code",
   "execution_count": 30,
   "metadata": {},
   "outputs": [
    {
     "data": {
      "text/html": [
       "<div>\n",
       "<style scoped>\n",
       "    .dataframe tbody tr th:only-of-type {\n",
       "        vertical-align: middle;\n",
       "    }\n",
       "\n",
       "    .dataframe tbody tr th {\n",
       "        vertical-align: top;\n",
       "    }\n",
       "\n",
       "    .dataframe thead th {\n",
       "        text-align: right;\n",
       "    }\n",
       "</style>\n",
       "<table border=\"1\" class=\"dataframe\">\n",
       "  <thead>\n",
       "    <tr style=\"text-align: right;\">\n",
       "      <th></th>\n",
       "      <th>valence</th>\n",
       "      <th>acousticness</th>\n",
       "      <th>danceability</th>\n",
       "      <th>energy</th>\n",
       "      <th>instrumentalness</th>\n",
       "      <th>liveness</th>\n",
       "      <th>loudness</th>\n",
       "      <th>speechiness</th>\n",
       "      <th>cluster</th>\n",
       "    </tr>\n",
       "  </thead>\n",
       "  <tbody>\n",
       "    <tr>\n",
       "      <th>0</th>\n",
       "      <td>0.0594</td>\n",
       "      <td>0.982</td>\n",
       "      <td>0.279</td>\n",
       "      <td>0.211</td>\n",
       "      <td>0.878000</td>\n",
       "      <td>0.665</td>\n",
       "      <td>0.624916</td>\n",
       "      <td>0.0366</td>\n",
       "      <td>1</td>\n",
       "    </tr>\n",
       "    <tr>\n",
       "      <th>1</th>\n",
       "      <td>0.9630</td>\n",
       "      <td>0.732</td>\n",
       "      <td>0.819</td>\n",
       "      <td>0.341</td>\n",
       "      <td>0.000000</td>\n",
       "      <td>0.160</td>\n",
       "      <td>0.744797</td>\n",
       "      <td>0.4150</td>\n",
       "      <td>4</td>\n",
       "    </tr>\n",
       "    <tr>\n",
       "      <th>2</th>\n",
       "      <td>0.0394</td>\n",
       "      <td>0.961</td>\n",
       "      <td>0.328</td>\n",
       "      <td>0.166</td>\n",
       "      <td>0.913000</td>\n",
       "      <td>0.101</td>\n",
       "      <td>0.707071</td>\n",
       "      <td>0.0339</td>\n",
       "      <td>1</td>\n",
       "    </tr>\n",
       "    <tr>\n",
       "      <th>3</th>\n",
       "      <td>0.1650</td>\n",
       "      <td>0.967</td>\n",
       "      <td>0.275</td>\n",
       "      <td>0.309</td>\n",
       "      <td>0.000028</td>\n",
       "      <td>0.381</td>\n",
       "      <td>0.793736</td>\n",
       "      <td>0.0354</td>\n",
       "      <td>3</td>\n",
       "    </tr>\n",
       "    <tr>\n",
       "      <th>4</th>\n",
       "      <td>0.2530</td>\n",
       "      <td>0.957</td>\n",
       "      <td>0.418</td>\n",
       "      <td>0.193</td>\n",
       "      <td>0.000002</td>\n",
       "      <td>0.229</td>\n",
       "      <td>0.781521</td>\n",
       "      <td>0.0380</td>\n",
       "      <td>3</td>\n",
       "    </tr>\n",
       "  </tbody>\n",
       "</table>\n",
       "</div>"
      ],
      "text/plain": [
       "   valence  acousticness  danceability  energy  instrumentalness  liveness  \\\n",
       "0   0.0594         0.982         0.279   0.211          0.878000     0.665   \n",
       "1   0.9630         0.732         0.819   0.341          0.000000     0.160   \n",
       "2   0.0394         0.961         0.328   0.166          0.913000     0.101   \n",
       "3   0.1650         0.967         0.275   0.309          0.000028     0.381   \n",
       "4   0.2530         0.957         0.418   0.193          0.000002     0.229   \n",
       "\n",
       "   loudness  speechiness  cluster  \n",
       "0  0.624916       0.0366        1  \n",
       "1  0.744797       0.4150        4  \n",
       "2  0.707071       0.0339        1  \n",
       "3  0.793736       0.0354        3  \n",
       "4  0.781521       0.0380        3  "
      ]
     },
     "execution_count": 30,
     "metadata": {},
     "output_type": "execute_result"
    }
   ],
   "source": [
    "df_classify.head()"
   ]
  },
  {
   "cell_type": "code",
   "execution_count": 31,
   "metadata": {},
   "outputs": [],
   "source": [
    "X = df_classify[feat_cols]\n",
    "y = df_classify['cluster']"
   ]
  },
  {
   "cell_type": "markdown",
   "metadata": {},
   "source": [
    "### Split data"
   ]
  },
  {
   "cell_type": "code",
   "execution_count": 32,
   "metadata": {},
   "outputs": [],
   "source": [
    "from sklearn.model_selection import train_test_split\n",
    "\n",
    "X_train, X_test, y_train, y_test=train_test_split(X,y,test_size=0.2)"
   ]
  },
  {
   "cell_type": "markdown",
   "metadata": {},
   "source": [
    "### Train models"
   ]
  },
  {
   "cell_type": "code",
   "execution_count": 33,
   "metadata": {},
   "outputs": [
    {
     "name": "stdout",
     "output_type": "stream",
     "text": [
      "0.9859658375084235\n"
     ]
    },
    {
     "data": {
      "image/png": "[encoded data removed]",
      "text/plain": [
       "<Figure size 720x432 with 1 Axes>"
      ]
     },
     "metadata": {
      "needs_background": "light"
     },
     "output_type": "display_data"
    }
   ],
   "source": [
    "from sklearn.metrics import confusion_matrix, accuracy_score\n",
    "from sklearn.neighbors import KNeighborsClassifier\n",
    "\n",
    "kn = range(1, 30)\n",
    "accuracy = []\n",
    "for i in kn:\n",
    "    knn = KNeighborsClassifier(n_neighbors=i)\n",
    "    knn.fit(X_train, y_train)\n",
    "    pred = knn.predict(X_test)\n",
    "    accuracy.append(accuracy_score(y_test, pred))\n",
    "    \n",
    "plt.rcParams[\"figure.figsize\"] = (10,6)\n",
    "plt.plot(kn, accuracy, '-o', color='black')\n",
    "plt.xticks(kn)\n",
    "plt.xlabel(\"Number of Neighbors\")\n",
    "plt.ylabel(\"Accuracy\")\n",
    "\n",
    "print(max(accuracy))"
   ]
  },
  {
   "cell_type": "code",
   "execution_count": 34,
   "metadata": {},
   "outputs": [
    {
     "name": "stdout",
     "output_type": "stream",
     "text": [
      "0.9586299844715948\n"
     ]
    },
    {
     "data": {
      "image/png": "[encoded data removed]",
      "text/plain": [
       "<Figure size 720x504 with 1 Axes>"
      ]
     },
     "metadata": {
      "needs_background": "light"
     },
     "output_type": "display_data"
    }
   ],
   "source": [
    "from sklearn.ensemble import RandomForestClassifier\n",
    "\n",
    "ln = range(2, 30)\n",
    "accuracy = []\n",
    "for i in ln:\n",
    "    rf = RandomForestClassifier(max_leaf_nodes=i)\n",
    "    rf.fit(X_train, y_train)\n",
    "    pred = rf.predict(X_test)\n",
    "    accuracy.append(accuracy_score(y_test, pred))\n",
    "    \n",
    "plt.rcParams[\"figure.figsize\"] = (10,7)\n",
    "plt.plot(ln, accuracy, '-o', color='black')\n",
    "plt.xticks(ln)\n",
    "plt.xlabel(\"Number of Neighbors\")\n",
    "plt.ylabel(\"Accuracy\")\n",
    "\n",
    "print(max(accuracy))"
   ]
  },
  {
   "cell_type": "code",
   "execution_count": 35,
   "metadata": {},
   "outputs": [],
   "source": [
    "from sklearn.svm import SVC\n",
    "\n",
    "classification_model = SVC()\n",
    "classification_model.fit(X_train, y_train)\n",
    "pred = classification_model.predict(X_test)"
   ]
  },
  {
   "cell_type": "code",
   "execution_count": 36,
   "metadata": {},
   "outputs": [
    {
     "data": {
      "text/plain": [
       "0.9971580088482611"
      ]
     },
     "execution_count": 36,
     "metadata": {},
     "output_type": "execute_result"
    }
   ],
   "source": [
    "accuracy_score(y_test, pred)"
   ]
  },
  {
   "cell_type": "code",
   "execution_count": 37,
   "metadata": {},
   "outputs": [
    {
     "data": {
      "text/plain": [
       "array([[ 1047,     1,     6,     1,     5],\n",
       "       [    0,  5121,     9,     2,     1],\n",
       "       [    0,     8, 14189,    10,     3],\n",
       "       [    1,     7,     4,  6845,     7],\n",
       "       [    0,     5,    11,    16,  6832]])"
      ]
     },
     "execution_count": 37,
     "metadata": {},
     "output_type": "execute_result"
    }
   ],
   "source": [
    "confusion_matrix(y_test, pred)"
   ]
  },
  {
   "cell_type": "code",
   "execution_count": 47,
   "metadata": {},
   "outputs": [],
   "source": [
    "pickle.dump(classification_model, open(\"classification_model.sav\", 'wb'))"
   ]
  },
  {
   "cell_type": "markdown",
   "metadata": {},
   "source": [
    "## Clustering my liked songs"
   ]
  },
  {
   "cell_type": "code",
   "execution_count": 38,
   "metadata": {},
   "outputs": [],
   "source": [
    "liked_songs = pd.read_json(\"./data/spotify-liked-songs.json\")"
   ]
  },
  {
   "cell_type": "code",
   "execution_count": 39,
   "metadata": {},
   "outputs": [
    {
     "name": "stderr",
     "output_type": "stream",
     "text": [
      "<ipython-input-39-0a2eef45c731>:4: SettingWithCopyWarning: \n",
      "A value is trying to be set on a copy of a slice from a DataFrame.\n",
      "Try using .loc[row_indexer,col_indexer] = value instead\n",
      "\n",
      "See the caveats in the documentation: https://pandas.pydata.org/pandas-docs/stable/user_guide/indexing.html#returning-a-view-versus-a-copy\n",
      "  df_liked[\"loudness\"] = minmaxScaler.fit_transform(loudness.reshape(-1, 1))\n"
     ]
    },
    {
     "data": {
      "text/html": [
       "<div>\n",
       "<style scoped>\n",
       "    .dataframe tbody tr th:only-of-type {\n",
       "        vertical-align: middle;\n",
       "    }\n",
       "\n",
       "    .dataframe tbody tr th {\n",
       "        vertical-align: top;\n",
       "    }\n",
       "\n",
       "    .dataframe thead th {\n",
       "        text-align: right;\n",
       "    }\n",
       "</style>\n",
       "<table border=\"1\" class=\"dataframe\">\n",
       "  <thead>\n",
       "    <tr style=\"text-align: right;\">\n",
       "      <th></th>\n",
       "      <th>valence</th>\n",
       "      <th>acousticness</th>\n",
       "      <th>danceability</th>\n",
       "      <th>energy</th>\n",
       "      <th>instrumentalness</th>\n",
       "      <th>liveness</th>\n",
       "      <th>loudness</th>\n",
       "      <th>speechiness</th>\n",
       "    </tr>\n",
       "  </thead>\n",
       "  <tbody>\n",
       "    <tr>\n",
       "      <th>0</th>\n",
       "      <td>0.437</td>\n",
       "      <td>0.09410</td>\n",
       "      <td>0.728</td>\n",
       "      <td>0.612</td>\n",
       "      <td>0.18800</td>\n",
       "      <td>0.3990</td>\n",
       "      <td>0.427254</td>\n",
       "      <td>0.0499</td>\n",
       "    </tr>\n",
       "    <tr>\n",
       "      <th>1</th>\n",
       "      <td>0.626</td>\n",
       "      <td>0.06060</td>\n",
       "      <td>0.503</td>\n",
       "      <td>0.935</td>\n",
       "      <td>0.83100</td>\n",
       "      <td>0.1340</td>\n",
       "      <td>0.598425</td>\n",
       "      <td>0.0368</td>\n",
       "    </tr>\n",
       "    <tr>\n",
       "      <th>2</th>\n",
       "      <td>0.157</td>\n",
       "      <td>0.11300</td>\n",
       "      <td>0.204</td>\n",
       "      <td>0.886</td>\n",
       "      <td>0.00450</td>\n",
       "      <td>0.3500</td>\n",
       "      <td>1.000000</td>\n",
       "      <td>0.0662</td>\n",
       "    </tr>\n",
       "    <tr>\n",
       "      <th>3</th>\n",
       "      <td>0.660</td>\n",
       "      <td>0.00897</td>\n",
       "      <td>0.655</td>\n",
       "      <td>0.971</td>\n",
       "      <td>0.00005</td>\n",
       "      <td>0.0771</td>\n",
       "      <td>0.955097</td>\n",
       "      <td>0.0833</td>\n",
       "    </tr>\n",
       "    <tr>\n",
       "      <th>4</th>\n",
       "      <td>0.265</td>\n",
       "      <td>0.00234</td>\n",
       "      <td>0.527</td>\n",
       "      <td>0.949</td>\n",
       "      <td>0.82900</td>\n",
       "      <td>0.1060</td>\n",
       "      <td>0.845925</td>\n",
       "      <td>0.0441</td>\n",
       "    </tr>\n",
       "  </tbody>\n",
       "</table>\n",
       "</div>"
      ],
      "text/plain": [
       "   valence  acousticness  danceability  energy  instrumentalness  liveness  \\\n",
       "0    0.437       0.09410         0.728   0.612           0.18800    0.3990   \n",
       "1    0.626       0.06060         0.503   0.935           0.83100    0.1340   \n",
       "2    0.157       0.11300         0.204   0.886           0.00450    0.3500   \n",
       "3    0.660       0.00897         0.655   0.971           0.00005    0.0771   \n",
       "4    0.265       0.00234         0.527   0.949           0.82900    0.1060   \n",
       "\n",
       "   loudness  speechiness  \n",
       "0  0.427254       0.0499  \n",
       "1  0.598425       0.0368  \n",
       "2  1.000000       0.0662  \n",
       "3  0.955097       0.0833  \n",
       "4  0.845925       0.0441  "
      ]
     },
     "execution_count": 39,
     "metadata": {},
     "output_type": "execute_result"
    }
   ],
   "source": [
    "df_liked = liked_songs[feat_cols]\n",
    "\n",
    "loudness = df_liked[\"loudness\"].values\n",
    "df_liked[\"loudness\"] = minmaxScaler.fit_transform(loudness.reshape(-1, 1))\n",
    "\n",
    "df_liked.head()"
   ]
  },
  {
   "cell_type": "code",
   "execution_count": 40,
   "metadata": {},
   "outputs": [],
   "source": [
    "liked_songs['cluster'] = classification_model.predict(df_liked)"
   ]
  },
  {
   "cell_type": "code",
   "execution_count": 41,
   "metadata": {},
   "outputs": [
    {
     "data": {
      "text/plain": [
       "2    126\n",
       "1     15\n",
       "4     14\n",
       "3     10\n",
       "Name: cluster, dtype: int64"
      ]
     },
     "execution_count": 41,
     "metadata": {},
     "output_type": "execute_result"
    }
   ],
   "source": [
    "liked_songs.cluster.value_counts()"
   ]
  },
  {
   "cell_type": "code",
   "execution_count": 42,
   "metadata": {},
   "outputs": [],
   "source": [
    "liked_songs.to_json(\"./data/my_clustered_liked_songs.json\", orient ='records')"
   ]
  },
  {
   "cell_type": "code",
   "execution_count": null,
   "metadata": {},
   "outputs": [],
   "source": []
  }
 ],
 "metadata": {
  "kernelspec": {
   "display_name": "Python 3",
   "language": "python",
   "name": "python3"
  },
  "language_info": {
   "codemirror_mode": {
    "name": "ipython",
    "version": 3
   },
   "file_extension": ".py",
   "mimetype": "text/x-python",
   "name": "python",
   "nbconvert_exporter": "python",
   "pygments_lexer": "ipython3",
   "version": "3.8.3"
  }
 },
 "nbformat": 4,
 "nbformat_minor": 4
}
