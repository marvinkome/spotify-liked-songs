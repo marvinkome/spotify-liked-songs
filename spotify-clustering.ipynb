{
 "cells": [
  {
   "cell_type": "markdown",
   "metadata": {},
   "source": [
    "# Spotify liked song clustering"
   ]
  },
  {
   "cell_type": "code",
   "execution_count": 1,
   "metadata": {},
   "outputs": [],
   "source": [
    "import pandas as pd\n",
    "import seaborn as sns\n",
    "import matplotlib.pyplot as plt\n",
    "import numpy as np\n",
    "import re\n",
    "\n",
    "%matplotlib inline"
   ]
  },
  {
   "cell_type": "code",
   "execution_count": 2,
   "metadata": {},
   "outputs": [],
   "source": [
    "data = pd.read_json(\"./data/spotify-liked-songs.json\")"
   ]
  },
  {
   "cell_type": "markdown",
   "metadata": {},
   "source": [
    "## Data cleaning"
   ]
  },
  {
   "cell_type": "code",
   "execution_count": 3,
   "metadata": {},
   "outputs": [
    {
     "data": {
      "text/html": [
       "<div>\n",
       "<style scoped>\n",
       "    .dataframe tbody tr th:only-of-type {\n",
       "        vertical-align: middle;\n",
       "    }\n",
       "\n",
       "    .dataframe tbody tr th {\n",
       "        vertical-align: top;\n",
       "    }\n",
       "\n",
       "    .dataframe thead th {\n",
       "        text-align: right;\n",
       "    }\n",
       "</style>\n",
       "<table border=\"1\" class=\"dataframe\">\n",
       "  <thead>\n",
       "    <tr style=\"text-align: right;\">\n",
       "      <th></th>\n",
       "      <th>explicit</th>\n",
       "      <th>danceability</th>\n",
       "      <th>energy</th>\n",
       "      <th>loudness</th>\n",
       "      <th>speechiness</th>\n",
       "      <th>acousticness</th>\n",
       "      <th>instrumentalness</th>\n",
       "      <th>liveness</th>\n",
       "      <th>valence</th>\n",
       "    </tr>\n",
       "  </thead>\n",
       "  <tbody>\n",
       "    <tr>\n",
       "      <th>0</th>\n",
       "      <td>False</td>\n",
       "      <td>0.728</td>\n",
       "      <td>0.612</td>\n",
       "      <td>-10.106</td>\n",
       "      <td>0.0499</td>\n",
       "      <td>0.09410</td>\n",
       "      <td>0.18800</td>\n",
       "      <td>0.3990</td>\n",
       "      <td>0.437</td>\n",
       "    </tr>\n",
       "    <tr>\n",
       "      <th>1</th>\n",
       "      <td>False</td>\n",
       "      <td>0.503</td>\n",
       "      <td>0.935</td>\n",
       "      <td>-7.693</td>\n",
       "      <td>0.0368</td>\n",
       "      <td>0.06060</td>\n",
       "      <td>0.83100</td>\n",
       "      <td>0.1340</td>\n",
       "      <td>0.626</td>\n",
       "    </tr>\n",
       "    <tr>\n",
       "      <th>2</th>\n",
       "      <td>True</td>\n",
       "      <td>0.204</td>\n",
       "      <td>0.886</td>\n",
       "      <td>-2.032</td>\n",
       "      <td>0.0662</td>\n",
       "      <td>0.11300</td>\n",
       "      <td>0.00450</td>\n",
       "      <td>0.3500</td>\n",
       "      <td>0.157</td>\n",
       "    </tr>\n",
       "    <tr>\n",
       "      <th>3</th>\n",
       "      <td>False</td>\n",
       "      <td>0.655</td>\n",
       "      <td>0.971</td>\n",
       "      <td>-2.665</td>\n",
       "      <td>0.0833</td>\n",
       "      <td>0.00897</td>\n",
       "      <td>0.00005</td>\n",
       "      <td>0.0771</td>\n",
       "      <td>0.660</td>\n",
       "    </tr>\n",
       "    <tr>\n",
       "      <th>4</th>\n",
       "      <td>False</td>\n",
       "      <td>0.527</td>\n",
       "      <td>0.949</td>\n",
       "      <td>-4.204</td>\n",
       "      <td>0.0441</td>\n",
       "      <td>0.00234</td>\n",
       "      <td>0.82900</td>\n",
       "      <td>0.1060</td>\n",
       "      <td>0.265</td>\n",
       "    </tr>\n",
       "  </tbody>\n",
       "</table>\n",
       "</div>"
      ],
      "text/plain": [
       "   explicit  danceability  energy  loudness  speechiness  acousticness  \\\n",
       "0     False         0.728   0.612   -10.106       0.0499       0.09410   \n",
       "1     False         0.503   0.935    -7.693       0.0368       0.06060   \n",
       "2      True         0.204   0.886    -2.032       0.0662       0.11300   \n",
       "3     False         0.655   0.971    -2.665       0.0833       0.00897   \n",
       "4     False         0.527   0.949    -4.204       0.0441       0.00234   \n",
       "\n",
       "   instrumentalness  liveness  valence  \n",
       "0           0.18800    0.3990    0.437  \n",
       "1           0.83100    0.1340    0.626  \n",
       "2           0.00450    0.3500    0.157  \n",
       "3           0.00005    0.0771    0.660  \n",
       "4           0.82900    0.1060    0.265  "
      ]
     },
     "execution_count": 3,
     "metadata": {},
     "output_type": "execute_result"
    }
   ],
   "source": [
    "df = data[['explicit', 'danceability', 'energy', 'loudness', \n",
    "           'speechiness', 'acousticness', 'instrumentalness', 'liveness', 'valence']]\n",
    "\n",
    "df.head()"
   ]
  },
  {
   "cell_type": "code",
   "execution_count": 4,
   "metadata": {},
   "outputs": [
    {
     "name": "stderr",
     "output_type": "stream",
     "text": [
      "/Users/marvinkome/opt/anaconda3/lib/python3.8/site-packages/pandas/core/generic.py:5303: SettingWithCopyWarning: \n",
      "A value is trying to be set on a copy of a slice from a DataFrame.\n",
      "Try using .loc[row_indexer,col_indexer] = value instead\n",
      "\n",
      "See the caveats in the documentation: https://pandas.pydata.org/pandas-docs/stable/user_guide/indexing.html#returning-a-view-versus-a-copy\n",
      "  self[name] = value\n"
     ]
    },
    {
     "data": {
      "text/html": [
       "<div>\n",
       "<style scoped>\n",
       "    .dataframe tbody tr th:only-of-type {\n",
       "        vertical-align: middle;\n",
       "    }\n",
       "\n",
       "    .dataframe tbody tr th {\n",
       "        vertical-align: top;\n",
       "    }\n",
       "\n",
       "    .dataframe thead th {\n",
       "        text-align: right;\n",
       "    }\n",
       "</style>\n",
       "<table border=\"1\" class=\"dataframe\">\n",
       "  <thead>\n",
       "    <tr style=\"text-align: right;\">\n",
       "      <th></th>\n",
       "      <th>explicit</th>\n",
       "      <th>danceability</th>\n",
       "      <th>energy</th>\n",
       "      <th>loudness</th>\n",
       "      <th>speechiness</th>\n",
       "      <th>acousticness</th>\n",
       "      <th>instrumentalness</th>\n",
       "      <th>liveness</th>\n",
       "      <th>valence</th>\n",
       "    </tr>\n",
       "  </thead>\n",
       "  <tbody>\n",
       "    <tr>\n",
       "      <th>0</th>\n",
       "      <td>0</td>\n",
       "      <td>0.728</td>\n",
       "      <td>0.612</td>\n",
       "      <td>-10.106</td>\n",
       "      <td>0.0499</td>\n",
       "      <td>0.09410</td>\n",
       "      <td>0.18800</td>\n",
       "      <td>0.3990</td>\n",
       "      <td>0.437</td>\n",
       "    </tr>\n",
       "    <tr>\n",
       "      <th>1</th>\n",
       "      <td>0</td>\n",
       "      <td>0.503</td>\n",
       "      <td>0.935</td>\n",
       "      <td>-7.693</td>\n",
       "      <td>0.0368</td>\n",
       "      <td>0.06060</td>\n",
       "      <td>0.83100</td>\n",
       "      <td>0.1340</td>\n",
       "      <td>0.626</td>\n",
       "    </tr>\n",
       "    <tr>\n",
       "      <th>2</th>\n",
       "      <td>1</td>\n",
       "      <td>0.204</td>\n",
       "      <td>0.886</td>\n",
       "      <td>-2.032</td>\n",
       "      <td>0.0662</td>\n",
       "      <td>0.11300</td>\n",
       "      <td>0.00450</td>\n",
       "      <td>0.3500</td>\n",
       "      <td>0.157</td>\n",
       "    </tr>\n",
       "    <tr>\n",
       "      <th>3</th>\n",
       "      <td>0</td>\n",
       "      <td>0.655</td>\n",
       "      <td>0.971</td>\n",
       "      <td>-2.665</td>\n",
       "      <td>0.0833</td>\n",
       "      <td>0.00897</td>\n",
       "      <td>0.00005</td>\n",
       "      <td>0.0771</td>\n",
       "      <td>0.660</td>\n",
       "    </tr>\n",
       "    <tr>\n",
       "      <th>4</th>\n",
       "      <td>0</td>\n",
       "      <td>0.527</td>\n",
       "      <td>0.949</td>\n",
       "      <td>-4.204</td>\n",
       "      <td>0.0441</td>\n",
       "      <td>0.00234</td>\n",
       "      <td>0.82900</td>\n",
       "      <td>0.1060</td>\n",
       "      <td>0.265</td>\n",
       "    </tr>\n",
       "  </tbody>\n",
       "</table>\n",
       "</div>"
      ],
      "text/plain": [
       "   explicit  danceability  energy  loudness  speechiness  acousticness  \\\n",
       "0         0         0.728   0.612   -10.106       0.0499       0.09410   \n",
       "1         0         0.503   0.935    -7.693       0.0368       0.06060   \n",
       "2         1         0.204   0.886    -2.032       0.0662       0.11300   \n",
       "3         0         0.655   0.971    -2.665       0.0833       0.00897   \n",
       "4         0         0.527   0.949    -4.204       0.0441       0.00234   \n",
       "\n",
       "   instrumentalness  liveness  valence  \n",
       "0           0.18800    0.3990    0.437  \n",
       "1           0.83100    0.1340    0.626  \n",
       "2           0.00450    0.3500    0.157  \n",
       "3           0.00005    0.0771    0.660  \n",
       "4           0.82900    0.1060    0.265  "
      ]
     },
     "execution_count": 4,
     "metadata": {},
     "output_type": "execute_result"
    }
   ],
   "source": [
    "df.explicit = df.explicit.astype(int)\n",
    "df.head()"
   ]
  },
  {
   "cell_type": "code",
   "execution_count": 5,
   "metadata": {},
   "outputs": [],
   "source": [
    "from sklearn import preprocessing\n",
    "minmaxScaler = preprocessing.MinMaxScaler()"
   ]
  },
  {
   "cell_type": "code",
   "execution_count": 8,
   "metadata": {},
   "outputs": [
    {
     "name": "stderr",
     "output_type": "stream",
     "text": [
      "<ipython-input-8-acf0736ece93>:2: SettingWithCopyWarning: \n",
      "A value is trying to be set on a copy of a slice from a DataFrame.\n",
      "Try using .loc[row_indexer,col_indexer] = value instead\n",
      "\n",
      "See the caveats in the documentation: https://pandas.pydata.org/pandas-docs/stable/user_guide/indexing.html#returning-a-view-versus-a-copy\n",
      "  df[\"loudness\"] = minmaxScaler.fit_transform(loudness.reshape(-1, 1))\n"
     ]
    }
   ],
   "source": [
    "loudness = df[\"loudness\"].values\n",
    "df[\"loudness\"] = minmaxScaler.fit_transform(loudness.reshape(-1, 1))"
   ]
  },
  {
   "cell_type": "code",
   "execution_count": 9,
   "metadata": {},
   "outputs": [
    {
     "data": {
      "text/html": [
       "<div>\n",
       "<style scoped>\n",
       "    .dataframe tbody tr th:only-of-type {\n",
       "        vertical-align: middle;\n",
       "    }\n",
       "\n",
       "    .dataframe tbody tr th {\n",
       "        vertical-align: top;\n",
       "    }\n",
       "\n",
       "    .dataframe thead th {\n",
       "        text-align: right;\n",
       "    }\n",
       "</style>\n",
       "<table border=\"1\" class=\"dataframe\">\n",
       "  <thead>\n",
       "    <tr style=\"text-align: right;\">\n",
       "      <th></th>\n",
       "      <th>explicit</th>\n",
       "      <th>danceability</th>\n",
       "      <th>energy</th>\n",
       "      <th>loudness</th>\n",
       "      <th>speechiness</th>\n",
       "      <th>acousticness</th>\n",
       "      <th>instrumentalness</th>\n",
       "      <th>liveness</th>\n",
       "      <th>valence</th>\n",
       "    </tr>\n",
       "  </thead>\n",
       "  <tbody>\n",
       "    <tr>\n",
       "      <th>0</th>\n",
       "      <td>0</td>\n",
       "      <td>0.728</td>\n",
       "      <td>0.612</td>\n",
       "      <td>0.427254</td>\n",
       "      <td>0.0499</td>\n",
       "      <td>0.09410</td>\n",
       "      <td>0.18800</td>\n",
       "      <td>0.3990</td>\n",
       "      <td>0.437</td>\n",
       "    </tr>\n",
       "    <tr>\n",
       "      <th>1</th>\n",
       "      <td>0</td>\n",
       "      <td>0.503</td>\n",
       "      <td>0.935</td>\n",
       "      <td>0.598425</td>\n",
       "      <td>0.0368</td>\n",
       "      <td>0.06060</td>\n",
       "      <td>0.83100</td>\n",
       "      <td>0.1340</td>\n",
       "      <td>0.626</td>\n",
       "    </tr>\n",
       "    <tr>\n",
       "      <th>2</th>\n",
       "      <td>1</td>\n",
       "      <td>0.204</td>\n",
       "      <td>0.886</td>\n",
       "      <td>1.000000</td>\n",
       "      <td>0.0662</td>\n",
       "      <td>0.11300</td>\n",
       "      <td>0.00450</td>\n",
       "      <td>0.3500</td>\n",
       "      <td>0.157</td>\n",
       "    </tr>\n",
       "    <tr>\n",
       "      <th>3</th>\n",
       "      <td>0</td>\n",
       "      <td>0.655</td>\n",
       "      <td>0.971</td>\n",
       "      <td>0.955097</td>\n",
       "      <td>0.0833</td>\n",
       "      <td>0.00897</td>\n",
       "      <td>0.00005</td>\n",
       "      <td>0.0771</td>\n",
       "      <td>0.660</td>\n",
       "    </tr>\n",
       "    <tr>\n",
       "      <th>4</th>\n",
       "      <td>0</td>\n",
       "      <td>0.527</td>\n",
       "      <td>0.949</td>\n",
       "      <td>0.845925</td>\n",
       "      <td>0.0441</td>\n",
       "      <td>0.00234</td>\n",
       "      <td>0.82900</td>\n",
       "      <td>0.1060</td>\n",
       "      <td>0.265</td>\n",
       "    </tr>\n",
       "  </tbody>\n",
       "</table>\n",
       "</div>"
      ],
      "text/plain": [
       "   explicit  danceability  energy  loudness  speechiness  acousticness  \\\n",
       "0         0         0.728   0.612  0.427254       0.0499       0.09410   \n",
       "1         0         0.503   0.935  0.598425       0.0368       0.06060   \n",
       "2         1         0.204   0.886  1.000000       0.0662       0.11300   \n",
       "3         0         0.655   0.971  0.955097       0.0833       0.00897   \n",
       "4         0         0.527   0.949  0.845925       0.0441       0.00234   \n",
       "\n",
       "   instrumentalness  liveness  valence  \n",
       "0           0.18800    0.3990    0.437  \n",
       "1           0.83100    0.1340    0.626  \n",
       "2           0.00450    0.3500    0.157  \n",
       "3           0.00005    0.0771    0.660  \n",
       "4           0.82900    0.1060    0.265  "
      ]
     },
     "execution_count": 9,
     "metadata": {},
     "output_type": "execute_result"
    }
   ],
   "source": [
    "df.head()"
   ]
  },
  {
   "cell_type": "markdown",
   "metadata": {},
   "source": [
    "### PCA"
   ]
  },
  {
   "cell_type": "code",
   "execution_count": 23,
   "metadata": {},
   "outputs": [],
   "source": [
    "from sklearn.decomposition import PCA"
   ]
  },
  {
   "cell_type": "code",
   "execution_count": 55,
   "metadata": {},
   "outputs": [],
   "source": [
    "pca = PCA(n_components=9)\n",
    "pcaData = pca.fit_transform(df)"
   ]
  },
  {
   "cell_type": "code",
   "execution_count": 56,
   "metadata": {},
   "outputs": [
    {
     "data": {
      "image/png": "[encoded data removed]",
      "text/plain": [
       "<Figure size 432x288 with 1 Axes>"
      ]
     },
     "metadata": {},
     "output_type": "display_data"
    }
   ],
   "source": [
    "f = range(pca.n_components)\n",
    "plt.bar(f, pca.explained_variance_ratio_, color='red')\n",
    "\n",
    "pca_data = pd.DataFrame(pcaData)"
   ]
  },
  {
   "cell_type": "code",
   "execution_count": 57,
   "metadata": {},
   "outputs": [
    {
     "data": {
      "text/html": [
       "<div>\n",
       "<style scoped>\n",
       "    .dataframe tbody tr th:only-of-type {\n",
       "        vertical-align: middle;\n",
       "    }\n",
       "\n",
       "    .dataframe tbody tr th {\n",
       "        vertical-align: top;\n",
       "    }\n",
       "\n",
       "    .dataframe thead th {\n",
       "        text-align: right;\n",
       "    }\n",
       "</style>\n",
       "<table border=\"1\" class=\"dataframe\">\n",
       "  <thead>\n",
       "    <tr style=\"text-align: right;\">\n",
       "      <th></th>\n",
       "      <th>0</th>\n",
       "      <th>1</th>\n",
       "      <th>2</th>\n",
       "      <th>3</th>\n",
       "      <th>4</th>\n",
       "      <th>5</th>\n",
       "      <th>6</th>\n",
       "      <th>7</th>\n",
       "      <th>8</th>\n",
       "    </tr>\n",
       "  </thead>\n",
       "  <tbody>\n",
       "    <tr>\n",
       "      <th>0</th>\n",
       "      <td>0.092354</td>\n",
       "      <td>0.001238</td>\n",
       "      <td>-0.093391</td>\n",
       "      <td>-0.064933</td>\n",
       "      <td>-0.241077</td>\n",
       "      <td>0.063921</td>\n",
       "      <td>0.213952</td>\n",
       "      <td>0.082604</td>\n",
       "      <td>-0.009311</td>\n",
       "    </tr>\n",
       "    <tr>\n",
       "      <th>1</th>\n",
       "      <td>0.391764</td>\n",
       "      <td>-0.509811</td>\n",
       "      <td>0.099151</td>\n",
       "      <td>0.294934</td>\n",
       "      <td>0.014164</td>\n",
       "      <td>0.017771</td>\n",
       "      <td>-0.132427</td>\n",
       "      <td>0.071183</td>\n",
       "      <td>-0.022038</td>\n",
       "    </tr>\n",
       "    <tr>\n",
       "      <th>2</th>\n",
       "      <td>-0.381083</td>\n",
       "      <td>0.093557</td>\n",
       "      <td>1.021761</td>\n",
       "      <td>-0.195418</td>\n",
       "      <td>0.268257</td>\n",
       "      <td>0.198240</td>\n",
       "      <td>0.093029</td>\n",
       "      <td>-0.002508</td>\n",
       "      <td>-0.023466</td>\n",
       "    </tr>\n",
       "    <tr>\n",
       "      <th>3</th>\n",
       "      <td>-0.399769</td>\n",
       "      <td>-0.267386</td>\n",
       "      <td>-0.069591</td>\n",
       "      <td>0.063320</td>\n",
       "      <td>0.169436</td>\n",
       "      <td>-0.177380</td>\n",
       "      <td>-0.002176</td>\n",
       "      <td>0.019699</td>\n",
       "      <td>0.023686</td>\n",
       "    </tr>\n",
       "    <tr>\n",
       "      <th>4</th>\n",
       "      <td>0.408873</td>\n",
       "      <td>-0.603045</td>\n",
       "      <td>0.250291</td>\n",
       "      <td>0.024941</td>\n",
       "      <td>0.175172</td>\n",
       "      <td>-0.159360</td>\n",
       "      <td>0.022373</td>\n",
       "      <td>-0.029644</td>\n",
       "      <td>-0.001274</td>\n",
       "    </tr>\n",
       "  </tbody>\n",
       "</table>\n",
       "</div>"
      ],
      "text/plain": [
       "          0         1         2         3         4         5         6  \\\n",
       "0  0.092354  0.001238 -0.093391 -0.064933 -0.241077  0.063921  0.213952   \n",
       "1  0.391764 -0.509811  0.099151  0.294934  0.014164  0.017771 -0.132427   \n",
       "2 -0.381083  0.093557  1.021761 -0.195418  0.268257  0.198240  0.093029   \n",
       "3 -0.399769 -0.267386 -0.069591  0.063320  0.169436 -0.177380 -0.002176   \n",
       "4  0.408873 -0.603045  0.250291  0.024941  0.175172 -0.159360  0.022373   \n",
       "\n",
       "          7         8  \n",
       "0  0.082604 -0.009311  \n",
       "1  0.071183 -0.022038  \n",
       "2 -0.002508 -0.023466  \n",
       "3  0.019699  0.023686  \n",
       "4 -0.029644 -0.001274  "
      ]
     },
     "execution_count": 57,
     "metadata": {},
     "output_type": "execute_result"
    }
   ],
   "source": [
    "pca_data.head()"
   ]
  },
  {
   "cell_type": "code",
   "execution_count": 58,
   "metadata": {},
   "outputs": [
    {
     "data": {
      "text/plain": [
       "Text(0, 0.5, 'Second component')"
      ]
     },
     "execution_count": 58,
     "metadata": {},
     "output_type": "execute_result"
    },
    {
     "data": {
      "image/png": "[encoded data removed]",
      "text/plain": [
       "<Figure size 576x432 with 1 Axes>"
      ]
     },
     "metadata": {},
     "output_type": "display_data"
    }
   ],
   "source": [
    "plt.figure(figsize=(8, 6))\n",
    "plt.scatter(pca_data[0], pca_data[1], c='blue', alpha=.1)\n",
    "\n",
    "plt.xlabel('First component')\n",
    "plt.ylabel('Second component')"
   ]
  },
  {
   "cell_type": "markdown",
   "metadata": {},
   "source": [
    "## Model"
   ]
  },
  {
   "cell_type": "code",
   "execution_count": 59,
   "metadata": {},
   "outputs": [
    {
     "data": {
      "text/plain": [
       "Text(0, 0.5, 'SSE')"
      ]
     },
     "execution_count": 59,
     "metadata": {},
     "output_type": "execute_result"
    },
    {
     "data": {
      "image/png": "[encoded data removed]",
      "text/plain": [
       "<Figure size 432x288 with 1 Axes>"
      ]
     },
     "metadata": {},
     "output_type": "display_data"
    }
   ],
   "source": [
    "from sklearn.cluster import KMeans\n",
    "\n",
    "ks = range(1, 10)\n",
    "sse = []\n",
    "\n",
    "for k in ks:\n",
    "    kmeans = KMeans(n_clusters=k)\n",
    "    kmeans.fit(pca_data.iloc[:, :2])\n",
    "    sse.append(kmeans.inertia_)\n",
    "    \n",
    "# plt.style.use(\"fivethirtyeight\")\n",
    "plt.plot(ks, sse, '-o', color='black')\n",
    "plt.xticks(ks)\n",
    "plt.xlabel(\"Number of Clusters\")\n",
    "plt.ylabel(\"SSE\")"
   ]
  },
  {
   "cell_type": "code",
   "execution_count": 129,
   "metadata": {},
   "outputs": [
    {
     "data": {
      "text/plain": [
       "KMeans(n_clusters=3)"
      ]
     },
     "execution_count": 129,
     "metadata": {},
     "output_type": "execute_result"
    }
   ],
   "source": [
    "kmeans = KMeans(n_clusters=3)\n",
    "kmeans.fit(pca_data.iloc[:, :2])"
   ]
  },
  {
   "cell_type": "code",
   "execution_count": 130,
   "metadata": {},
   "outputs": [
    {
     "data": {
      "text/plain": [
       "array([0, 1, 0, 0, 1, 0, 1, 2, 2, 1, 1, 0, 1, 0, 1, 0, 1, 0, 2, 0, 2, 2,\n",
       "       1, 0, 0, 0, 0, 1, 0, 0, 0, 0, 2, 0, 2, 0, 2, 0, 0, 2, 0, 2, 0, 1,\n",
       "       2, 2, 0, 0, 0, 0, 0, 0, 0, 0, 1, 1, 0, 2, 2, 2, 2, 0, 2, 0, 0, 0,\n",
       "       0, 2, 0, 2, 2, 0, 1, 1, 0, 2, 0, 0, 0, 2, 0, 0, 0, 0, 0, 0, 1, 0,\n",
       "       0, 2, 0, 0, 0, 0, 1, 1, 1, 1, 0, 1, 0, 2, 0, 0, 2, 1, 0, 0, 1, 0,\n",
       "       2, 1, 1, 1, 2, 2, 2, 2, 2, 0, 1, 0, 2, 0, 0, 0, 2, 2, 0, 0, 0, 0,\n",
       "       0, 0, 0, 0, 0, 0, 1, 1, 0, 2, 0, 0, 0, 0, 1, 0, 0, 2, 0, 0, 1, 0,\n",
       "       0, 0, 1, 2, 0, 0, 0, 0, 0, 0, 1], dtype=int32)"
      ]
     },
     "execution_count": 130,
     "metadata": {},
     "output_type": "execute_result"
    }
   ],
   "source": [
    "kmeans.labels_"
   ]
  },
  {
   "cell_type": "code",
   "execution_count": 131,
   "metadata": {},
   "outputs": [],
   "source": [
    "data['predCol'] = kmeans.labels_"
   ]
  },
  {
   "cell_type": "code",
   "execution_count": 132,
   "metadata": {},
   "outputs": [],
   "source": [
    "ex = data[['predCol', 'name', 'artist', 'danceability', 'energy', 'loudness', \n",
    "           'speechiness', 'acousticness', 'instrumentalness', 'liveness', 'valence']]"
   ]
  },
  {
   "cell_type": "code",
   "execution_count": 156,
   "metadata": {},
   "outputs": [],
   "source": [
    "col1 = ex[ex.predCol == 0]\n",
    "col2 = ex[ex.predCol == 1]\n",
    "col3 = ex[ex.predCol == 2]"
   ]
  },
  {
   "cell_type": "code",
   "execution_count": 157,
   "metadata": {},
   "outputs": [
    {
     "data": {
      "text/plain": [
       "<matplotlib.axes._subplots.AxesSubplot at 0x7fb206466700>"
      ]
     },
     "execution_count": 157,
     "metadata": {},
     "output_type": "execute_result"
    },
    {
     "data": {
      "image/png": "[encoded data removed]",
      "text/plain": [
       "<Figure size 432x288 with 1 Axes>"
      ]
     },
     "metadata": {},
     "output_type": "display_data"
    }
   ],
   "source": [
    "col1[['danceability', 'energy', 'speechiness', \n",
    "      'acousticness', 'instrumentalness', 'liveness', 'valence']].mean().sort_values(ascending=False).plot(kind='bar')"
   ]
  },
  {
   "cell_type": "code",
   "execution_count": 159,
   "metadata": {},
   "outputs": [
    {
     "data": {
      "text/html": [
       "<div>\n",
       "<style scoped>\n",
       "    .dataframe tbody tr th:only-of-type {\n",
       "        vertical-align: middle;\n",
       "    }\n",
       "\n",
       "    .dataframe tbody tr th {\n",
       "        vertical-align: top;\n",
       "    }\n",
       "\n",
       "    .dataframe thead th {\n",
       "        text-align: right;\n",
       "    }\n",
       "</style>\n",
       "<table border=\"1\" class=\"dataframe\">\n",
       "  <thead>\n",
       "    <tr style=\"text-align: right;\">\n",
       "      <th></th>\n",
       "      <th>predCol</th>\n",
       "      <th>name</th>\n",
       "      <th>artist</th>\n",
       "      <th>danceability</th>\n",
       "      <th>energy</th>\n",
       "      <th>loudness</th>\n",
       "      <th>speechiness</th>\n",
       "      <th>acousticness</th>\n",
       "      <th>instrumentalness</th>\n",
       "      <th>liveness</th>\n",
       "      <th>valence</th>\n",
       "    </tr>\n",
       "  </thead>\n",
       "  <tbody>\n",
       "    <tr>\n",
       "      <th>0</th>\n",
       "      <td>0</td>\n",
       "      <td>The Warning</td>\n",
       "      <td>Hot Chip</td>\n",
       "      <td>0.728</td>\n",
       "      <td>0.612</td>\n",
       "      <td>-10.106</td>\n",
       "      <td>0.0499</td>\n",
       "      <td>0.09410</td>\n",
       "      <td>0.188000</td>\n",
       "      <td>0.3990</td>\n",
       "      <td>0.4370</td>\n",
       "    </tr>\n",
       "    <tr>\n",
       "      <th>2</th>\n",
       "      <td>0</td>\n",
       "      <td>dogs</td>\n",
       "      <td>Nouns</td>\n",
       "      <td>0.204</td>\n",
       "      <td>0.886</td>\n",
       "      <td>-2.032</td>\n",
       "      <td>0.0662</td>\n",
       "      <td>0.11300</td>\n",
       "      <td>0.004500</td>\n",
       "      <td>0.3500</td>\n",
       "      <td>0.1570</td>\n",
       "    </tr>\n",
       "    <tr>\n",
       "      <th>3</th>\n",
       "      <td>0</td>\n",
       "      <td>That’s All It Is</td>\n",
       "      <td>The Snuts</td>\n",
       "      <td>0.655</td>\n",
       "      <td>0.971</td>\n",
       "      <td>-2.665</td>\n",
       "      <td>0.0833</td>\n",
       "      <td>0.00897</td>\n",
       "      <td>0.000050</td>\n",
       "      <td>0.0771</td>\n",
       "      <td>0.6600</td>\n",
       "    </tr>\n",
       "    <tr>\n",
       "      <th>5</th>\n",
       "      <td>0</td>\n",
       "      <td>Saturnine</td>\n",
       "      <td>Mystery Jets</td>\n",
       "      <td>0.464</td>\n",
       "      <td>0.561</td>\n",
       "      <td>-5.808</td>\n",
       "      <td>0.0272</td>\n",
       "      <td>0.03390</td>\n",
       "      <td>0.000507</td>\n",
       "      <td>0.1520</td>\n",
       "      <td>0.3070</td>\n",
       "    </tr>\n",
       "    <tr>\n",
       "      <th>11</th>\n",
       "      <td>0</td>\n",
       "      <td>Beach Comber</td>\n",
       "      <td>Real Estate</td>\n",
       "      <td>0.392</td>\n",
       "      <td>0.835</td>\n",
       "      <td>-6.553</td>\n",
       "      <td>0.0596</td>\n",
       "      <td>0.08320</td>\n",
       "      <td>0.009820</td>\n",
       "      <td>0.0769</td>\n",
       "      <td>0.1200</td>\n",
       "    </tr>\n",
       "    <tr>\n",
       "      <th>13</th>\n",
       "      <td>0</td>\n",
       "      <td>Car</td>\n",
       "      <td>Porches</td>\n",
       "      <td>0.559</td>\n",
       "      <td>0.687</td>\n",
       "      <td>-5.874</td>\n",
       "      <td>0.0433</td>\n",
       "      <td>0.07150</td>\n",
       "      <td>0.004490</td>\n",
       "      <td>0.2080</td>\n",
       "      <td>0.5410</td>\n",
       "    </tr>\n",
       "    <tr>\n",
       "      <th>15</th>\n",
       "      <td>0</td>\n",
       "      <td>Tic</td>\n",
       "      <td>No Buses</td>\n",
       "      <td>0.517</td>\n",
       "      <td>0.911</td>\n",
       "      <td>-5.496</td>\n",
       "      <td>0.0544</td>\n",
       "      <td>0.22000</td>\n",
       "      <td>0.002760</td>\n",
       "      <td>0.3500</td>\n",
       "      <td>0.7560</td>\n",
       "    </tr>\n",
       "    <tr>\n",
       "      <th>17</th>\n",
       "      <td>0</td>\n",
       "      <td>City Blues</td>\n",
       "      <td>The Walters</td>\n",
       "      <td>0.445</td>\n",
       "      <td>0.722</td>\n",
       "      <td>-4.624</td>\n",
       "      <td>0.0381</td>\n",
       "      <td>0.03850</td>\n",
       "      <td>0.098400</td>\n",
       "      <td>0.1660</td>\n",
       "      <td>0.3620</td>\n",
       "    </tr>\n",
       "    <tr>\n",
       "      <th>19</th>\n",
       "      <td>0</td>\n",
       "      <td>Chill</td>\n",
       "      <td>Bakar</td>\n",
       "      <td>0.556</td>\n",
       "      <td>0.455</td>\n",
       "      <td>-8.417</td>\n",
       "      <td>0.0594</td>\n",
       "      <td>0.02010</td>\n",
       "      <td>0.000004</td>\n",
       "      <td>0.1280</td>\n",
       "      <td>0.0915</td>\n",
       "    </tr>\n",
       "    <tr>\n",
       "      <th>23</th>\n",
       "      <td>0</td>\n",
       "      <td>Worn / Wander</td>\n",
       "      <td>Vundabar</td>\n",
       "      <td>0.342</td>\n",
       "      <td>0.852</td>\n",
       "      <td>-7.872</td>\n",
       "      <td>0.0513</td>\n",
       "      <td>0.00535</td>\n",
       "      <td>0.033700</td>\n",
       "      <td>0.2920</td>\n",
       "      <td>0.7710</td>\n",
       "    </tr>\n",
       "  </tbody>\n",
       "</table>\n",
       "</div>"
      ],
      "text/plain": [
       "    predCol              name        artist  danceability  energy  loudness  \\\n",
       "0         0       The Warning      Hot Chip         0.728   0.612   -10.106   \n",
       "2         0              dogs         Nouns         0.204   0.886    -2.032   \n",
       "3         0  That’s All It Is     The Snuts         0.655   0.971    -2.665   \n",
       "5         0         Saturnine  Mystery Jets         0.464   0.561    -5.808   \n",
       "11        0      Beach Comber   Real Estate         0.392   0.835    -6.553   \n",
       "13        0               Car       Porches         0.559   0.687    -5.874   \n",
       "15        0               Tic      No Buses         0.517   0.911    -5.496   \n",
       "17        0        City Blues   The Walters         0.445   0.722    -4.624   \n",
       "19        0             Chill         Bakar         0.556   0.455    -8.417   \n",
       "23        0     Worn / Wander      Vundabar         0.342   0.852    -7.872   \n",
       "\n",
       "    speechiness  acousticness  instrumentalness  liveness  valence  \n",
       "0        0.0499       0.09410          0.188000    0.3990   0.4370  \n",
       "2        0.0662       0.11300          0.004500    0.3500   0.1570  \n",
       "3        0.0833       0.00897          0.000050    0.0771   0.6600  \n",
       "5        0.0272       0.03390          0.000507    0.1520   0.3070  \n",
       "11       0.0596       0.08320          0.009820    0.0769   0.1200  \n",
       "13       0.0433       0.07150          0.004490    0.2080   0.5410  \n",
       "15       0.0544       0.22000          0.002760    0.3500   0.7560  \n",
       "17       0.0381       0.03850          0.098400    0.1660   0.3620  \n",
       "19       0.0594       0.02010          0.000004    0.1280   0.0915  \n",
       "23       0.0513       0.00535          0.033700    0.2920   0.7710  "
      ]
     },
     "execution_count": 159,
     "metadata": {},
     "output_type": "execute_result"
    }
   ],
   "source": [
    "col1.head(10)"
   ]
  },
  {
   "cell_type": "code",
   "execution_count": 152,
   "metadata": {
    "scrolled": true
   },
   "outputs": [
    {
     "data": {
      "text/plain": [
       "<matplotlib.axes._subplots.AxesSubplot at 0x7fb2095f2940>"
      ]
     },
     "execution_count": 152,
     "metadata": {},
     "output_type": "execute_result"
    },
    {
     "data": {
      "image/png": "[encoded data removed]",
      "text/plain": [
       "<Figure size 432x288 with 1 Axes>"
      ]
     },
     "metadata": {},
     "output_type": "display_data"
    }
   ],
   "source": [
    "col2[['danceability', 'energy', 'speechiness', \n",
    "      'acousticness', 'instrumentalness', 'liveness', 'valence']].mean().sort_values(ascending=False).plot(kind='bar')"
   ]
  },
  {
   "cell_type": "code",
   "execution_count": 154,
   "metadata": {},
   "outputs": [
    {
     "data": {
      "text/html": [
       "<div>\n",
       "<style scoped>\n",
       "    .dataframe tbody tr th:only-of-type {\n",
       "        vertical-align: middle;\n",
       "    }\n",
       "\n",
       "    .dataframe tbody tr th {\n",
       "        vertical-align: top;\n",
       "    }\n",
       "\n",
       "    .dataframe thead th {\n",
       "        text-align: right;\n",
       "    }\n",
       "</style>\n",
       "<table border=\"1\" class=\"dataframe\">\n",
       "  <thead>\n",
       "    <tr style=\"text-align: right;\">\n",
       "      <th></th>\n",
       "      <th>predCol</th>\n",
       "      <th>name</th>\n",
       "      <th>artist</th>\n",
       "      <th>danceability</th>\n",
       "      <th>energy</th>\n",
       "      <th>loudness</th>\n",
       "      <th>speechiness</th>\n",
       "      <th>acousticness</th>\n",
       "      <th>instrumentalness</th>\n",
       "      <th>liveness</th>\n",
       "      <th>valence</th>\n",
       "    </tr>\n",
       "  </thead>\n",
       "  <tbody>\n",
       "    <tr>\n",
       "      <th>1</th>\n",
       "      <td>1</td>\n",
       "      <td>Annie Blue</td>\n",
       "      <td>LAUNDER</td>\n",
       "      <td>0.503</td>\n",
       "      <td>0.935</td>\n",
       "      <td>-7.693</td>\n",
       "      <td>0.0368</td>\n",
       "      <td>0.06060</td>\n",
       "      <td>0.831</td>\n",
       "      <td>0.1340</td>\n",
       "      <td>0.6260</td>\n",
       "    </tr>\n",
       "    <tr>\n",
       "      <th>4</th>\n",
       "      <td>1</td>\n",
       "      <td>Hypnagogic (I Can't Wait)</td>\n",
       "      <td>Love Regenerator,Calvin Harris</td>\n",
       "      <td>0.527</td>\n",
       "      <td>0.949</td>\n",
       "      <td>-4.204</td>\n",
       "      <td>0.0441</td>\n",
       "      <td>0.00234</td>\n",
       "      <td>0.829</td>\n",
       "      <td>0.1060</td>\n",
       "      <td>0.2650</td>\n",
       "    </tr>\n",
       "    <tr>\n",
       "      <th>6</th>\n",
       "      <td>1</td>\n",
       "      <td>Vinta</td>\n",
       "      <td>Crumb</td>\n",
       "      <td>0.326</td>\n",
       "      <td>0.728</td>\n",
       "      <td>-8.264</td>\n",
       "      <td>0.0434</td>\n",
       "      <td>0.01260</td>\n",
       "      <td>0.485</td>\n",
       "      <td>0.2370</td>\n",
       "      <td>0.5060</td>\n",
       "    </tr>\n",
       "    <tr>\n",
       "      <th>9</th>\n",
       "      <td>1</td>\n",
       "      <td>Кафе для дураков (Remastered)</td>\n",
       "      <td>Buerak</td>\n",
       "      <td>0.560</td>\n",
       "      <td>0.926</td>\n",
       "      <td>-5.742</td>\n",
       "      <td>0.0734</td>\n",
       "      <td>0.07060</td>\n",
       "      <td>0.851</td>\n",
       "      <td>0.4380</td>\n",
       "      <td>0.3300</td>\n",
       "    </tr>\n",
       "    <tr>\n",
       "      <th>10</th>\n",
       "      <td>1</td>\n",
       "      <td>Zion</td>\n",
       "      <td>Fluke</td>\n",
       "      <td>0.601</td>\n",
       "      <td>0.900</td>\n",
       "      <td>-6.781</td>\n",
       "      <td>0.0578</td>\n",
       "      <td>0.01250</td>\n",
       "      <td>0.936</td>\n",
       "      <td>0.0847</td>\n",
       "      <td>0.0394</td>\n",
       "    </tr>\n",
       "  </tbody>\n",
       "</table>\n",
       "</div>"
      ],
      "text/plain": [
       "    predCol                           name                          artist  \\\n",
       "1         1                     Annie Blue                         LAUNDER   \n",
       "4         1      Hypnagogic (I Can't Wait)  Love Regenerator,Calvin Harris   \n",
       "6         1                          Vinta                           Crumb   \n",
       "9         1  Кафе для дураков (Remastered)                          Buerak   \n",
       "10        1                           Zion                           Fluke   \n",
       "\n",
       "    danceability  energy  loudness  speechiness  acousticness  \\\n",
       "1          0.503   0.935    -7.693       0.0368       0.06060   \n",
       "4          0.527   0.949    -4.204       0.0441       0.00234   \n",
       "6          0.326   0.728    -8.264       0.0434       0.01260   \n",
       "9          0.560   0.926    -5.742       0.0734       0.07060   \n",
       "10         0.601   0.900    -6.781       0.0578       0.01250   \n",
       "\n",
       "    instrumentalness  liveness  valence  \n",
       "1              0.831    0.1340   0.6260  \n",
       "4              0.829    0.1060   0.2650  \n",
       "6              0.485    0.2370   0.5060  \n",
       "9              0.851    0.4380   0.3300  \n",
       "10             0.936    0.0847   0.0394  "
      ]
     },
     "execution_count": 154,
     "metadata": {},
     "output_type": "execute_result"
    }
   ],
   "source": [
    "col2.head()"
   ]
  },
  {
   "cell_type": "code",
   "execution_count": 153,
   "metadata": {},
   "outputs": [
    {
     "data": {
      "text/plain": [
       "<matplotlib.axes._subplots.AxesSubplot at 0x7fb2066f76a0>"
      ]
     },
     "execution_count": 153,
     "metadata": {},
     "output_type": "execute_result"
    },
    {
     "data": {
      "image/png": "[encoded data removed]",
      "text/plain": [
       "<Figure size 432x288 with 1 Axes>"
      ]
     },
     "metadata": {},
     "output_type": "display_data"
    }
   ],
   "source": [
    "col3[['danceability', 'energy', 'speechiness', \n",
    "      'acousticness', 'instrumentalness', 'liveness', 'valence']].mean().sort_values(ascending=False).plot(kind='bar')"
   ]
  },
  {
   "cell_type": "code",
   "execution_count": 155,
   "metadata": {},
   "outputs": [
    {
     "data": {
      "text/html": [
       "<div>\n",
       "<style scoped>\n",
       "    .dataframe tbody tr th:only-of-type {\n",
       "        vertical-align: middle;\n",
       "    }\n",
       "\n",
       "    .dataframe tbody tr th {\n",
       "        vertical-align: top;\n",
       "    }\n",
       "\n",
       "    .dataframe thead th {\n",
       "        text-align: right;\n",
       "    }\n",
       "</style>\n",
       "<table border=\"1\" class=\"dataframe\">\n",
       "  <thead>\n",
       "    <tr style=\"text-align: right;\">\n",
       "      <th></th>\n",
       "      <th>predCol</th>\n",
       "      <th>name</th>\n",
       "      <th>artist</th>\n",
       "      <th>danceability</th>\n",
       "      <th>energy</th>\n",
       "      <th>loudness</th>\n",
       "      <th>speechiness</th>\n",
       "      <th>acousticness</th>\n",
       "      <th>instrumentalness</th>\n",
       "      <th>liveness</th>\n",
       "      <th>valence</th>\n",
       "    </tr>\n",
       "  </thead>\n",
       "  <tbody>\n",
       "    <tr>\n",
       "      <th>7</th>\n",
       "      <td>2</td>\n",
       "      <td>anemone</td>\n",
       "      <td>slenderbodies</td>\n",
       "      <td>0.854</td>\n",
       "      <td>0.631</td>\n",
       "      <td>-8.197</td>\n",
       "      <td>0.0452</td>\n",
       "      <td>0.884</td>\n",
       "      <td>0.00999</td>\n",
       "      <td>0.2020</td>\n",
       "      <td>0.609</td>\n",
       "    </tr>\n",
       "    <tr>\n",
       "      <th>8</th>\n",
       "      <td>2</td>\n",
       "      <td>Best Worst Year</td>\n",
       "      <td>Strabe</td>\n",
       "      <td>0.707</td>\n",
       "      <td>0.706</td>\n",
       "      <td>-9.423</td>\n",
       "      <td>0.0664</td>\n",
       "      <td>0.344</td>\n",
       "      <td>0.01020</td>\n",
       "      <td>0.0938</td>\n",
       "      <td>0.594</td>\n",
       "    </tr>\n",
       "    <tr>\n",
       "      <th>18</th>\n",
       "      <td>2</td>\n",
       "      <td>Small Town Girl</td>\n",
       "      <td>Bakar</td>\n",
       "      <td>0.814</td>\n",
       "      <td>0.520</td>\n",
       "      <td>-5.651</td>\n",
       "      <td>0.0418</td>\n",
       "      <td>0.832</td>\n",
       "      <td>0.00000</td>\n",
       "      <td>0.2730</td>\n",
       "      <td>0.734</td>\n",
       "    </tr>\n",
       "    <tr>\n",
       "      <th>20</th>\n",
       "      <td>2</td>\n",
       "      <td>Stop Selling Her Drugs (feat. Dominic Fike)</td>\n",
       "      <td>Bakar,Dominic Fike</td>\n",
       "      <td>0.847</td>\n",
       "      <td>0.275</td>\n",
       "      <td>-6.440</td>\n",
       "      <td>0.1130</td>\n",
       "      <td>0.607</td>\n",
       "      <td>0.00000</td>\n",
       "      <td>0.0737</td>\n",
       "      <td>0.764</td>\n",
       "    </tr>\n",
       "    <tr>\n",
       "      <th>21</th>\n",
       "      <td>2</td>\n",
       "      <td>Hell N Back</td>\n",
       "      <td>Bakar</td>\n",
       "      <td>0.584</td>\n",
       "      <td>0.684</td>\n",
       "      <td>-4.314</td>\n",
       "      <td>0.5670</td>\n",
       "      <td>0.312</td>\n",
       "      <td>0.00009</td>\n",
       "      <td>0.1120</td>\n",
       "      <td>0.720</td>\n",
       "    </tr>\n",
       "  </tbody>\n",
       "</table>\n",
       "</div>"
      ],
      "text/plain": [
       "    predCol                                         name              artist  \\\n",
       "7         2                                      anemone       slenderbodies   \n",
       "8         2                              Best Worst Year              Strabe   \n",
       "18        2                              Small Town Girl               Bakar   \n",
       "20        2  Stop Selling Her Drugs (feat. Dominic Fike)  Bakar,Dominic Fike   \n",
       "21        2                                  Hell N Back               Bakar   \n",
       "\n",
       "    danceability  energy  loudness  speechiness  acousticness  \\\n",
       "7          0.854   0.631    -8.197       0.0452         0.884   \n",
       "8          0.707   0.706    -9.423       0.0664         0.344   \n",
       "18         0.814   0.520    -5.651       0.0418         0.832   \n",
       "20         0.847   0.275    -6.440       0.1130         0.607   \n",
       "21         0.584   0.684    -4.314       0.5670         0.312   \n",
       "\n",
       "    instrumentalness  liveness  valence  \n",
       "7            0.00999    0.2020    0.609  \n",
       "8            0.01020    0.0938    0.594  \n",
       "18           0.00000    0.2730    0.734  \n",
       "20           0.00000    0.0737    0.764  \n",
       "21           0.00009    0.1120    0.720  "
      ]
     },
     "execution_count": 155,
     "metadata": {},
     "output_type": "execute_result"
    }
   ],
   "source": [
    "col3.head()"
   ]
  },
  {
   "cell_type": "code",
   "execution_count": null,
   "metadata": {},
   "outputs": [],
   "source": []
  }
 ],
 "metadata": {
  "kernelspec": {
   "display_name": "Python 3",
   "language": "python",
   "name": "python3"
  },
  "language_info": {
   "codemirror_mode": {
    "name": "ipython",
    "version": 3
   },
   "file_extension": ".py",
   "mimetype": "text/x-python",
   "name": "python",
   "nbconvert_exporter": "python",
   "pygments_lexer": "ipython3",
   "version": "3.8.3"
  }
 },
 "nbformat": 4,
 "nbformat_minor": 4
}
